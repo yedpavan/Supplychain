{
 "cells": [
  {
   "cell_type": "code",
   "execution_count": 1,
   "id": "dedd1e73",
   "metadata": {
    "_cell_guid": "b1076dfc-b9ad-4769-8c92-a6c4dae69d19",
    "_uuid": "8f2839f25d086af736a60e9eeb907d3b93b6e0e5",
    "execution": {
     "iopub.execute_input": "2023-04-07T15:08:06.270905Z",
     "iopub.status.busy": "2023-04-07T15:08:06.270386Z",
     "iopub.status.idle": "2023-04-07T15:08:06.294883Z",
     "shell.execute_reply": "2023-04-07T15:08:06.293573Z"
    },
    "papermill": {
     "duration": 0.045672,
     "end_time": "2023-04-07T15:08:06.297867",
     "exception": false,
     "start_time": "2023-04-07T15:08:06.252195",
     "status": "completed"
    },
    "tags": []
   },
   "outputs": [
    {
     "name": "stdout",
     "output_type": "stream",
     "text": [
      "/kaggle/input/dataco-smart-supply-chain-for-big-data-analysis/tokenized_access_logs.csv\n",
      "/kaggle/input/dataco-smart-supply-chain-for-big-data-analysis/DataCoSupplyChainDataset.csv\n",
      "/kaggle/input/dataco-smart-supply-chain-for-big-data-analysis/DescriptionDataCoSupplyChain.csv\n",
      "/kaggle/input/d/jolenechen/datacosupplychaindataset/DataCoSupplyChainDataset.csv\n"
     ]
    }
   ],
   "source": [
    "import os\n",
    "for dirname, _, filenames in os.walk('/kaggle/input'):\n",
    "    for filename in filenames:\n",
    "        print(os.path.join(dirname, filename))"
   ]
  },
  {
   "cell_type": "code",
   "execution_count": 2,
   "id": "43cf36ad",
   "metadata": {
    "execution": {
     "iopub.execute_input": "2023-04-07T15:08:06.331681Z",
     "iopub.status.busy": "2023-04-07T15:08:06.331208Z",
     "iopub.status.idle": "2023-04-07T15:08:11.955187Z",
     "shell.execute_reply": "2023-04-07T15:08:11.954097Z"
    },
    "papermill": {
     "duration": 5.645238,
     "end_time": "2023-04-07T15:08:11.958070",
     "exception": false,
     "start_time": "2023-04-07T15:08:06.312832",
     "status": "completed"
    },
    "tags": []
   },
   "outputs": [],
   "source": [
    "import pandas as pd\n",
    "import numpy as np\n",
    "import matplotlib.pyplot as plt\n",
    "import seaborn as sns\n",
    "from scipy import stats\n",
    "import pandas_profiling as pp \n",
    "import plotly.express as px \n",
    "import plotly.graph_objects as go"
   ]
  },
  {
   "cell_type": "code",
   "execution_count": 3,
   "id": "794b0cf3",
   "metadata": {
    "execution": {
     "iopub.execute_input": "2023-04-07T15:08:11.990376Z",
     "iopub.status.busy": "2023-04-07T15:08:11.989916Z",
     "iopub.status.idle": "2023-04-07T15:08:15.697220Z",
     "shell.execute_reply": "2023-04-07T15:08:15.696176Z"
    },
    "papermill": {
     "duration": 3.727351,
     "end_time": "2023-04-07T15:08:15.700092",
     "exception": false,
     "start_time": "2023-04-07T15:08:11.972741",
     "status": "completed"
    },
    "tags": []
   },
   "outputs": [],
   "source": [
    "df = pd.read_csv('/kaggle/input/dataco-smart-supply-chain-for-big-data-analysis/DataCoSupplyChainDataset.csv', header= 0, encoding= 'unicode_escape')"
   ]
  },
  {
   "cell_type": "code",
   "execution_count": 4,
   "id": "6bf6f123",
   "metadata": {
    "execution": {
     "iopub.execute_input": "2023-04-07T15:08:15.733377Z",
     "iopub.status.busy": "2023-04-07T15:08:15.732421Z",
     "iopub.status.idle": "2023-04-07T15:08:15.778508Z",
     "shell.execute_reply": "2023-04-07T15:08:15.777186Z"
    },
    "papermill": {
     "duration": 0.065055,
     "end_time": "2023-04-07T15:08:15.781053",
     "exception": false,
     "start_time": "2023-04-07T15:08:15.715998",
     "status": "completed"
    },
    "tags": []
   },
   "outputs": [
    {
     "data": {
      "text/html": [
       "<div>\n",
       "<style scoped>\n",
       "    .dataframe tbody tr th:only-of-type {\n",
       "        vertical-align: middle;\n",
       "    }\n",
       "\n",
       "    .dataframe tbody tr th {\n",
       "        vertical-align: top;\n",
       "    }\n",
       "\n",
       "    .dataframe thead th {\n",
       "        text-align: right;\n",
       "    }\n",
       "</style>\n",
       "<table border=\"1\" class=\"dataframe\">\n",
       "  <thead>\n",
       "    <tr style=\"text-align: right;\">\n",
       "      <th></th>\n",
       "      <th>Type</th>\n",
       "      <th>Days for shipping (real)</th>\n",
       "      <th>Days for shipment (scheduled)</th>\n",
       "      <th>Benefit per order</th>\n",
       "      <th>Sales per customer</th>\n",
       "      <th>Delivery Status</th>\n",
       "      <th>Late_delivery_risk</th>\n",
       "      <th>Category Id</th>\n",
       "      <th>Category Name</th>\n",
       "      <th>Customer City</th>\n",
       "      <th>...</th>\n",
       "      <th>Order Zipcode</th>\n",
       "      <th>Product Card Id</th>\n",
       "      <th>Product Category Id</th>\n",
       "      <th>Product Description</th>\n",
       "      <th>Product Image</th>\n",
       "      <th>Product Name</th>\n",
       "      <th>Product Price</th>\n",
       "      <th>Product Status</th>\n",
       "      <th>shipping date (DateOrders)</th>\n",
       "      <th>Shipping Mode</th>\n",
       "    </tr>\n",
       "  </thead>\n",
       "  <tbody>\n",
       "    <tr>\n",
       "      <th>0</th>\n",
       "      <td>DEBIT</td>\n",
       "      <td>3</td>\n",
       "      <td>4</td>\n",
       "      <td>91.250000</td>\n",
       "      <td>314.640015</td>\n",
       "      <td>Advance shipping</td>\n",
       "      <td>0</td>\n",
       "      <td>73</td>\n",
       "      <td>Sporting Goods</td>\n",
       "      <td>Caguas</td>\n",
       "      <td>...</td>\n",
       "      <td>NaN</td>\n",
       "      <td>1360</td>\n",
       "      <td>73</td>\n",
       "      <td>NaN</td>\n",
       "      <td>http://images.acmesports.sports/Smart+watch</td>\n",
       "      <td>Smart watch</td>\n",
       "      <td>327.75</td>\n",
       "      <td>0</td>\n",
       "      <td>2/3/2018 22:56</td>\n",
       "      <td>Standard Class</td>\n",
       "    </tr>\n",
       "    <tr>\n",
       "      <th>1</th>\n",
       "      <td>TRANSFER</td>\n",
       "      <td>5</td>\n",
       "      <td>4</td>\n",
       "      <td>-249.089996</td>\n",
       "      <td>311.359985</td>\n",
       "      <td>Late delivery</td>\n",
       "      <td>1</td>\n",
       "      <td>73</td>\n",
       "      <td>Sporting Goods</td>\n",
       "      <td>Caguas</td>\n",
       "      <td>...</td>\n",
       "      <td>NaN</td>\n",
       "      <td>1360</td>\n",
       "      <td>73</td>\n",
       "      <td>NaN</td>\n",
       "      <td>http://images.acmesports.sports/Smart+watch</td>\n",
       "      <td>Smart watch</td>\n",
       "      <td>327.75</td>\n",
       "      <td>0</td>\n",
       "      <td>1/18/2018 12:27</td>\n",
       "      <td>Standard Class</td>\n",
       "    </tr>\n",
       "    <tr>\n",
       "      <th>2</th>\n",
       "      <td>CASH</td>\n",
       "      <td>4</td>\n",
       "      <td>4</td>\n",
       "      <td>-247.779999</td>\n",
       "      <td>309.720001</td>\n",
       "      <td>Shipping on time</td>\n",
       "      <td>0</td>\n",
       "      <td>73</td>\n",
       "      <td>Sporting Goods</td>\n",
       "      <td>San Jose</td>\n",
       "      <td>...</td>\n",
       "      <td>NaN</td>\n",
       "      <td>1360</td>\n",
       "      <td>73</td>\n",
       "      <td>NaN</td>\n",
       "      <td>http://images.acmesports.sports/Smart+watch</td>\n",
       "      <td>Smart watch</td>\n",
       "      <td>327.75</td>\n",
       "      <td>0</td>\n",
       "      <td>1/17/2018 12:06</td>\n",
       "      <td>Standard Class</td>\n",
       "    </tr>\n",
       "    <tr>\n",
       "      <th>3</th>\n",
       "      <td>DEBIT</td>\n",
       "      <td>3</td>\n",
       "      <td>4</td>\n",
       "      <td>22.860001</td>\n",
       "      <td>304.809998</td>\n",
       "      <td>Advance shipping</td>\n",
       "      <td>0</td>\n",
       "      <td>73</td>\n",
       "      <td>Sporting Goods</td>\n",
       "      <td>Los Angeles</td>\n",
       "      <td>...</td>\n",
       "      <td>NaN</td>\n",
       "      <td>1360</td>\n",
       "      <td>73</td>\n",
       "      <td>NaN</td>\n",
       "      <td>http://images.acmesports.sports/Smart+watch</td>\n",
       "      <td>Smart watch</td>\n",
       "      <td>327.75</td>\n",
       "      <td>0</td>\n",
       "      <td>1/16/2018 11:45</td>\n",
       "      <td>Standard Class</td>\n",
       "    </tr>\n",
       "    <tr>\n",
       "      <th>4</th>\n",
       "      <td>PAYMENT</td>\n",
       "      <td>2</td>\n",
       "      <td>4</td>\n",
       "      <td>134.210007</td>\n",
       "      <td>298.250000</td>\n",
       "      <td>Advance shipping</td>\n",
       "      <td>0</td>\n",
       "      <td>73</td>\n",
       "      <td>Sporting Goods</td>\n",
       "      <td>Caguas</td>\n",
       "      <td>...</td>\n",
       "      <td>NaN</td>\n",
       "      <td>1360</td>\n",
       "      <td>73</td>\n",
       "      <td>NaN</td>\n",
       "      <td>http://images.acmesports.sports/Smart+watch</td>\n",
       "      <td>Smart watch</td>\n",
       "      <td>327.75</td>\n",
       "      <td>0</td>\n",
       "      <td>1/15/2018 11:24</td>\n",
       "      <td>Standard Class</td>\n",
       "    </tr>\n",
       "  </tbody>\n",
       "</table>\n",
       "<p>5 rows × 53 columns</p>\n",
       "</div>"
      ],
      "text/plain": [
       "       Type  Days for shipping (real)  Days for shipment (scheduled)  \\\n",
       "0     DEBIT                         3                              4   \n",
       "1  TRANSFER                         5                              4   \n",
       "2      CASH                         4                              4   \n",
       "3     DEBIT                         3                              4   \n",
       "4   PAYMENT                         2                              4   \n",
       "\n",
       "   Benefit per order  Sales per customer   Delivery Status  \\\n",
       "0          91.250000          314.640015  Advance shipping   \n",
       "1        -249.089996          311.359985     Late delivery   \n",
       "2        -247.779999          309.720001  Shipping on time   \n",
       "3          22.860001          304.809998  Advance shipping   \n",
       "4         134.210007          298.250000  Advance shipping   \n",
       "\n",
       "   Late_delivery_risk  Category Id   Category Name Customer City  ...  \\\n",
       "0                   0           73  Sporting Goods        Caguas  ...   \n",
       "1                   1           73  Sporting Goods        Caguas  ...   \n",
       "2                   0           73  Sporting Goods      San Jose  ...   \n",
       "3                   0           73  Sporting Goods   Los Angeles  ...   \n",
       "4                   0           73  Sporting Goods        Caguas  ...   \n",
       "\n",
       "  Order Zipcode Product Card Id Product Category Id  Product Description  \\\n",
       "0           NaN            1360                  73                  NaN   \n",
       "1           NaN            1360                  73                  NaN   \n",
       "2           NaN            1360                  73                  NaN   \n",
       "3           NaN            1360                  73                  NaN   \n",
       "4           NaN            1360                  73                  NaN   \n",
       "\n",
       "                                  Product Image  Product Name Product Price  \\\n",
       "0  http://images.acmesports.sports/Smart+watch   Smart watch         327.75   \n",
       "1  http://images.acmesports.sports/Smart+watch   Smart watch         327.75   \n",
       "2  http://images.acmesports.sports/Smart+watch   Smart watch         327.75   \n",
       "3  http://images.acmesports.sports/Smart+watch   Smart watch         327.75   \n",
       "4  http://images.acmesports.sports/Smart+watch   Smart watch         327.75   \n",
       "\n",
       "  Product Status shipping date (DateOrders)   Shipping Mode  \n",
       "0              0             2/3/2018 22:56  Standard Class  \n",
       "1              0            1/18/2018 12:27  Standard Class  \n",
       "2              0            1/17/2018 12:06  Standard Class  \n",
       "3              0            1/16/2018 11:45  Standard Class  \n",
       "4              0            1/15/2018 11:24  Standard Class  \n",
       "\n",
       "[5 rows x 53 columns]"
      ]
     },
     "execution_count": 4,
     "metadata": {},
     "output_type": "execute_result"
    }
   ],
   "source": [
    "df.head()"
   ]
  },
  {
   "cell_type": "code",
   "execution_count": 5,
   "id": "e025a4f9",
   "metadata": {
    "execution": {
     "iopub.execute_input": "2023-04-07T15:08:15.813058Z",
     "iopub.status.busy": "2023-04-07T15:08:15.812300Z",
     "iopub.status.idle": "2023-04-07T15:08:16.055056Z",
     "shell.execute_reply": "2023-04-07T15:08:16.053889Z"
    },
    "papermill": {
     "duration": 0.261481,
     "end_time": "2023-04-07T15:08:16.057605",
     "exception": false,
     "start_time": "2023-04-07T15:08:15.796124",
     "status": "completed"
    },
    "tags": []
   },
   "outputs": [
    {
     "data": {
      "text/html": [
       "<div>\n",
       "<style scoped>\n",
       "    .dataframe tbody tr th:only-of-type {\n",
       "        vertical-align: middle;\n",
       "    }\n",
       "\n",
       "    .dataframe tbody tr th {\n",
       "        vertical-align: top;\n",
       "    }\n",
       "\n",
       "    .dataframe thead th {\n",
       "        text-align: right;\n",
       "    }\n",
       "</style>\n",
       "<table border=\"1\" class=\"dataframe\">\n",
       "  <thead>\n",
       "    <tr style=\"text-align: right;\">\n",
       "      <th></th>\n",
       "      <th>Days for shipping (real)</th>\n",
       "      <th>Days for shipment (scheduled)</th>\n",
       "      <th>Benefit per order</th>\n",
       "      <th>Sales per customer</th>\n",
       "      <th>Late_delivery_risk</th>\n",
       "      <th>Category Id</th>\n",
       "      <th>Customer Id</th>\n",
       "      <th>Customer Zipcode</th>\n",
       "      <th>Department Id</th>\n",
       "      <th>Latitude</th>\n",
       "      <th>...</th>\n",
       "      <th>Order Item Quantity</th>\n",
       "      <th>Sales</th>\n",
       "      <th>Order Item Total</th>\n",
       "      <th>Order Profit Per Order</th>\n",
       "      <th>Order Zipcode</th>\n",
       "      <th>Product Card Id</th>\n",
       "      <th>Product Category Id</th>\n",
       "      <th>Product Description</th>\n",
       "      <th>Product Price</th>\n",
       "      <th>Product Status</th>\n",
       "    </tr>\n",
       "  </thead>\n",
       "  <tbody>\n",
       "    <tr>\n",
       "      <th>count</th>\n",
       "      <td>180519.000000</td>\n",
       "      <td>180519.000000</td>\n",
       "      <td>180519.000000</td>\n",
       "      <td>180519.000000</td>\n",
       "      <td>180519.000000</td>\n",
       "      <td>180519.000000</td>\n",
       "      <td>180519.000000</td>\n",
       "      <td>180516.000000</td>\n",
       "      <td>180519.000000</td>\n",
       "      <td>180519.000000</td>\n",
       "      <td>...</td>\n",
       "      <td>180519.000000</td>\n",
       "      <td>180519.000000</td>\n",
       "      <td>180519.000000</td>\n",
       "      <td>180519.000000</td>\n",
       "      <td>24840.000000</td>\n",
       "      <td>180519.000000</td>\n",
       "      <td>180519.000000</td>\n",
       "      <td>0.0</td>\n",
       "      <td>180519.000000</td>\n",
       "      <td>180519.0</td>\n",
       "    </tr>\n",
       "    <tr>\n",
       "      <th>mean</th>\n",
       "      <td>3.497654</td>\n",
       "      <td>2.931847</td>\n",
       "      <td>21.974989</td>\n",
       "      <td>183.107609</td>\n",
       "      <td>0.548291</td>\n",
       "      <td>31.851451</td>\n",
       "      <td>6691.379495</td>\n",
       "      <td>35921.126914</td>\n",
       "      <td>5.443460</td>\n",
       "      <td>29.719955</td>\n",
       "      <td>...</td>\n",
       "      <td>2.127638</td>\n",
       "      <td>203.772096</td>\n",
       "      <td>183.107609</td>\n",
       "      <td>21.974989</td>\n",
       "      <td>55426.132327</td>\n",
       "      <td>692.509764</td>\n",
       "      <td>31.851451</td>\n",
       "      <td>NaN</td>\n",
       "      <td>141.232550</td>\n",
       "      <td>0.0</td>\n",
       "    </tr>\n",
       "    <tr>\n",
       "      <th>std</th>\n",
       "      <td>1.623722</td>\n",
       "      <td>1.374449</td>\n",
       "      <td>104.433526</td>\n",
       "      <td>120.043670</td>\n",
       "      <td>0.497664</td>\n",
       "      <td>15.640064</td>\n",
       "      <td>4162.918106</td>\n",
       "      <td>37542.461122</td>\n",
       "      <td>1.629246</td>\n",
       "      <td>9.813646</td>\n",
       "      <td>...</td>\n",
       "      <td>1.453451</td>\n",
       "      <td>132.273077</td>\n",
       "      <td>120.043670</td>\n",
       "      <td>104.433526</td>\n",
       "      <td>31919.279101</td>\n",
       "      <td>336.446807</td>\n",
       "      <td>15.640064</td>\n",
       "      <td>NaN</td>\n",
       "      <td>139.732492</td>\n",
       "      <td>0.0</td>\n",
       "    </tr>\n",
       "    <tr>\n",
       "      <th>min</th>\n",
       "      <td>0.000000</td>\n",
       "      <td>0.000000</td>\n",
       "      <td>-4274.979980</td>\n",
       "      <td>7.490000</td>\n",
       "      <td>0.000000</td>\n",
       "      <td>2.000000</td>\n",
       "      <td>1.000000</td>\n",
       "      <td>603.000000</td>\n",
       "      <td>2.000000</td>\n",
       "      <td>-33.937553</td>\n",
       "      <td>...</td>\n",
       "      <td>1.000000</td>\n",
       "      <td>9.990000</td>\n",
       "      <td>7.490000</td>\n",
       "      <td>-4274.979980</td>\n",
       "      <td>1040.000000</td>\n",
       "      <td>19.000000</td>\n",
       "      <td>2.000000</td>\n",
       "      <td>NaN</td>\n",
       "      <td>9.990000</td>\n",
       "      <td>0.0</td>\n",
       "    </tr>\n",
       "    <tr>\n",
       "      <th>25%</th>\n",
       "      <td>2.000000</td>\n",
       "      <td>2.000000</td>\n",
       "      <td>7.000000</td>\n",
       "      <td>104.379997</td>\n",
       "      <td>0.000000</td>\n",
       "      <td>18.000000</td>\n",
       "      <td>3258.500000</td>\n",
       "      <td>725.000000</td>\n",
       "      <td>4.000000</td>\n",
       "      <td>18.265432</td>\n",
       "      <td>...</td>\n",
       "      <td>1.000000</td>\n",
       "      <td>119.980003</td>\n",
       "      <td>104.379997</td>\n",
       "      <td>7.000000</td>\n",
       "      <td>23464.000000</td>\n",
       "      <td>403.000000</td>\n",
       "      <td>18.000000</td>\n",
       "      <td>NaN</td>\n",
       "      <td>50.000000</td>\n",
       "      <td>0.0</td>\n",
       "    </tr>\n",
       "    <tr>\n",
       "      <th>50%</th>\n",
       "      <td>3.000000</td>\n",
       "      <td>4.000000</td>\n",
       "      <td>31.520000</td>\n",
       "      <td>163.990005</td>\n",
       "      <td>1.000000</td>\n",
       "      <td>29.000000</td>\n",
       "      <td>6457.000000</td>\n",
       "      <td>19380.000000</td>\n",
       "      <td>5.000000</td>\n",
       "      <td>33.144863</td>\n",
       "      <td>...</td>\n",
       "      <td>1.000000</td>\n",
       "      <td>199.919998</td>\n",
       "      <td>163.990005</td>\n",
       "      <td>31.520000</td>\n",
       "      <td>59405.000000</td>\n",
       "      <td>627.000000</td>\n",
       "      <td>29.000000</td>\n",
       "      <td>NaN</td>\n",
       "      <td>59.990002</td>\n",
       "      <td>0.0</td>\n",
       "    </tr>\n",
       "    <tr>\n",
       "      <th>75%</th>\n",
       "      <td>5.000000</td>\n",
       "      <td>4.000000</td>\n",
       "      <td>64.800003</td>\n",
       "      <td>247.399994</td>\n",
       "      <td>1.000000</td>\n",
       "      <td>45.000000</td>\n",
       "      <td>9779.000000</td>\n",
       "      <td>78207.000000</td>\n",
       "      <td>7.000000</td>\n",
       "      <td>39.279617</td>\n",
       "      <td>...</td>\n",
       "      <td>3.000000</td>\n",
       "      <td>299.950012</td>\n",
       "      <td>247.399994</td>\n",
       "      <td>64.800003</td>\n",
       "      <td>90008.000000</td>\n",
       "      <td>1004.000000</td>\n",
       "      <td>45.000000</td>\n",
       "      <td>NaN</td>\n",
       "      <td>199.990005</td>\n",
       "      <td>0.0</td>\n",
       "    </tr>\n",
       "    <tr>\n",
       "      <th>max</th>\n",
       "      <td>6.000000</td>\n",
       "      <td>4.000000</td>\n",
       "      <td>911.799988</td>\n",
       "      <td>1939.989990</td>\n",
       "      <td>1.000000</td>\n",
       "      <td>76.000000</td>\n",
       "      <td>20757.000000</td>\n",
       "      <td>99205.000000</td>\n",
       "      <td>12.000000</td>\n",
       "      <td>48.781933</td>\n",
       "      <td>...</td>\n",
       "      <td>5.000000</td>\n",
       "      <td>1999.989990</td>\n",
       "      <td>1939.989990</td>\n",
       "      <td>911.799988</td>\n",
       "      <td>99301.000000</td>\n",
       "      <td>1363.000000</td>\n",
       "      <td>76.000000</td>\n",
       "      <td>NaN</td>\n",
       "      <td>1999.989990</td>\n",
       "      <td>0.0</td>\n",
       "    </tr>\n",
       "  </tbody>\n",
       "</table>\n",
       "<p>8 rows × 29 columns</p>\n",
       "</div>"
      ],
      "text/plain": [
       "       Days for shipping (real)  Days for shipment (scheduled)  \\\n",
       "count             180519.000000                  180519.000000   \n",
       "mean                   3.497654                       2.931847   \n",
       "std                    1.623722                       1.374449   \n",
       "min                    0.000000                       0.000000   \n",
       "25%                    2.000000                       2.000000   \n",
       "50%                    3.000000                       4.000000   \n",
       "75%                    5.000000                       4.000000   \n",
       "max                    6.000000                       4.000000   \n",
       "\n",
       "       Benefit per order  Sales per customer  Late_delivery_risk  \\\n",
       "count      180519.000000       180519.000000       180519.000000   \n",
       "mean           21.974989          183.107609            0.548291   \n",
       "std           104.433526          120.043670            0.497664   \n",
       "min         -4274.979980            7.490000            0.000000   \n",
       "25%             7.000000          104.379997            0.000000   \n",
       "50%            31.520000          163.990005            1.000000   \n",
       "75%            64.800003          247.399994            1.000000   \n",
       "max           911.799988         1939.989990            1.000000   \n",
       "\n",
       "         Category Id    Customer Id  Customer Zipcode  Department Id  \\\n",
       "count  180519.000000  180519.000000     180516.000000  180519.000000   \n",
       "mean       31.851451    6691.379495      35921.126914       5.443460   \n",
       "std        15.640064    4162.918106      37542.461122       1.629246   \n",
       "min         2.000000       1.000000        603.000000       2.000000   \n",
       "25%        18.000000    3258.500000        725.000000       4.000000   \n",
       "50%        29.000000    6457.000000      19380.000000       5.000000   \n",
       "75%        45.000000    9779.000000      78207.000000       7.000000   \n",
       "max        76.000000   20757.000000      99205.000000      12.000000   \n",
       "\n",
       "            Latitude  ...  Order Item Quantity          Sales  \\\n",
       "count  180519.000000  ...        180519.000000  180519.000000   \n",
       "mean       29.719955  ...             2.127638     203.772096   \n",
       "std         9.813646  ...             1.453451     132.273077   \n",
       "min       -33.937553  ...             1.000000       9.990000   \n",
       "25%        18.265432  ...             1.000000     119.980003   \n",
       "50%        33.144863  ...             1.000000     199.919998   \n",
       "75%        39.279617  ...             3.000000     299.950012   \n",
       "max        48.781933  ...             5.000000    1999.989990   \n",
       "\n",
       "       Order Item Total  Order Profit Per Order  Order Zipcode  \\\n",
       "count     180519.000000           180519.000000   24840.000000   \n",
       "mean         183.107609               21.974989   55426.132327   \n",
       "std          120.043670              104.433526   31919.279101   \n",
       "min            7.490000            -4274.979980    1040.000000   \n",
       "25%          104.379997                7.000000   23464.000000   \n",
       "50%          163.990005               31.520000   59405.000000   \n",
       "75%          247.399994               64.800003   90008.000000   \n",
       "max         1939.989990              911.799988   99301.000000   \n",
       "\n",
       "       Product Card Id  Product Category Id  Product Description  \\\n",
       "count    180519.000000        180519.000000                  0.0   \n",
       "mean        692.509764            31.851451                  NaN   \n",
       "std         336.446807            15.640064                  NaN   \n",
       "min          19.000000             2.000000                  NaN   \n",
       "25%         403.000000            18.000000                  NaN   \n",
       "50%         627.000000            29.000000                  NaN   \n",
       "75%        1004.000000            45.000000                  NaN   \n",
       "max        1363.000000            76.000000                  NaN   \n",
       "\n",
       "       Product Price  Product Status  \n",
       "count  180519.000000        180519.0  \n",
       "mean      141.232550             0.0  \n",
       "std       139.732492             0.0  \n",
       "min         9.990000             0.0  \n",
       "25%        50.000000             0.0  \n",
       "50%        59.990002             0.0  \n",
       "75%       199.990005             0.0  \n",
       "max      1999.989990             0.0  \n",
       "\n",
       "[8 rows x 29 columns]"
      ]
     },
     "execution_count": 5,
     "metadata": {},
     "output_type": "execute_result"
    }
   ],
   "source": [
    "# Getting the summary statistics of the dataset\n",
    "df.describe()"
   ]
  },
  {
   "cell_type": "code",
   "execution_count": 6,
   "id": "881c7b92",
   "metadata": {
    "execution": {
     "iopub.execute_input": "2023-04-07T15:08:16.090827Z",
     "iopub.status.busy": "2023-04-07T15:08:16.090000Z",
     "iopub.status.idle": "2023-04-07T15:08:16.096928Z",
     "shell.execute_reply": "2023-04-07T15:08:16.095917Z"
    },
    "papermill": {
     "duration": 0.025954,
     "end_time": "2023-04-07T15:08:16.099100",
     "exception": false,
     "start_time": "2023-04-07T15:08:16.073146",
     "status": "completed"
    },
    "tags": []
   },
   "outputs": [
    {
     "data": {
      "text/plain": [
       "(180519, 53)"
      ]
     },
     "execution_count": 6,
     "metadata": {},
     "output_type": "execute_result"
    }
   ],
   "source": [
    "# Checking the shape of the dataset\n",
    "df.shape"
   ]
  },
  {
   "cell_type": "code",
   "execution_count": 7,
   "id": "d821e4d6",
   "metadata": {
    "execution": {
     "iopub.execute_input": "2023-04-07T15:08:16.131504Z",
     "iopub.status.busy": "2023-04-07T15:08:16.131068Z",
     "iopub.status.idle": "2023-04-07T15:08:16.354127Z",
     "shell.execute_reply": "2023-04-07T15:08:16.352920Z"
    },
    "papermill": {
     "duration": 0.242251,
     "end_time": "2023-04-07T15:08:16.356677",
     "exception": false,
     "start_time": "2023-04-07T15:08:16.114426",
     "status": "completed"
    },
    "tags": []
   },
   "outputs": [
    {
     "data": {
      "text/plain": [
       "Type                                  0\n",
       "Days for shipping (real)              0\n",
       "Days for shipment (scheduled)         0\n",
       "Benefit per order                     0\n",
       "Sales per customer                    0\n",
       "Delivery Status                       0\n",
       "Late_delivery_risk                    0\n",
       "Category Id                           0\n",
       "Category Name                         0\n",
       "Customer City                         0\n",
       "Customer Country                      0\n",
       "Customer Email                        0\n",
       "Customer Fname                        0\n",
       "Customer Id                           0\n",
       "Customer Lname                        8\n",
       "Customer Password                     0\n",
       "Customer Segment                      0\n",
       "Customer State                        0\n",
       "Customer Street                       0\n",
       "Customer Zipcode                      3\n",
       "Department Id                         0\n",
       "Department Name                       0\n",
       "Latitude                              0\n",
       "Longitude                             0\n",
       "Market                                0\n",
       "Order City                            0\n",
       "Order Country                         0\n",
       "Order Customer Id                     0\n",
       "order date (DateOrders)               0\n",
       "Order Id                              0\n",
       "Order Item Cardprod Id                0\n",
       "Order Item Discount                   0\n",
       "Order Item Discount Rate              0\n",
       "Order Item Id                         0\n",
       "Order Item Product Price              0\n",
       "Order Item Profit Ratio               0\n",
       "Order Item Quantity                   0\n",
       "Sales                                 0\n",
       "Order Item Total                      0\n",
       "Order Profit Per Order                0\n",
       "Order Region                          0\n",
       "Order State                           0\n",
       "Order Status                          0\n",
       "Order Zipcode                    155679\n",
       "Product Card Id                       0\n",
       "Product Category Id                   0\n",
       "Product Description              180519\n",
       "Product Image                         0\n",
       "Product Name                          0\n",
       "Product Price                         0\n",
       "Product Status                        0\n",
       "shipping date (DateOrders)            0\n",
       "Shipping Mode                         0\n",
       "dtype: int64"
      ]
     },
     "execution_count": 7,
     "metadata": {},
     "output_type": "execute_result"
    }
   ],
   "source": [
    "# Checking for missing values\n",
    "df.isnull().sum()"
   ]
  },
  {
   "cell_type": "code",
   "execution_count": 8,
   "id": "7cd5273d",
   "metadata": {
    "execution": {
     "iopub.execute_input": "2023-04-07T15:08:16.389769Z",
     "iopub.status.busy": "2023-04-07T15:08:16.389338Z",
     "iopub.status.idle": "2023-04-07T15:08:16.403434Z",
     "shell.execute_reply": "2023-04-07T15:08:16.402536Z"
    },
    "papermill": {
     "duration": 0.033227,
     "end_time": "2023-04-07T15:08:16.405508",
     "exception": false,
     "start_time": "2023-04-07T15:08:16.372281",
     "status": "completed"
    },
    "tags": []
   },
   "outputs": [],
   "source": [
    "##Create Pandas profile report\n",
    "profile = pp.ProfileReport(df, title = \"EDA\")"
   ]
  },
  {
   "cell_type": "code",
   "execution_count": 9,
   "id": "9ec5d0bb",
   "metadata": {
    "execution": {
     "iopub.execute_input": "2023-04-07T15:08:16.439272Z",
     "iopub.status.busy": "2023-04-07T15:08:16.438444Z",
     "iopub.status.idle": "2023-04-07T15:12:29.891064Z",
     "shell.execute_reply": "2023-04-07T15:12:29.889440Z"
    },
    "papermill": {
     "duration": 253.472802,
     "end_time": "2023-04-07T15:12:29.893873",
     "exception": false,
     "start_time": "2023-04-07T15:08:16.421071",
     "status": "completed"
    },
    "tags": []
   },
   "outputs": [
    {
     "data": {
      "application/vnd.jupyter.widget-view+json": {
       "model_id": "bdf0984aba5c4fce98567047154954a0",
       "version_major": 2,
       "version_minor": 0
      },
      "text/plain": [
       "Summarize dataset:   0%|          | 0/5 [00:00<?, ?it/s]"
      ]
     },
     "metadata": {},
     "output_type": "display_data"
    },
    {
     "data": {
      "application/vnd.jupyter.widget-view+json": {
       "model_id": "4b3a7e4621fa473cbff1f73bbc108fd3",
       "version_major": 2,
       "version_minor": 0
      },
      "text/plain": [
       "Generate report structure:   0%|          | 0/1 [00:00<?, ?it/s]"
      ]
     },
     "metadata": {},
     "output_type": "display_data"
    },
    {
     "data": {
      "application/vnd.jupyter.widget-view+json": {
       "model_id": "7268503945374f4087b4200275725ee8",
       "version_major": 2,
       "version_minor": 0
      },
      "text/plain": [
       "Render HTML:   0%|          | 0/1 [00:00<?, ?it/s]"
      ]
     },
     "metadata": {},
     "output_type": "display_data"
    },
    {
     "data": {
      "application/vnd.jupyter.widget-view+json": {
       "model_id": "0e4b0be2ec074e4fa2a6b2540c802e7d",
       "version_major": 2,
       "version_minor": 0
      },
      "text/plain": [
       "Export report to file:   0%|          | 0/1 [00:00<?, ?it/s]"
      ]
     },
     "metadata": {},
     "output_type": "display_data"
    }
   ],
   "source": [
    "##Save the report as a file with an html extension\n",
    "profile.to_file(output_file=\"reporte.html\") "
   ]
  },
  {
   "cell_type": "markdown",
   "id": "9f0c925b",
   "metadata": {
    "papermill": {
     "duration": 0.016186,
     "end_time": "2023-04-07T15:12:29.926863",
     "exception": false,
     "start_time": "2023-04-07T15:12:29.910677",
     "status": "completed"
    },
    "tags": []
   },
   "source": [
    "## ***Null data***\n",
    "\n",
    "### Null data was found in three columns, Order Zipcode (86% null values, i.e. a total of 155679 records), Product description (100% null values, i.e. a total of 180519 records) and customer zipcode (<0.1% is say a total of 3 records), together these empty cells correspond to 3.5% of the total dataset\n",
    "\n",
    "## ***Categorical variables***\n",
    "\n",
    "### There are 28 variables that have been identified as categorical type, however, some variables were classified as categorical when they are numeric, for example Days for shipping and Order item quantity, this happens because all the values ​​are grouped into 4 discrete values, which which causes confusion on the part of pandas profiling. In order to carry out analysis, these variables must be considered as numerical.\n",
    "\n",
    "## ***Numeric variables***\n",
    "\n",
    "### There are 24 variables that have been identified as numeric type\n",
    "\n",
    "## ***EDA Conclusions***\n",
    "\n",
    "### Do not include in the analysis the columns order zipcode (almost empty), product description (totally empty), customer email (constant without information), Customer password (constant without information), additionally we can replace the null values ​​of the customer zipcode column.\n",
    "\n",
    "### Finally, there are some columns that can be ignored when doing the analysis since they do not provide relevant information for the object of the study, these columns are: Product Status, Customer Street, Customer Fname, Customer Lname, Latitude, Longitude, Product Image."
   ]
  },
  {
   "cell_type": "markdown",
   "id": "1adc537d",
   "metadata": {
    "papermill": {
     "duration": 0.016301,
     "end_time": "2023-04-07T15:12:29.959625",
     "exception": false,
     "start_time": "2023-04-07T15:12:29.943324",
     "status": "completed"
    },
    "tags": []
   },
   "source": [
    "# Data Cleaning"
   ]
  },
  {
   "cell_type": "code",
   "execution_count": 10,
   "id": "c62f20fa",
   "metadata": {
    "execution": {
     "iopub.execute_input": "2023-04-07T15:12:29.994627Z",
     "iopub.status.busy": "2023-04-07T15:12:29.994186Z",
     "iopub.status.idle": "2023-04-07T15:12:30.002514Z",
     "shell.execute_reply": "2023-04-07T15:12:30.001294Z"
    },
    "papermill": {
     "duration": 0.02945,
     "end_time": "2023-04-07T15:12:30.005894",
     "exception": false,
     "start_time": "2023-04-07T15:12:29.976444",
     "status": "completed"
    },
    "tags": []
   },
   "outputs": [
    {
     "name": "stdout",
     "output_type": "stream",
     "text": [
      "(180519, 53)\n",
      "Type                              object\n",
      "Days for shipping (real)           int64\n",
      "Days for shipment (scheduled)      int64\n",
      "Benefit per order                float64\n",
      "Sales per customer               float64\n",
      "Delivery Status                   object\n",
      "Late_delivery_risk                 int64\n",
      "Category Id                        int64\n",
      "Category Name                     object\n",
      "Customer City                     object\n",
      "Customer Country                  object\n",
      "Customer Email                    object\n",
      "Customer Fname                    object\n",
      "Customer Id                        int64\n",
      "Customer Lname                    object\n",
      "Customer Password                 object\n",
      "Customer Segment                  object\n",
      "Customer State                    object\n",
      "Customer Street                   object\n",
      "Customer Zipcode                 float64\n",
      "Department Id                      int64\n",
      "Department Name                   object\n",
      "Latitude                         float64\n",
      "Longitude                        float64\n",
      "Market                            object\n",
      "Order City                        object\n",
      "Order Country                     object\n",
      "Order Customer Id                  int64\n",
      "order date (DateOrders)           object\n",
      "Order Id                           int64\n",
      "Order Item Cardprod Id             int64\n",
      "Order Item Discount              float64\n",
      "Order Item Discount Rate         float64\n",
      "Order Item Id                      int64\n",
      "Order Item Product Price         float64\n",
      "Order Item Profit Ratio          float64\n",
      "Order Item Quantity                int64\n",
      "Sales                            float64\n",
      "Order Item Total                 float64\n",
      "Order Profit Per Order           float64\n",
      "Order Region                      object\n",
      "Order State                       object\n",
      "Order Status                      object\n",
      "Order Zipcode                    float64\n",
      "Product Card Id                    int64\n",
      "Product Category Id                int64\n",
      "Product Description              float64\n",
      "Product Image                     object\n",
      "Product Name                      object\n",
      "Product Price                    float64\n",
      "Product Status                     int64\n",
      "shipping date (DateOrders)        object\n",
      "Shipping Mode                     object\n",
      "dtype: object\n"
     ]
    }
   ],
   "source": [
    "# shape and data types of the data\n",
    "print(df.shape)\n",
    "print(df.dtypes)"
   ]
  },
  {
   "cell_type": "markdown",
   "id": "bd7d3ccf",
   "metadata": {
    "papermill": {
     "duration": 0.016391,
     "end_time": "2023-04-07T15:12:30.039561",
     "exception": false,
     "start_time": "2023-04-07T15:12:30.023170",
     "status": "completed"
    },
    "tags": []
   },
   "source": [
    "## Removing unnecessary columns"
   ]
  },
  {
   "cell_type": "code",
   "execution_count": 11,
   "id": "14935f29",
   "metadata": {
    "execution": {
     "iopub.execute_input": "2023-04-07T15:12:30.075165Z",
     "iopub.status.busy": "2023-04-07T15:12:30.074720Z",
     "iopub.status.idle": "2023-04-07T15:12:30.124823Z",
     "shell.execute_reply": "2023-04-07T15:12:30.123503Z"
    },
    "papermill": {
     "duration": 0.071339,
     "end_time": "2023-04-07T15:12:30.127555",
     "exception": false,
     "start_time": "2023-04-07T15:12:30.056216",
     "status": "completed"
    },
    "tags": []
   },
   "outputs": [
    {
     "data": {
      "text/plain": [
       "(180519, 42)"
      ]
     },
     "execution_count": 11,
     "metadata": {},
     "output_type": "execute_result"
    }
   ],
   "source": [
    "data=df.drop(['Order Zipcode','Product Description', 'Customer Email','Customer Password','Product Status','Customer Street','Customer Fname','Customer Lname',\n",
    "           'Latitude','Longitude','Product Image',],axis=1)\n",
    "data.shape"
   ]
  },
  {
   "cell_type": "markdown",
   "id": "3f80cd76",
   "metadata": {
    "papermill": {
     "duration": 0.016531,
     "end_time": "2023-04-07T15:12:30.161124",
     "exception": false,
     "start_time": "2023-04-07T15:12:30.144593",
     "status": "completed"
    },
    "tags": []
   },
   "source": [
    "## Replacing null zipcode values ​​with the most common value "
   ]
  },
  {
   "cell_type": "code",
   "execution_count": 12,
   "id": "8cb0dd13",
   "metadata": {
    "execution": {
     "iopub.execute_input": "2023-04-07T15:12:30.198081Z",
     "iopub.status.busy": "2023-04-07T15:12:30.197636Z",
     "iopub.status.idle": "2023-04-07T15:12:30.966269Z",
     "shell.execute_reply": "2023-04-07T15:12:30.964996Z"
    },
    "papermill": {
     "duration": 0.790661,
     "end_time": "2023-04-07T15:12:30.969186",
     "exception": false,
     "start_time": "2023-04-07T15:12:30.178525",
     "status": "completed"
    },
    "tags": []
   },
   "outputs": [],
   "source": [
    "column_index=data.columns.get_loc(\"Customer Zipcode\")\n",
    "# Get the index of the column \"Customer Zipcode\"\n",
    "data['Customer Zipcode']=data['Customer Zipcode'].fillna(data.mode().iloc[column_index])\n",
    "#Filling NaN columns with most common value"
   ]
  },
  {
   "cell_type": "markdown",
   "id": "c8ba6c5d",
   "metadata": {
    "papermill": {
     "duration": 0.016155,
     "end_time": "2023-04-07T15:12:31.002156",
     "exception": false,
     "start_time": "2023-04-07T15:12:30.986001",
     "status": "completed"
    },
    "tags": []
   },
   "source": [
    "# Descriptive analysis and visualisation\n",
    "### Correlation Matrix"
   ]
  },
  {
   "cell_type": "code",
   "execution_count": 13,
   "id": "ac63e806",
   "metadata": {
    "execution": {
     "iopub.execute_input": "2023-04-07T15:12:31.037274Z",
     "iopub.status.busy": "2023-04-07T15:12:31.036828Z",
     "iopub.status.idle": "2023-04-07T15:12:37.028419Z",
     "shell.execute_reply": "2023-04-07T15:12:37.027210Z"
    },
    "papermill": {
     "duration": 6.017179,
     "end_time": "2023-04-07T15:12:37.035992",
     "exception": false,
     "start_time": "2023-04-07T15:12:31.018813",
     "status": "completed"
    },
    "tags": []
   },
   "outputs": [
    {
     "data": {
      "text/plain": [
       "<AxesSubplot:>"
      ]
     },
     "execution_count": 13,
     "metadata": {},
     "output_type": "execute_result"
    },
    {
     "data": {
      "image/png": "[encoded data removed]",
      "text/plain": [
       "<Figure size 2400x1200 with 2 Axes>"
      ]
     },
     "metadata": {},
     "output_type": "display_data"
    }
   ],
   "source": [
    "fig, ax = plt.subplots(figsize=(24,12))         # figsize\n",
    "sns.heatmap(data.corr(),annot=True,linewidths=.5,fmt='.1g',cmap= sns.diverging_palette(230, 20, as_cmap=True)) # Heatmap for correlation matrix\n"
   ]
  },
  {
   "cell_type": "markdown",
   "id": "a4b81d5b",
   "metadata": {
    "papermill": {
     "duration": 0.022716,
     "end_time": "2023-04-07T15:12:37.082160",
     "exception": false,
     "start_time": "2023-04-07T15:12:37.059444",
     "status": "completed"
    },
    "tags": []
   },
   "source": [
    "### Relative frequency tables  for categorical variables."
   ]
  },
  {
   "cell_type": "code",
   "execution_count": 14,
   "id": "2b884637",
   "metadata": {
    "execution": {
     "iopub.execute_input": "2023-04-07T15:12:37.129786Z",
     "iopub.status.busy": "2023-04-07T15:12:37.129379Z",
     "iopub.status.idle": "2023-04-07T15:12:37.149865Z",
     "shell.execute_reply": "2023-04-07T15:12:37.148627Z"
    },
    "papermill": {
     "duration": 0.047485,
     "end_time": "2023-04-07T15:12:37.152611",
     "exception": false,
     "start_time": "2023-04-07T15:12:37.105126",
     "status": "completed"
    },
    "tags": []
   },
   "outputs": [
    {
     "name": "stdout",
     "output_type": "stream",
     "text": [
      "Late delivery        0.548291\n",
      "Advance shipping     0.230402\n",
      "Shipping on time     0.178352\n",
      "Shipping canceled    0.042954\n",
      "Name: Delivery Status, dtype: float64\n"
     ]
    }
   ],
   "source": [
    "count=data['Delivery Status'].value_counts()  #change categoric variable\n",
    "print(count / len(data))"
   ]
  },
  {
   "cell_type": "markdown",
   "id": "267b3e37",
   "metadata": {
    "papermill": {
     "duration": 0.022712,
     "end_time": "2023-04-07T15:12:37.198593",
     "exception": false,
     "start_time": "2023-04-07T15:12:37.175881",
     "status": "completed"
    },
    "tags": []
   },
   "source": [
    "## Category delivered with maximum delay"
   ]
  },
  {
   "cell_type": "code",
   "execution_count": 15,
   "id": "83b5ced2",
   "metadata": {
    "execution": {
     "iopub.execute_input": "2023-04-07T15:12:37.247817Z",
     "iopub.status.busy": "2023-04-07T15:12:37.247413Z",
     "iopub.status.idle": "2023-04-07T15:12:38.816442Z",
     "shell.execute_reply": "2023-04-07T15:12:38.815088Z"
    },
    "papermill": {
     "duration": 1.596536,
     "end_time": "2023-04-07T15:12:38.819038",
     "exception": false,
     "start_time": "2023-04-07T15:12:37.222502",
     "status": "completed"
    },
    "tags": []
   },
   "outputs": [
    {
     "data": {
      "text/html": [
       "        <script type=\"text/javascript\">\n",
       "        window.PlotlyConfig = {MathJaxConfig: 'local'};\n",
       "        if (window.MathJax && window.MathJax.Hub && window.MathJax.Hub.Config) {window.MathJax.Hub.Config({SVG: {font: \"STIX-Web\"}});}\n",
       "        if (typeof require !== 'undefined') {\n",
       "        require.undef(\"plotly\");\n",
       "        requirejs.config({\n",
       "            paths: {\n",
       "                'plotly': ['https://cdn.plot.ly/plotly-2.18.0.min']\n",
       "            }\n",
       "        });\n",
       "        require(['plotly'], function(Plotly) {\n",
       "            window._Plotly = Plotly;\n",
       "        });\n",
       "        }\n",
       "        </script>\n",
       "        "
      ]
     },
     "metadata": {},
     "output_type": "display_data"
    },
    {
     "data": {
      "text/html": [
       "<div>                            <div id=\"d2ee8b28-f0b8-454f-8185-777ae962f6f7\" class=\"plotly-graph-div\" style=\"height:525px; width:100%;\"></div>            <script type=\"text/javascript\">                require([\"plotly\"], function(Plotly) {                    window.PLOTLYENV=window.PLOTLYENV || {};                                    if (document.getElementById(\"d2ee8b28-f0b8-454f-8185-777ae962f6f7\")) {                    Plotly.newPlot(                        \"d2ee8b28-f0b8-454f-8185-777ae962f6f7\",                        [{\"alignmentgroup\":\"True\",\"hovertemplate\":\"variable=Category Name<br>Category=%{x}<br>Number of late deliveries=%{y}<extra></extra>\",\"legendgroup\":\"Category Name\",\"marker\":{\"color\":\"#636efa\",\"pattern\":{\"shape\":\"\"}},\"name\":\"Category Name\",\"offsetgroup\":\"Category Name\",\"orientation\":\"v\",\"showlegend\":true,\"textposition\":\"auto\",\"x\":[\"Cleats\",\"Men's Footwear\",\"Women's Apparel\",\"Indoor/Outdoor Games\",\"Fishing\",\"Water Sports\",\"Camping & Hiking\",\"Cardio Equipment\",\"Shop By Sport\",\"Electronics\"],\"xaxis\":\"x\",\"y\":[13496,12121,11476,10565,9516,8517,7487,6805,6058,1770],\"yaxis\":\"y\",\"type\":\"bar\"}],                        {\"template\":{\"data\":{\"histogram2dcontour\":[{\"type\":\"histogram2dcontour\",\"colorbar\":{\"outlinewidth\":0,\"ticks\":\"\"},\"colorscale\":[[0.0,\"#0d0887\"],[0.1111111111111111,\"#46039f\"],[0.2222222222222222,\"#7201a8\"],[0.3333333333333333,\"#9c179e\"],[0.4444444444444444,\"#bd3786\"],[0.5555555555555556,\"#d8576b\"],[0.6666666666666666,\"#ed7953\"],[0.7777777777777778,\"#fb9f3a\"],[0.8888888888888888,\"#fdca26\"],[1.0,\"#f0f921\"]]}],\"choropleth\":[{\"type\":\"choropleth\",\"colorbar\":{\"outlinewidth\":0,\"ticks\":\"\"}}],\"histogram2d\":[{\"type\":\"histogram2d\",\"colorbar\":{\"outlinewidth\":0,\"ticks\":\"\"},\"colorscale\":[[0.0,\"#0d0887\"],[0.1111111111111111,\"#46039f\"],[0.2222222222222222,\"#7201a8\"],[0.3333333333333333,\"#9c179e\"],[0.4444444444444444,\"#bd3786\"],[0.5555555555555556,\"#d8576b\"],[0.6666666666666666,\"#ed7953\"],[0.7777777777777778,\"#fb9f3a\"],[0.8888888888888888,\"#fdca26\"],[1.0,\"#f0f921\"]]}],\"heatmap\":[{\"type\":\"heatmap\",\"colorbar\":{\"outlinewidth\":0,\"ticks\":\"\"},\"colorscale\":[[0.0,\"#0d0887\"],[0.1111111111111111,\"#46039f\"],[0.2222222222222222,\"#7201a8\"],[0.3333333333333333,\"#9c179e\"],[0.4444444444444444,\"#bd3786\"],[0.5555555555555556,\"#d8576b\"],[0.6666666666666666,\"#ed7953\"],[0.7777777777777778,\"#fb9f3a\"],[0.8888888888888888,\"#fdca26\"],[1.0,\"#f0f921\"]]}],\"heatmapgl\":[{\"type\":\"heatmapgl\",\"colorbar\":{\"outlinewidth\":0,\"ticks\":\"\"},\"colorscale\":[[0.0,\"#0d0887\"],[0.1111111111111111,\"#46039f\"],[0.2222222222222222,\"#7201a8\"],[0.3333333333333333,\"#9c179e\"],[0.4444444444444444,\"#bd3786\"],[0.5555555555555556,\"#d8576b\"],[0.6666666666666666,\"#ed7953\"],[0.7777777777777778,\"#fb9f3a\"],[0.8888888888888888,\"#fdca26\"],[1.0,\"#f0f921\"]]}],\"contourcarpet\":[{\"type\":\"contourcarpet\",\"colorbar\":{\"outlinewidth\":0,\"ticks\":\"\"}}],\"contour\":[{\"type\":\"contour\",\"colorbar\":{\"outlinewidth\":0,\"ticks\":\"\"},\"colorscale\":[[0.0,\"#0d0887\"],[0.1111111111111111,\"#46039f\"],[0.2222222222222222,\"#7201a8\"],[0.3333333333333333,\"#9c179e\"],[0.4444444444444444,\"#bd3786\"],[0.5555555555555556,\"#d8576b\"],[0.6666666666666666,\"#ed7953\"],[0.7777777777777778,\"#fb9f3a\"],[0.8888888888888888,\"#fdca26\"],[1.0,\"#f0f921\"]]}],\"surface\":[{\"type\":\"surface\",\"colorbar\":{\"outlinewidth\":0,\"ticks\":\"\"},\"colorscale\":[[0.0,\"#0d0887\"],[0.1111111111111111,\"#46039f\"],[0.2222222222222222,\"#7201a8\"],[0.3333333333333333,\"#9c179e\"],[0.4444444444444444,\"#bd3786\"],[0.5555555555555556,\"#d8576b\"],[0.6666666666666666,\"#ed7953\"],[0.7777777777777778,\"#fb9f3a\"],[0.8888888888888888,\"#fdca26\"],[1.0,\"#f0f921\"]]}],\"mesh3d\":[{\"type\":\"mesh3d\",\"colorbar\":{\"outlinewidth\":0,\"ticks\":\"\"}}],\"scatter\":[{\"fillpattern\":{\"fillmode\":\"overlay\",\"size\":10,\"solidity\":0.2},\"type\":\"scatter\"}],\"parcoords\":[{\"type\":\"parcoords\",\"line\":{\"colorbar\":{\"outlinewidth\":0,\"ticks\":\"\"}}}],\"scatterpolargl\":[{\"type\":\"scatterpolargl\",\"marker\":{\"colorbar\":{\"outlinewidth\":0,\"ticks\":\"\"}}}],\"bar\":[{\"error_x\":{\"color\":\"#2a3f5f\"},\"error_y\":{\"color\":\"#2a3f5f\"},\"marker\":{\"line\":{\"color\":\"#E5ECF6\",\"width\":0.5},\"pattern\":{\"fillmode\":\"overlay\",\"size\":10,\"solidity\":0.2}},\"type\":\"bar\"}],\"scattergeo\":[{\"type\":\"scattergeo\",\"marker\":{\"colorbar\":{\"outlinewidth\":0,\"ticks\":\"\"}}}],\"scatterpolar\":[{\"type\":\"scatterpolar\",\"marker\":{\"colorbar\":{\"outlinewidth\":0,\"ticks\":\"\"}}}],\"histogram\":[{\"marker\":{\"pattern\":{\"fillmode\":\"overlay\",\"size\":10,\"solidity\":0.2}},\"type\":\"histogram\"}],\"scattergl\":[{\"type\":\"scattergl\",\"marker\":{\"colorbar\":{\"outlinewidth\":0,\"ticks\":\"\"}}}],\"scatter3d\":[{\"type\":\"scatter3d\",\"line\":{\"colorbar\":{\"outlinewidth\":0,\"ticks\":\"\"}},\"marker\":{\"colorbar\":{\"outlinewidth\":0,\"ticks\":\"\"}}}],\"scattermapbox\":[{\"type\":\"scattermapbox\",\"marker\":{\"colorbar\":{\"outlinewidth\":0,\"ticks\":\"\"}}}],\"scatterternary\":[{\"type\":\"scatterternary\",\"marker\":{\"colorbar\":{\"outlinewidth\":0,\"ticks\":\"\"}}}],\"scattercarpet\":[{\"type\":\"scattercarpet\",\"marker\":{\"colorbar\":{\"outlinewidth\":0,\"ticks\":\"\"}}}],\"carpet\":[{\"aaxis\":{\"endlinecolor\":\"#2a3f5f\",\"gridcolor\":\"white\",\"linecolor\":\"white\",\"minorgridcolor\":\"white\",\"startlinecolor\":\"#2a3f5f\"},\"baxis\":{\"endlinecolor\":\"#2a3f5f\",\"gridcolor\":\"white\",\"linecolor\":\"white\",\"minorgridcolor\":\"white\",\"startlinecolor\":\"#2a3f5f\"},\"type\":\"carpet\"}],\"table\":[{\"cells\":{\"fill\":{\"color\":\"#EBF0F8\"},\"line\":{\"color\":\"white\"}},\"header\":{\"fill\":{\"color\":\"#C8D4E3\"},\"line\":{\"color\":\"white\"}},\"type\":\"table\"}],\"barpolar\":[{\"marker\":{\"line\":{\"color\":\"#E5ECF6\",\"width\":0.5},\"pattern\":{\"fillmode\":\"overlay\",\"size\":10,\"solidity\":0.2}},\"type\":\"barpolar\"}],\"pie\":[{\"automargin\":true,\"type\":\"pie\"}]},\"layout\":{\"autotypenumbers\":\"strict\",\"colorway\":[\"#636efa\",\"#EF553B\",\"#00cc96\",\"#ab63fa\",\"#FFA15A\",\"#19d3f3\",\"#FF6692\",\"#B6E880\",\"#FF97FF\",\"#FECB52\"],\"font\":{\"color\":\"#2a3f5f\"},\"hovermode\":\"closest\",\"hoverlabel\":{\"align\":\"left\"},\"paper_bgcolor\":\"white\",\"plot_bgcolor\":\"#E5ECF6\",\"polar\":{\"bgcolor\":\"#E5ECF6\",\"angularaxis\":{\"gridcolor\":\"white\",\"linecolor\":\"white\",\"ticks\":\"\"},\"radialaxis\":{\"gridcolor\":\"white\",\"linecolor\":\"white\",\"ticks\":\"\"}},\"ternary\":{\"bgcolor\":\"#E5ECF6\",\"aaxis\":{\"gridcolor\":\"white\",\"linecolor\":\"white\",\"ticks\":\"\"},\"baxis\":{\"gridcolor\":\"white\",\"linecolor\":\"white\",\"ticks\":\"\"},\"caxis\":{\"gridcolor\":\"white\",\"linecolor\":\"white\",\"ticks\":\"\"}},\"coloraxis\":{\"colorbar\":{\"outlinewidth\":0,\"ticks\":\"\"}},\"colorscale\":{\"sequential\":[[0.0,\"#0d0887\"],[0.1111111111111111,\"#46039f\"],[0.2222222222222222,\"#7201a8\"],[0.3333333333333333,\"#9c179e\"],[0.4444444444444444,\"#bd3786\"],[0.5555555555555556,\"#d8576b\"],[0.6666666666666666,\"#ed7953\"],[0.7777777777777778,\"#fb9f3a\"],[0.8888888888888888,\"#fdca26\"],[1.0,\"#f0f921\"]],\"sequentialminus\":[[0.0,\"#0d0887\"],[0.1111111111111111,\"#46039f\"],[0.2222222222222222,\"#7201a8\"],[0.3333333333333333,\"#9c179e\"],[0.4444444444444444,\"#bd3786\"],[0.5555555555555556,\"#d8576b\"],[0.6666666666666666,\"#ed7953\"],[0.7777777777777778,\"#fb9f3a\"],[0.8888888888888888,\"#fdca26\"],[1.0,\"#f0f921\"]],\"diverging\":[[0,\"#8e0152\"],[0.1,\"#c51b7d\"],[0.2,\"#de77ae\"],[0.3,\"#f1b6da\"],[0.4,\"#fde0ef\"],[0.5,\"#f7f7f7\"],[0.6,\"#e6f5d0\"],[0.7,\"#b8e186\"],[0.8,\"#7fbc41\"],[0.9,\"#4d9221\"],[1,\"#276419\"]]},\"xaxis\":{\"gridcolor\":\"white\",\"linecolor\":\"white\",\"ticks\":\"\",\"title\":{\"standoff\":15},\"zerolinecolor\":\"white\",\"automargin\":true,\"zerolinewidth\":2},\"yaxis\":{\"gridcolor\":\"white\",\"linecolor\":\"white\",\"ticks\":\"\",\"title\":{\"standoff\":15},\"zerolinecolor\":\"white\",\"automargin\":true,\"zerolinewidth\":2},\"scene\":{\"xaxis\":{\"backgroundcolor\":\"#E5ECF6\",\"gridcolor\":\"white\",\"linecolor\":\"white\",\"showbackground\":true,\"ticks\":\"\",\"zerolinecolor\":\"white\",\"gridwidth\":2},\"yaxis\":{\"backgroundcolor\":\"#E5ECF6\",\"gridcolor\":\"white\",\"linecolor\":\"white\",\"showbackground\":true,\"ticks\":\"\",\"zerolinecolor\":\"white\",\"gridwidth\":2},\"zaxis\":{\"backgroundcolor\":\"#E5ECF6\",\"gridcolor\":\"white\",\"linecolor\":\"white\",\"showbackground\":true,\"ticks\":\"\",\"zerolinecolor\":\"white\",\"gridwidth\":2}},\"shapedefaults\":{\"line\":{\"color\":\"#2a3f5f\"}},\"annotationdefaults\":{\"arrowcolor\":\"#2a3f5f\",\"arrowhead\":0,\"arrowwidth\":1},\"geo\":{\"bgcolor\":\"white\",\"landcolor\":\"#E5ECF6\",\"subunitcolor\":\"white\",\"showland\":true,\"showlakes\":true,\"lakecolor\":\"white\"},\"title\":{\"x\":0.05},\"mapbox\":{\"style\":\"light\"}}},\"xaxis\":{\"anchor\":\"y\",\"domain\":[0.0,1.0],\"title\":{\"text\":\"Category\"}},\"yaxis\":{\"anchor\":\"x\",\"domain\":[0.0,1.0],\"title\":{\"text\":\"Number of late deliveries\"}},\"legend\":{\"title\":{\"text\":\"variable\"},\"tracegroupgap\":0},\"title\":{\"text\":\"Top 10 products with most late deliveries\"},\"barmode\":\"relative\"},                        {\"responsive\": true}                    ).then(function(){\n",
       "                            \n",
       "var gd = document.getElementById('d2ee8b28-f0b8-454f-8185-777ae962f6f7');\n",
       "var x = new MutationObserver(function (mutations, observer) {{\n",
       "        var display = window.getComputedStyle(gd).display;\n",
       "        if (!display || display === 'none') {{\n",
       "            console.log([gd, 'removed!']);\n",
       "            Plotly.purge(gd);\n",
       "            observer.disconnect();\n",
       "        }}\n",
       "}});\n",
       "\n",
       "// Listen for the removal of the full notebook cells\n",
       "var notebookContainer = gd.closest('#notebook-container');\n",
       "if (notebookContainer) {{\n",
       "    x.observe(notebookContainer, {childList: true});\n",
       "}}\n",
       "\n",
       "// Listen for the clearing of the current output cell\n",
       "var outputEl = gd.closest('.output');\n",
       "if (outputEl) {{\n",
       "    x.observe(outputEl, {childList: true});\n",
       "}}\n",
       "\n",
       "                        })                };                });            </script>        </div>"
      ]
     },
     "metadata": {},
     "output_type": "display_data"
    }
   ],
   "source": [
    "#Filtering columns with late delivery status\n",
    "late_delivery = data[(data['Delivery Status'] == 'Late delivery')]\n",
    "#Top 10 products with most late deliveries\n",
    "fig = px.bar(late_delivery['Category Name'].value_counts().nlargest(10), \n",
    "             title=\"Top 10 products with most late deliveries\",\n",
    "            labels={'value':'Number of late deliveries','index':'Category'})\n",
    "fig.show()"
   ]
  },
  {
   "cell_type": "markdown",
   "id": "bb94c1d7",
   "metadata": {
    "papermill": {
     "duration": 0.023253,
     "end_time": "2023-04-07T15:12:38.866213",
     "exception": false,
     "start_time": "2023-04-07T15:12:38.842960",
     "status": "completed"
    },
    "tags": []
   },
   "source": [
    "### However, the previous graph represents the real situation of electronic commerce because it does not take into account that the dataset is unbalanced, so the largest number of records are grouped into a few categories, taking into account proportionality ( percentage of late deliveries with respect to the total deliveries of said category) a different graph is obtained that better shows the real situation"
   ]
  },
  {
   "cell_type": "code",
   "execution_count": 16,
   "id": "7be4a8a9",
   "metadata": {
    "execution": {
     "iopub.execute_input": "2023-04-07T15:12:38.915548Z",
     "iopub.status.busy": "2023-04-07T15:12:38.915114Z",
     "iopub.status.idle": "2023-04-07T15:12:39.002672Z",
     "shell.execute_reply": "2023-04-07T15:12:39.001443Z"
    },
    "papermill": {
     "duration": 0.115697,
     "end_time": "2023-04-07T15:12:39.005601",
     "exception": false,
     "start_time": "2023-04-07T15:12:38.889904",
     "status": "completed"
    },
    "tags": []
   },
   "outputs": [
    {
     "data": {
      "text/html": [
       "<div>                            <div id=\"5454285b-07a1-40f7-a563-19ebb4b6c7cf\" class=\"plotly-graph-div\" style=\"height:525px; width:100%;\"></div>            <script type=\"text/javascript\">                require([\"plotly\"], function(Plotly) {                    window.PLOTLYENV=window.PLOTLYENV || {};                                    if (document.getElementById(\"5454285b-07a1-40f7-a563-19ebb4b6c7cf\")) {                    Plotly.newPlot(                        \"5454285b-07a1-40f7-a563-19ebb4b6c7cf\",                        [{\"alignmentgroup\":\"True\",\"hovertemplate\":\"variable=Category Name<br>Category=%{x}<br>Percentage of late deliveries=%{y}<extra></extra>\",\"legendgroup\":\"Category Name\",\"marker\":{\"color\":\"#636efa\",\"pattern\":{\"shape\":\"\"}},\"name\":\"Category Name\",\"offsetgroup\":\"Category Name\",\"orientation\":\"v\",\"showlegend\":true,\"textposition\":\"auto\",\"x\":[\"Golf Bags & Carts\",\"Lacrosse\",\"Pet Supplies\",\"Cameras \",\"Strength Training\",\"As Seen on  TV!\",\"Music\",\"Accessories\",\"Fitness Accessories\",\"Books \",\"Women's Clothing\",\"Boxing & MMA\",\"Golf Gloves\",\"Hunting & Shooting\",\"Electronics\"],\"xaxis\":\"x\",\"y\":[68.85245901639344,60.05830903790087,58.94308943089431,58.108108108108105,57.65765765765766,57.35294117647059,57.14285714285714,56.96629213483146,56.957928802588995,56.54320987654321,56.46153846153846,56.26477541371159,56.26168224299065,56.13636363636364,56.083650190114064],\"yaxis\":\"y\",\"type\":\"bar\"}],                        {\"template\":{\"data\":{\"histogram2dcontour\":[{\"type\":\"histogram2dcontour\",\"colorbar\":{\"outlinewidth\":0,\"ticks\":\"\"},\"colorscale\":[[0.0,\"#0d0887\"],[0.1111111111111111,\"#46039f\"],[0.2222222222222222,\"#7201a8\"],[0.3333333333333333,\"#9c179e\"],[0.4444444444444444,\"#bd3786\"],[0.5555555555555556,\"#d8576b\"],[0.6666666666666666,\"#ed7953\"],[0.7777777777777778,\"#fb9f3a\"],[0.8888888888888888,\"#fdca26\"],[1.0,\"#f0f921\"]]}],\"choropleth\":[{\"type\":\"choropleth\",\"colorbar\":{\"outlinewidth\":0,\"ticks\":\"\"}}],\"histogram2d\":[{\"type\":\"histogram2d\",\"colorbar\":{\"outlinewidth\":0,\"ticks\":\"\"},\"colorscale\":[[0.0,\"#0d0887\"],[0.1111111111111111,\"#46039f\"],[0.2222222222222222,\"#7201a8\"],[0.3333333333333333,\"#9c179e\"],[0.4444444444444444,\"#bd3786\"],[0.5555555555555556,\"#d8576b\"],[0.6666666666666666,\"#ed7953\"],[0.7777777777777778,\"#fb9f3a\"],[0.8888888888888888,\"#fdca26\"],[1.0,\"#f0f921\"]]}],\"heatmap\":[{\"type\":\"heatmap\",\"colorbar\":{\"outlinewidth\":0,\"ticks\":\"\"},\"colorscale\":[[0.0,\"#0d0887\"],[0.1111111111111111,\"#46039f\"],[0.2222222222222222,\"#7201a8\"],[0.3333333333333333,\"#9c179e\"],[0.4444444444444444,\"#bd3786\"],[0.5555555555555556,\"#d8576b\"],[0.6666666666666666,\"#ed7953\"],[0.7777777777777778,\"#fb9f3a\"],[0.8888888888888888,\"#fdca26\"],[1.0,\"#f0f921\"]]}],\"heatmapgl\":[{\"type\":\"heatmapgl\",\"colorbar\":{\"outlinewidth\":0,\"ticks\":\"\"},\"colorscale\":[[0.0,\"#0d0887\"],[0.1111111111111111,\"#46039f\"],[0.2222222222222222,\"#7201a8\"],[0.3333333333333333,\"#9c179e\"],[0.4444444444444444,\"#bd3786\"],[0.5555555555555556,\"#d8576b\"],[0.6666666666666666,\"#ed7953\"],[0.7777777777777778,\"#fb9f3a\"],[0.8888888888888888,\"#fdca26\"],[1.0,\"#f0f921\"]]}],\"contourcarpet\":[{\"type\":\"contourcarpet\",\"colorbar\":{\"outlinewidth\":0,\"ticks\":\"\"}}],\"contour\":[{\"type\":\"contour\",\"colorbar\":{\"outlinewidth\":0,\"ticks\":\"\"},\"colorscale\":[[0.0,\"#0d0887\"],[0.1111111111111111,\"#46039f\"],[0.2222222222222222,\"#7201a8\"],[0.3333333333333333,\"#9c179e\"],[0.4444444444444444,\"#bd3786\"],[0.5555555555555556,\"#d8576b\"],[0.6666666666666666,\"#ed7953\"],[0.7777777777777778,\"#fb9f3a\"],[0.8888888888888888,\"#fdca26\"],[1.0,\"#f0f921\"]]}],\"surface\":[{\"type\":\"surface\",\"colorbar\":{\"outlinewidth\":0,\"ticks\":\"\"},\"colorscale\":[[0.0,\"#0d0887\"],[0.1111111111111111,\"#46039f\"],[0.2222222222222222,\"#7201a8\"],[0.3333333333333333,\"#9c179e\"],[0.4444444444444444,\"#bd3786\"],[0.5555555555555556,\"#d8576b\"],[0.6666666666666666,\"#ed7953\"],[0.7777777777777778,\"#fb9f3a\"],[0.8888888888888888,\"#fdca26\"],[1.0,\"#f0f921\"]]}],\"mesh3d\":[{\"type\":\"mesh3d\",\"colorbar\":{\"outlinewidth\":0,\"ticks\":\"\"}}],\"scatter\":[{\"fillpattern\":{\"fillmode\":\"overlay\",\"size\":10,\"solidity\":0.2},\"type\":\"scatter\"}],\"parcoords\":[{\"type\":\"parcoords\",\"line\":{\"colorbar\":{\"outlinewidth\":0,\"ticks\":\"\"}}}],\"scatterpolargl\":[{\"type\":\"scatterpolargl\",\"marker\":{\"colorbar\":{\"outlinewidth\":0,\"ticks\":\"\"}}}],\"bar\":[{\"error_x\":{\"color\":\"#2a3f5f\"},\"error_y\":{\"color\":\"#2a3f5f\"},\"marker\":{\"line\":{\"color\":\"#E5ECF6\",\"width\":0.5},\"pattern\":{\"fillmode\":\"overlay\",\"size\":10,\"solidity\":0.2}},\"type\":\"bar\"}],\"scattergeo\":[{\"type\":\"scattergeo\",\"marker\":{\"colorbar\":{\"outlinewidth\":0,\"ticks\":\"\"}}}],\"scatterpolar\":[{\"type\":\"scatterpolar\",\"marker\":{\"colorbar\":{\"outlinewidth\":0,\"ticks\":\"\"}}}],\"histogram\":[{\"marker\":{\"pattern\":{\"fillmode\":\"overlay\",\"size\":10,\"solidity\":0.2}},\"type\":\"histogram\"}],\"scattergl\":[{\"type\":\"scattergl\",\"marker\":{\"colorbar\":{\"outlinewidth\":0,\"ticks\":\"\"}}}],\"scatter3d\":[{\"type\":\"scatter3d\",\"line\":{\"colorbar\":{\"outlinewidth\":0,\"ticks\":\"\"}},\"marker\":{\"colorbar\":{\"outlinewidth\":0,\"ticks\":\"\"}}}],\"scattermapbox\":[{\"type\":\"scattermapbox\",\"marker\":{\"colorbar\":{\"outlinewidth\":0,\"ticks\":\"\"}}}],\"scatterternary\":[{\"type\":\"scatterternary\",\"marker\":{\"colorbar\":{\"outlinewidth\":0,\"ticks\":\"\"}}}],\"scattercarpet\":[{\"type\":\"scattercarpet\",\"marker\":{\"colorbar\":{\"outlinewidth\":0,\"ticks\":\"\"}}}],\"carpet\":[{\"aaxis\":{\"endlinecolor\":\"#2a3f5f\",\"gridcolor\":\"white\",\"linecolor\":\"white\",\"minorgridcolor\":\"white\",\"startlinecolor\":\"#2a3f5f\"},\"baxis\":{\"endlinecolor\":\"#2a3f5f\",\"gridcolor\":\"white\",\"linecolor\":\"white\",\"minorgridcolor\":\"white\",\"startlinecolor\":\"#2a3f5f\"},\"type\":\"carpet\"}],\"table\":[{\"cells\":{\"fill\":{\"color\":\"#EBF0F8\"},\"line\":{\"color\":\"white\"}},\"header\":{\"fill\":{\"color\":\"#C8D4E3\"},\"line\":{\"color\":\"white\"}},\"type\":\"table\"}],\"barpolar\":[{\"marker\":{\"line\":{\"color\":\"#E5ECF6\",\"width\":0.5},\"pattern\":{\"fillmode\":\"overlay\",\"size\":10,\"solidity\":0.2}},\"type\":\"barpolar\"}],\"pie\":[{\"automargin\":true,\"type\":\"pie\"}]},\"layout\":{\"autotypenumbers\":\"strict\",\"colorway\":[\"#636efa\",\"#EF553B\",\"#00cc96\",\"#ab63fa\",\"#FFA15A\",\"#19d3f3\",\"#FF6692\",\"#B6E880\",\"#FF97FF\",\"#FECB52\"],\"font\":{\"color\":\"#2a3f5f\"},\"hovermode\":\"closest\",\"hoverlabel\":{\"align\":\"left\"},\"paper_bgcolor\":\"white\",\"plot_bgcolor\":\"#E5ECF6\",\"polar\":{\"bgcolor\":\"#E5ECF6\",\"angularaxis\":{\"gridcolor\":\"white\",\"linecolor\":\"white\",\"ticks\":\"\"},\"radialaxis\":{\"gridcolor\":\"white\",\"linecolor\":\"white\",\"ticks\":\"\"}},\"ternary\":{\"bgcolor\":\"#E5ECF6\",\"aaxis\":{\"gridcolor\":\"white\",\"linecolor\":\"white\",\"ticks\":\"\"},\"baxis\":{\"gridcolor\":\"white\",\"linecolor\":\"white\",\"ticks\":\"\"},\"caxis\":{\"gridcolor\":\"white\",\"linecolor\":\"white\",\"ticks\":\"\"}},\"coloraxis\":{\"colorbar\":{\"outlinewidth\":0,\"ticks\":\"\"}},\"colorscale\":{\"sequential\":[[0.0,\"#0d0887\"],[0.1111111111111111,\"#46039f\"],[0.2222222222222222,\"#7201a8\"],[0.3333333333333333,\"#9c179e\"],[0.4444444444444444,\"#bd3786\"],[0.5555555555555556,\"#d8576b\"],[0.6666666666666666,\"#ed7953\"],[0.7777777777777778,\"#fb9f3a\"],[0.8888888888888888,\"#fdca26\"],[1.0,\"#f0f921\"]],\"sequentialminus\":[[0.0,\"#0d0887\"],[0.1111111111111111,\"#46039f\"],[0.2222222222222222,\"#7201a8\"],[0.3333333333333333,\"#9c179e\"],[0.4444444444444444,\"#bd3786\"],[0.5555555555555556,\"#d8576b\"],[0.6666666666666666,\"#ed7953\"],[0.7777777777777778,\"#fb9f3a\"],[0.8888888888888888,\"#fdca26\"],[1.0,\"#f0f921\"]],\"diverging\":[[0,\"#8e0152\"],[0.1,\"#c51b7d\"],[0.2,\"#de77ae\"],[0.3,\"#f1b6da\"],[0.4,\"#fde0ef\"],[0.5,\"#f7f7f7\"],[0.6,\"#e6f5d0\"],[0.7,\"#b8e186\"],[0.8,\"#7fbc41\"],[0.9,\"#4d9221\"],[1,\"#276419\"]]},\"xaxis\":{\"gridcolor\":\"white\",\"linecolor\":\"white\",\"ticks\":\"\",\"title\":{\"standoff\":15},\"zerolinecolor\":\"white\",\"automargin\":true,\"zerolinewidth\":2},\"yaxis\":{\"gridcolor\":\"white\",\"linecolor\":\"white\",\"ticks\":\"\",\"title\":{\"standoff\":15},\"zerolinecolor\":\"white\",\"automargin\":true,\"zerolinewidth\":2},\"scene\":{\"xaxis\":{\"backgroundcolor\":\"#E5ECF6\",\"gridcolor\":\"white\",\"linecolor\":\"white\",\"showbackground\":true,\"ticks\":\"\",\"zerolinecolor\":\"white\",\"gridwidth\":2},\"yaxis\":{\"backgroundcolor\":\"#E5ECF6\",\"gridcolor\":\"white\",\"linecolor\":\"white\",\"showbackground\":true,\"ticks\":\"\",\"zerolinecolor\":\"white\",\"gridwidth\":2},\"zaxis\":{\"backgroundcolor\":\"#E5ECF6\",\"gridcolor\":\"white\",\"linecolor\":\"white\",\"showbackground\":true,\"ticks\":\"\",\"zerolinecolor\":\"white\",\"gridwidth\":2}},\"shapedefaults\":{\"line\":{\"color\":\"#2a3f5f\"}},\"annotationdefaults\":{\"arrowcolor\":\"#2a3f5f\",\"arrowhead\":0,\"arrowwidth\":1},\"geo\":{\"bgcolor\":\"white\",\"landcolor\":\"#E5ECF6\",\"subunitcolor\":\"white\",\"showland\":true,\"showlakes\":true,\"lakecolor\":\"white\"},\"title\":{\"x\":0.05},\"mapbox\":{\"style\":\"light\"}}},\"xaxis\":{\"anchor\":\"y\",\"domain\":[0.0,1.0],\"title\":{\"text\":\"Category\"}},\"yaxis\":{\"anchor\":\"x\",\"domain\":[0.0,1.0],\"title\":{\"text\":\"Percentage of late deliveries\"}},\"legend\":{\"title\":{\"text\":\"variable\"},\"tracegroupgap\":0},\"title\":{\"text\":\"Top 10 products with highest rate of late delivery\"},\"barmode\":\"relative\"},                        {\"responsive\": true}                    ).then(function(){\n",
       "                            \n",
       "var gd = document.getElementById('5454285b-07a1-40f7-a563-19ebb4b6c7cf');\n",
       "var x = new MutationObserver(function (mutations, observer) {{\n",
       "        var display = window.getComputedStyle(gd).display;\n",
       "        if (!display || display === 'none') {{\n",
       "            console.log([gd, 'removed!']);\n",
       "            Plotly.purge(gd);\n",
       "            observer.disconnect();\n",
       "        }}\n",
       "}});\n",
       "\n",
       "// Listen for the removal of the full notebook cells\n",
       "var notebookContainer = gd.closest('#notebook-container');\n",
       "if (notebookContainer) {{\n",
       "    x.observe(notebookContainer, {childList: true});\n",
       "}}\n",
       "\n",
       "// Listen for the clearing of the current output cell\n",
       "var outputEl = gd.closest('.output');\n",
       "if (outputEl) {{\n",
       "    x.observe(outputEl, {childList: true});\n",
       "}}\n",
       "\n",
       "                        })                };                });            </script>        </div>"
      ]
     },
     "metadata": {},
     "output_type": "display_data"
    }
   ],
   "source": [
    "#Calculating proproptional late deliveries\n",
    "late_count=late_delivery['Category Name'].value_counts()\n",
    "total_count=data['Category Name'].value_counts()\n",
    "proportional_count=late_count/total_count*100\n",
    "fig = px.bar(proportional_count.nlargest(15), \n",
    "             title=\"Top 10 products with highest rate of late delivery\",\n",
    "            labels={'value':'Percentage of late deliveries','index':'Category'})\n",
    "fig.show()\n"
   ]
  },
  {
   "cell_type": "markdown",
   "id": "2bc6b88d",
   "metadata": {
    "papermill": {
     "duration": 0.023307,
     "end_time": "2023-04-07T15:12:39.052791",
     "exception": false,
     "start_time": "2023-04-07T15:12:39.029484",
     "status": "completed"
    },
    "tags": []
   },
   "source": [
    "### With this graph it can be deduced that there is no relationship between the product category and late delivery, and that all categories have approximately 50% of late deliveries."
   ]
  },
  {
   "cell_type": "markdown",
   "id": "61756a4f",
   "metadata": {
    "papermill": {
     "duration": 0.02307,
     "end_time": "2023-04-07T15:12:39.100097",
     "exception": false,
     "start_time": "2023-04-07T15:12:39.077027",
     "status": "completed"
    },
    "tags": []
   },
   "source": [
    "### What is the number of late deliveries according to the type of shipment and the region? For this graph, two versions are made using two different python libraries in order to compare their results, in the first one a static graph is created using matplotlib while the second is a dynamic graph created using plotly"
   ]
  },
  {
   "cell_type": "code",
   "execution_count": 17,
   "id": "507e1a2c",
   "metadata": {
    "execution": {
     "iopub.execute_input": "2023-04-07T15:12:39.150377Z",
     "iopub.status.busy": "2023-04-07T15:12:39.149093Z",
     "iopub.status.idle": "2023-04-07T15:12:39.984945Z",
     "shell.execute_reply": "2023-04-07T15:12:39.983708Z"
    },
    "papermill": {
     "duration": 0.864106,
     "end_time": "2023-04-07T15:12:39.987833",
     "exception": false,
     "start_time": "2023-04-07T15:12:39.123727",
     "status": "completed"
    },
    "tags": []
   },
   "outputs": [
    {
     "data": {
      "image/png": "[encoded data removed]",
      "text/plain": [
       "<Figure size 2000x800 with 1 Axes>"
      ]
     },
     "metadata": {},
     "output_type": "display_data"
    }
   ],
   "source": [
    "#Filtering late delivery orders with standard class shipping\n",
    "xyz1 = data[(data['Delivery Status'] == 'Late delivery') & (data['Shipping Mode'] == 'Standard Class')]\n",
    "#Filtering late delivery orders with first class shipping\n",
    "xyz2 = data[(data['Delivery Status'] == 'Late delivery') & (data['Shipping Mode'] == 'First Class')]\n",
    "#Filtering late delivery orders with second class shipping\n",
    "xyz3 = data[(data['Delivery Status'] == 'Late delivery') & (data['Shipping Mode'] == 'Second Class')]\n",
    "#Filtering late delivery orders with same day shipping\n",
    "xyz4 = data[(data['Delivery Status'] == 'Late delivery') & (data['Shipping Mode'] == 'Same Day')]\n",
    "#Counting total values\n",
    "count1=xyz1['Order Region'].value_counts()\n",
    "count2=xyz2['Order Region'].value_counts()\n",
    "count3=xyz3['Order Region'].value_counts()\n",
    "count4=xyz4['Order Region'].value_counts()\n",
    "#Index names\n",
    "names=data['Order Region'].value_counts().keys()\n",
    "n_groups=23\n",
    "fig,ax = plt.subplots(figsize=(20,8))\n",
    "index=np.arange(n_groups)\n",
    "bar_width=0.2\n",
    "opacity=0.6\n",
    "type1=plt.bar(index,count1,bar_width,alpha=opacity,color='b',label='Standard Class')\n",
    "type2=plt.bar(index+bar_width,count2,bar_width,alpha=opacity,color='r',label='First class')\n",
    "type3=plt.bar(index+bar_width+bar_width,count3,bar_width,alpha=opacity,color='g',label='second class')\n",
    "type4=plt.bar(index+bar_width+bar_width+bar_width,count4,bar_width,alpha=opacity,color='y',label='same day')\n",
    "plt.xlabel('Order Regions')\n",
    "plt.ylabel('Number of shipments')\n",
    "plt.title('Different Types of shipping methods used in all regions')\n",
    "plt.legend()\n",
    "plt.xticks(index+bar_width,names,rotation=90)\n",
    "plt.tight_layout()\n",
    "plt.show()"
   ]
  },
  {
   "cell_type": "code",
   "execution_count": 18,
   "id": "81094a11",
   "metadata": {
    "execution": {
     "iopub.execute_input": "2023-04-07T15:12:40.041416Z",
     "iopub.status.busy": "2023-04-07T15:12:40.040803Z",
     "iopub.status.idle": "2023-04-07T15:12:40.263576Z",
     "shell.execute_reply": "2023-04-07T15:12:40.262432Z"
    },
    "papermill": {
     "duration": 0.252701,
     "end_time": "2023-04-07T15:12:40.266116",
     "exception": false,
     "start_time": "2023-04-07T15:12:40.013415",
     "status": "completed"
    },
    "tags": []
   },
   "outputs": [
    {
     "data": {
      "text/html": [
       "<div>                            <div id=\"945fc83e-473b-4d73-b387-d5f6770f9d5b\" class=\"plotly-graph-div\" style=\"height:525px; width:100%;\"></div>            <script type=\"text/javascript\">                require([\"plotly\"], function(Plotly) {                    window.PLOTLYENV=window.PLOTLYENV || {};                                    if (document.getElementById(\"945fc83e-473b-4d73-b387-d5f6770f9d5b\")) {                    Plotly.newPlot(                        \"945fc83e-473b-4d73-b387-d5f6770f9d5b\",                        [{\"marker\":{\"color\":\"rgb(55, 83, 109)\"},\"name\":\"Standard Class\",\"x\":[\"Central America\",\"Western Europe\",\"South America\",\"Oceania\",\"Northern Europe\",\"Southeast Asia\",\"Southern Europe\",\"Caribbean\",\"West of USA \",\"South Asia\",\"Eastern Asia\",\"East of USA\",\"West Asia\",\"US Center \",\"South of  USA \",\"Eastern Europe\",\"West Africa\",\"North Africa\",\"East Africa\",\"Central Africa\",\"Southern Africa\",\"Canada\",\"Central Asia\"],\"y\":[6571,6089,3437,2387,2236,2236,2071,1782,1782,1724,1657,1643,1326,1271,912,908,851,699,439,429,278,166,129],\"type\":\"bar\"},{\"marker\":{\"color\":\"rgb(26, 118, 255)\"},\"name\":\"First Class\",\"x\":[\"Central America\",\"Western Europe\",\"South America\",\"Oceania\",\"Northern Europe\",\"Southeast Asia\",\"Southern Europe\",\"Caribbean\",\"West of USA \",\"South Asia\",\"Eastern Asia\",\"East of USA\",\"West Asia\",\"US Center \",\"South of  USA \",\"Eastern Europe\",\"West Africa\",\"North Africa\",\"East Africa\",\"Central Africa\",\"Southern Africa\",\"Canada\",\"Central Asia\"],\"y\":[4185,4107,2154,1482,1462,1361,1270,1240,1132,1072,1050,989,951,947,632,571,472,453,278,277,195,170,63],\"type\":\"bar\"},{\"marker\":{\"color\":\"rgb(100, 231, 186)\"},\"name\":\"Second Class\",\"x\":[\"Central America\",\"Western Europe\",\"South America\",\"Oceania\",\"Northern Europe\",\"Southeast Asia\",\"Southern Europe\",\"Caribbean\",\"West of USA \",\"South Asia\",\"Eastern Asia\",\"East of USA\",\"West Asia\",\"US Center \",\"South of  USA \",\"Eastern Europe\",\"West Africa\",\"North Africa\",\"East Africa\",\"Central Africa\",\"Southern Africa\",\"Canada\",\"Central Asia\"],\"y\":[4236,4111,2122,1562,1489,1395,1293,1277,1254,1198,1116,956,921,905,673,578,570,483,279,241,125,102,101],\"type\":\"bar\"},{\"marker\":{\"color\":\"rgb(243, 134, 59)\"},\"name\":\"Same Day\",\"x\":[\"Central America\",\"Western Europe\",\"South America\",\"Oceania\",\"Northern Europe\",\"Southeast Asia\",\"Southern Europe\",\"Caribbean\",\"West of USA \",\"South Asia\",\"Eastern Asia\",\"East of USA\",\"West Asia\",\"US Center \",\"South of  USA \",\"Eastern Europe\",\"West Africa\",\"North Africa\",\"East Africa\",\"Central Africa\",\"Southern Africa\",\"Canada\",\"Central Asia\"],\"y\":[708,651,398,303,263,224,206,205,200,193,188,184,128,125,108,100,79,64,42,41,24,13,7],\"type\":\"bar\"}],                        {\"template\":{\"data\":{\"histogram2dcontour\":[{\"type\":\"histogram2dcontour\",\"colorbar\":{\"outlinewidth\":0,\"ticks\":\"\"},\"colorscale\":[[0.0,\"#0d0887\"],[0.1111111111111111,\"#46039f\"],[0.2222222222222222,\"#7201a8\"],[0.3333333333333333,\"#9c179e\"],[0.4444444444444444,\"#bd3786\"],[0.5555555555555556,\"#d8576b\"],[0.6666666666666666,\"#ed7953\"],[0.7777777777777778,\"#fb9f3a\"],[0.8888888888888888,\"#fdca26\"],[1.0,\"#f0f921\"]]}],\"choropleth\":[{\"type\":\"choropleth\",\"colorbar\":{\"outlinewidth\":0,\"ticks\":\"\"}}],\"histogram2d\":[{\"type\":\"histogram2d\",\"colorbar\":{\"outlinewidth\":0,\"ticks\":\"\"},\"colorscale\":[[0.0,\"#0d0887\"],[0.1111111111111111,\"#46039f\"],[0.2222222222222222,\"#7201a8\"],[0.3333333333333333,\"#9c179e\"],[0.4444444444444444,\"#bd3786\"],[0.5555555555555556,\"#d8576b\"],[0.6666666666666666,\"#ed7953\"],[0.7777777777777778,\"#fb9f3a\"],[0.8888888888888888,\"#fdca26\"],[1.0,\"#f0f921\"]]}],\"heatmap\":[{\"type\":\"heatmap\",\"colorbar\":{\"outlinewidth\":0,\"ticks\":\"\"},\"colorscale\":[[0.0,\"#0d0887\"],[0.1111111111111111,\"#46039f\"],[0.2222222222222222,\"#7201a8\"],[0.3333333333333333,\"#9c179e\"],[0.4444444444444444,\"#bd3786\"],[0.5555555555555556,\"#d8576b\"],[0.6666666666666666,\"#ed7953\"],[0.7777777777777778,\"#fb9f3a\"],[0.8888888888888888,\"#fdca26\"],[1.0,\"#f0f921\"]]}],\"heatmapgl\":[{\"type\":\"heatmapgl\",\"colorbar\":{\"outlinewidth\":0,\"ticks\":\"\"},\"colorscale\":[[0.0,\"#0d0887\"],[0.1111111111111111,\"#46039f\"],[0.2222222222222222,\"#7201a8\"],[0.3333333333333333,\"#9c179e\"],[0.4444444444444444,\"#bd3786\"],[0.5555555555555556,\"#d8576b\"],[0.6666666666666666,\"#ed7953\"],[0.7777777777777778,\"#fb9f3a\"],[0.8888888888888888,\"#fdca26\"],[1.0,\"#f0f921\"]]}],\"contourcarpet\":[{\"type\":\"contourcarpet\",\"colorbar\":{\"outlinewidth\":0,\"ticks\":\"\"}}],\"contour\":[{\"type\":\"contour\",\"colorbar\":{\"outlinewidth\":0,\"ticks\":\"\"},\"colorscale\":[[0.0,\"#0d0887\"],[0.1111111111111111,\"#46039f\"],[0.2222222222222222,\"#7201a8\"],[0.3333333333333333,\"#9c179e\"],[0.4444444444444444,\"#bd3786\"],[0.5555555555555556,\"#d8576b\"],[0.6666666666666666,\"#ed7953\"],[0.7777777777777778,\"#fb9f3a\"],[0.8888888888888888,\"#fdca26\"],[1.0,\"#f0f921\"]]}],\"surface\":[{\"type\":\"surface\",\"colorbar\":{\"outlinewidth\":0,\"ticks\":\"\"},\"colorscale\":[[0.0,\"#0d0887\"],[0.1111111111111111,\"#46039f\"],[0.2222222222222222,\"#7201a8\"],[0.3333333333333333,\"#9c179e\"],[0.4444444444444444,\"#bd3786\"],[0.5555555555555556,\"#d8576b\"],[0.6666666666666666,\"#ed7953\"],[0.7777777777777778,\"#fb9f3a\"],[0.8888888888888888,\"#fdca26\"],[1.0,\"#f0f921\"]]}],\"mesh3d\":[{\"type\":\"mesh3d\",\"colorbar\":{\"outlinewidth\":0,\"ticks\":\"\"}}],\"scatter\":[{\"fillpattern\":{\"fillmode\":\"overlay\",\"size\":10,\"solidity\":0.2},\"type\":\"scatter\"}],\"parcoords\":[{\"type\":\"parcoords\",\"line\":{\"colorbar\":{\"outlinewidth\":0,\"ticks\":\"\"}}}],\"scatterpolargl\":[{\"type\":\"scatterpolargl\",\"marker\":{\"colorbar\":{\"outlinewidth\":0,\"ticks\":\"\"}}}],\"bar\":[{\"error_x\":{\"color\":\"#2a3f5f\"},\"error_y\":{\"color\":\"#2a3f5f\"},\"marker\":{\"line\":{\"color\":\"#E5ECF6\",\"width\":0.5},\"pattern\":{\"fillmode\":\"overlay\",\"size\":10,\"solidity\":0.2}},\"type\":\"bar\"}],\"scattergeo\":[{\"type\":\"scattergeo\",\"marker\":{\"colorbar\":{\"outlinewidth\":0,\"ticks\":\"\"}}}],\"scatterpolar\":[{\"type\":\"scatterpolar\",\"marker\":{\"colorbar\":{\"outlinewidth\":0,\"ticks\":\"\"}}}],\"histogram\":[{\"marker\":{\"pattern\":{\"fillmode\":\"overlay\",\"size\":10,\"solidity\":0.2}},\"type\":\"histogram\"}],\"scattergl\":[{\"type\":\"scattergl\",\"marker\":{\"colorbar\":{\"outlinewidth\":0,\"ticks\":\"\"}}}],\"scatter3d\":[{\"type\":\"scatter3d\",\"line\":{\"colorbar\":{\"outlinewidth\":0,\"ticks\":\"\"}},\"marker\":{\"colorbar\":{\"outlinewidth\":0,\"ticks\":\"\"}}}],\"scattermapbox\":[{\"type\":\"scattermapbox\",\"marker\":{\"colorbar\":{\"outlinewidth\":0,\"ticks\":\"\"}}}],\"scatterternary\":[{\"type\":\"scatterternary\",\"marker\":{\"colorbar\":{\"outlinewidth\":0,\"ticks\":\"\"}}}],\"scattercarpet\":[{\"type\":\"scattercarpet\",\"marker\":{\"colorbar\":{\"outlinewidth\":0,\"ticks\":\"\"}}}],\"carpet\":[{\"aaxis\":{\"endlinecolor\":\"#2a3f5f\",\"gridcolor\":\"white\",\"linecolor\":\"white\",\"minorgridcolor\":\"white\",\"startlinecolor\":\"#2a3f5f\"},\"baxis\":{\"endlinecolor\":\"#2a3f5f\",\"gridcolor\":\"white\",\"linecolor\":\"white\",\"minorgridcolor\":\"white\",\"startlinecolor\":\"#2a3f5f\"},\"type\":\"carpet\"}],\"table\":[{\"cells\":{\"fill\":{\"color\":\"#EBF0F8\"},\"line\":{\"color\":\"white\"}},\"header\":{\"fill\":{\"color\":\"#C8D4E3\"},\"line\":{\"color\":\"white\"}},\"type\":\"table\"}],\"barpolar\":[{\"marker\":{\"line\":{\"color\":\"#E5ECF6\",\"width\":0.5},\"pattern\":{\"fillmode\":\"overlay\",\"size\":10,\"solidity\":0.2}},\"type\":\"barpolar\"}],\"pie\":[{\"automargin\":true,\"type\":\"pie\"}]},\"layout\":{\"autotypenumbers\":\"strict\",\"colorway\":[\"#636efa\",\"#EF553B\",\"#00cc96\",\"#ab63fa\",\"#FFA15A\",\"#19d3f3\",\"#FF6692\",\"#B6E880\",\"#FF97FF\",\"#FECB52\"],\"font\":{\"color\":\"#2a3f5f\"},\"hovermode\":\"closest\",\"hoverlabel\":{\"align\":\"left\"},\"paper_bgcolor\":\"white\",\"plot_bgcolor\":\"#E5ECF6\",\"polar\":{\"bgcolor\":\"#E5ECF6\",\"angularaxis\":{\"gridcolor\":\"white\",\"linecolor\":\"white\",\"ticks\":\"\"},\"radialaxis\":{\"gridcolor\":\"white\",\"linecolor\":\"white\",\"ticks\":\"\"}},\"ternary\":{\"bgcolor\":\"#E5ECF6\",\"aaxis\":{\"gridcolor\":\"white\",\"linecolor\":\"white\",\"ticks\":\"\"},\"baxis\":{\"gridcolor\":\"white\",\"linecolor\":\"white\",\"ticks\":\"\"},\"caxis\":{\"gridcolor\":\"white\",\"linecolor\":\"white\",\"ticks\":\"\"}},\"coloraxis\":{\"colorbar\":{\"outlinewidth\":0,\"ticks\":\"\"}},\"colorscale\":{\"sequential\":[[0.0,\"#0d0887\"],[0.1111111111111111,\"#46039f\"],[0.2222222222222222,\"#7201a8\"],[0.3333333333333333,\"#9c179e\"],[0.4444444444444444,\"#bd3786\"],[0.5555555555555556,\"#d8576b\"],[0.6666666666666666,\"#ed7953\"],[0.7777777777777778,\"#fb9f3a\"],[0.8888888888888888,\"#fdca26\"],[1.0,\"#f0f921\"]],\"sequentialminus\":[[0.0,\"#0d0887\"],[0.1111111111111111,\"#46039f\"],[0.2222222222222222,\"#7201a8\"],[0.3333333333333333,\"#9c179e\"],[0.4444444444444444,\"#bd3786\"],[0.5555555555555556,\"#d8576b\"],[0.6666666666666666,\"#ed7953\"],[0.7777777777777778,\"#fb9f3a\"],[0.8888888888888888,\"#fdca26\"],[1.0,\"#f0f921\"]],\"diverging\":[[0,\"#8e0152\"],[0.1,\"#c51b7d\"],[0.2,\"#de77ae\"],[0.3,\"#f1b6da\"],[0.4,\"#fde0ef\"],[0.5,\"#f7f7f7\"],[0.6,\"#e6f5d0\"],[0.7,\"#b8e186\"],[0.8,\"#7fbc41\"],[0.9,\"#4d9221\"],[1,\"#276419\"]]},\"xaxis\":{\"gridcolor\":\"white\",\"linecolor\":\"white\",\"ticks\":\"\",\"title\":{\"standoff\":15},\"zerolinecolor\":\"white\",\"automargin\":true,\"zerolinewidth\":2},\"yaxis\":{\"gridcolor\":\"white\",\"linecolor\":\"white\",\"ticks\":\"\",\"title\":{\"standoff\":15},\"zerolinecolor\":\"white\",\"automargin\":true,\"zerolinewidth\":2},\"scene\":{\"xaxis\":{\"backgroundcolor\":\"#E5ECF6\",\"gridcolor\":\"white\",\"linecolor\":\"white\",\"showbackground\":true,\"ticks\":\"\",\"zerolinecolor\":\"white\",\"gridwidth\":2},\"yaxis\":{\"backgroundcolor\":\"#E5ECF6\",\"gridcolor\":\"white\",\"linecolor\":\"white\",\"showbackground\":true,\"ticks\":\"\",\"zerolinecolor\":\"white\",\"gridwidth\":2},\"zaxis\":{\"backgroundcolor\":\"#E5ECF6\",\"gridcolor\":\"white\",\"linecolor\":\"white\",\"showbackground\":true,\"ticks\":\"\",\"zerolinecolor\":\"white\",\"gridwidth\":2}},\"shapedefaults\":{\"line\":{\"color\":\"#2a3f5f\"}},\"annotationdefaults\":{\"arrowcolor\":\"#2a3f5f\",\"arrowhead\":0,\"arrowwidth\":1},\"geo\":{\"bgcolor\":\"white\",\"landcolor\":\"#E5ECF6\",\"subunitcolor\":\"white\",\"showland\":true,\"showlakes\":true,\"lakecolor\":\"white\"},\"title\":{\"x\":0.05},\"mapbox\":{\"style\":\"light\"}}},\"xaxis\":{\"categoryorder\":\"total descending\"},\"yaxis\":{\"title\":{\"text\":\"Number of shipments\",\"font\":{\"size\":16}},\"tickfont\":{\"size\":14}},\"legend\":{\"x\":1,\"y\":1.0,\"bgcolor\":\"rgba(255, 255, 255, 0)\",\"bordercolor\":\"rgba(255, 255, 255, 0)\"},\"title\":{\"text\":\"Different Types of shipping methods used in all regions\"},\"barmode\":\"group\",\"bargap\":0.15,\"bargroupgap\":0.1},                        {\"responsive\": true}                    ).then(function(){\n",
       "                            \n",
       "var gd = document.getElementById('945fc83e-473b-4d73-b387-d5f6770f9d5b');\n",
       "var x = new MutationObserver(function (mutations, observer) {{\n",
       "        var display = window.getComputedStyle(gd).display;\n",
       "        if (!display || display === 'none') {{\n",
       "            console.log([gd, 'removed!']);\n",
       "            Plotly.purge(gd);\n",
       "            observer.disconnect();\n",
       "        }}\n",
       "}});\n",
       "\n",
       "// Listen for the removal of the full notebook cells\n",
       "var notebookContainer = gd.closest('#notebook-container');\n",
       "if (notebookContainer) {{\n",
       "    x.observe(notebookContainer, {childList: true});\n",
       "}}\n",
       "\n",
       "// Listen for the clearing of the current output cell\n",
       "var outputEl = gd.closest('.output');\n",
       "if (outputEl) {{\n",
       "    x.observe(outputEl, {childList: true});\n",
       "}}\n",
       "\n",
       "                        })                };                });            </script>        </div>"
      ]
     },
     "metadata": {},
     "output_type": "display_data"
    }
   ],
   "source": [
    "#Filtering late delivery orders with standard class shipping\n",
    "xyz1 = data[(data['Delivery Status'] == 'Late delivery') & (data['Shipping Mode'] == 'Standard Class')]\n",
    "#Filtering late delivery orders with first class shipping\n",
    "xyz2 = data[(data['Delivery Status'] == 'Late delivery') & (data['Shipping Mode'] == 'First Class')]\n",
    "#Filtering late delivery orders with second class shipping\n",
    "xyz3 = data[(data['Delivery Status'] == 'Late delivery') & (data['Shipping Mode'] == 'Second Class')]\n",
    "#Filtering late delivery orders with same day shipping\n",
    "xyz4 = data[(data['Delivery Status'] == 'Late delivery') & (data['Shipping Mode'] == 'Same Day')]\n",
    "#Counting total values\n",
    "count1=xyz1['Order Region'].value_counts()\n",
    "count2=xyz2['Order Region'].value_counts()\n",
    "count3=xyz3['Order Region'].value_counts()\n",
    "count4=xyz4['Order Region'].value_counts()\n",
    "#Index names\n",
    "names=data['Order Region'].value_counts().keys()\n",
    "\n",
    "fig = go.Figure()\n",
    "fig.add_trace(go.Bar(x=names,\n",
    "                y=count1,\n",
    "                name='Standard Class',\n",
    "                marker_color='rgb(55, 83, 109)'\n",
    "                ))\n",
    "fig.add_trace(go.Bar(x=names,\n",
    "                y=count2,\n",
    "                name='First Class',\n",
    "                marker_color='rgb(26, 118, 255)'\n",
    "                ))\n",
    "fig.add_trace(go.Bar(x=names,\n",
    "                y=count3,\n",
    "                name='Second Class',\n",
    "                marker_color='rgb(100, 231, 186)'\n",
    "                ))\n",
    "fig.add_trace(go.Bar(x=names,\n",
    "                y=count4,\n",
    "                name='Same Day',\n",
    "                marker_color='rgb(243, 134, 59)'\n",
    "                ))\n",
    "\n",
    "fig.update_layout(\n",
    "    title='Different Types of shipping methods used in all regions',\n",
    "    xaxis={'categoryorder':'total descending'},\n",
    "    yaxis=dict(\n",
    "        title='Number of shipments',\n",
    "        titlefont_size=16,\n",
    "        tickfont_size=14,\n",
    "    ),\n",
    "    legend=dict(\n",
    "        x=1,\n",
    "        y=1.0,\n",
    "        bgcolor='rgba(255, 255, 255, 0)',\n",
    "        bordercolor='rgba(255, 255, 255, 0)'\n",
    "    ),\n",
    "    barmode='group',\n",
    "    bargap=0.15, # gap between bars of adjacent location coordinates.\n",
    "    bargroupgap=0.1 # gap between bars of the same location coordinate.\n",
    ")\n",
    "fig.show()\n"
   ]
  },
  {
   "cell_type": "markdown",
   "id": "5733e7d9",
   "metadata": {
    "papermill": {
     "duration": 0.025198,
     "end_time": "2023-04-07T15:12:40.316877",
     "exception": false,
     "start_time": "2023-04-07T15:12:40.291679",
     "status": "completed"
    },
    "tags": []
   },
   "source": [
    "# Hypothesis 1: Impact of delivery time on order profitability"
   ]
  },
  {
   "cell_type": "code",
   "execution_count": 19,
   "id": "88bc54b4",
   "metadata": {
    "execution": {
     "iopub.execute_input": "2023-04-07T15:12:40.369842Z",
     "iopub.status.busy": "2023-04-07T15:12:40.369427Z",
     "iopub.status.idle": "2023-04-07T15:12:41.287195Z",
     "shell.execute_reply": "2023-04-07T15:12:41.285886Z"
    },
    "papermill": {
     "duration": 0.947494,
     "end_time": "2023-04-07T15:12:41.290091",
     "exception": false,
     "start_time": "2023-04-07T15:12:40.342597",
     "status": "completed"
    },
    "tags": []
   },
   "outputs": [
    {
     "name": "stderr",
     "output_type": "stream",
     "text": [
      "/opt/conda/lib/python3.7/site-packages/ipykernel_launcher.py:5: SettingWithCopyWarning:\n",
      "\n",
      "\n",
      "A value is trying to be set on a copy of a slice from a DataFrame.\n",
      "Try using .loc[row_indexer,col_indexer] = value instead\n",
      "\n",
      "See the caveats in the documentation: https://pandas.pydata.org/pandas-docs/stable/user_guide/indexing.html#returning-a-view-versus-a-copy\n",
      "\n"
     ]
    },
    {
     "data": {
      "text/plain": [
       "<AxesSubplot:xlabel='Delivery Time Diff', ylabel='Order Profit Per Order'>"
      ]
     },
     "execution_count": 19,
     "metadata": {},
     "output_type": "execute_result"
    },
    {
     "data": {
      "image/png": "[encoded data removed]",
      "text/plain": [
       "<Figure size 640x480 with 1 Axes>"
      ]
     },
     "metadata": {},
     "output_type": "display_data"
    }
   ],
   "source": [
    "# Filter relevant columns for analysis\n",
    "df_delivery = df[['Days for shipping (real)', 'Days for shipment (scheduled)', 'Order Profit Per Order']]\n",
    "\n",
    "# Calculate the delivery time difference\n",
    "df_delivery['Delivery Time Diff'] = df_delivery['Days for shipping (real)'] - df_delivery['Days for shipment (scheduled)']\n",
    "\n",
    "# Plot the relationship between delivery time difference and order profit per order\n",
    "sns.scatterplot(x='Delivery Time Diff', y='Order Profit Per Order', data=df_delivery)"
   ]
  },
  {
   "cell_type": "markdown",
   "id": "e3a0fdd7",
   "metadata": {
    "papermill": {
     "duration": 0.026032,
     "end_time": "2023-04-07T15:12:41.342585",
     "exception": false,
     "start_time": "2023-04-07T15:12:41.316553",
     "status": "completed"
    },
    "tags": []
   },
   "source": [
    "### Null hypothesis: There is no significant difference in order profitability between orders with shorter actual delivery time and those with longer delivery time.\n",
    "### Alternative hypothesis: Orders with a shorter actual delivery time are more profitable than those with a longer delivery time."
   ]
  },
  {
   "cell_type": "code",
   "execution_count": 20,
   "id": "a0059fa2",
   "metadata": {
    "execution": {
     "iopub.execute_input": "2023-04-07T15:12:41.397217Z",
     "iopub.status.busy": "2023-04-07T15:12:41.396801Z",
     "iopub.status.idle": "2023-04-07T15:12:41.505626Z",
     "shell.execute_reply": "2023-04-07T15:12:41.504406Z"
    },
    "papermill": {
     "duration": 0.139498,
     "end_time": "2023-04-07T15:12:41.508424",
     "exception": false,
     "start_time": "2023-04-07T15:12:41.368926",
     "status": "completed"
    },
    "tags": []
   },
   "outputs": [
    {
     "name": "stdout",
     "output_type": "stream",
     "text": [
      "Hypothesis 1: Impact of delivery time on order profitability\n",
      "t-statistic: 1.139603123470619\n",
      "p-value: 0.25445538762854697\n",
      "Fail to reject the null hypothesis\n"
     ]
    }
   ],
   "source": [
    "# calculate the delivery time difference\n",
    "df[\"Delivery_Time_Difference\"] = df[\"Days for shipping (real)\"] - df[\"Days for shipment (scheduled)\"]\n",
    "\n",
    "# split the data into two groups based on the delivery time difference\n",
    "short_delivery = df[df[\"Delivery_Time_Difference\"] < 0]\n",
    "long_delivery = df[df[\"Delivery_Time_Difference\"] >= 0]\n",
    "\n",
    "# Conducting a two-sample t-test to compare the mean order profit per order between the two groups\n",
    "t_stat, p_value = stats.ttest_ind(short_delivery[\"Order Profit Per Order\"], long_delivery[\"Order Profit Per Order\"], equal_var=False)\n",
    "\n",
    "alpha = 0.05\n",
    "\n",
    "print(\"Hypothesis 1: Impact of delivery time on order profitability\")\n",
    "print(\"t-statistic:\", t_stat)\n",
    "print(\"p-value:\", p_value)\n",
    "\n",
    "if p_value < alpha:\n",
    "    print(\"Reject the null hypothesis\")\n",
    "else:\n",
    "    print(\"Fail to reject the null hypothesis\")"
   ]
  },
  {
   "cell_type": "markdown",
   "id": "4e6019c6",
   "metadata": {
    "papermill": {
     "duration": 0.025948,
     "end_time": "2023-04-07T15:12:41.561535",
     "exception": false,
     "start_time": "2023-04-07T15:12:41.535587",
     "status": "completed"
    },
    "tags": []
   },
   "source": [
    "****The output indicates that the calculated t-statistic is 1.14 and the corresponding p-value is 0.25.****\n",
    "\n",
    "****Since the p-value is greater than the significance level of 0.05, the null hypothesis (there is no significant difference in order profitability between orders with shorter actual delivery time and those with longer delivery time) cannot be rejected.****\n",
    "\n",
    "****Therefore, based on the results of the test, we cannot conclude that there is a significant impact of delivery time on order profitability.****"
   ]
  },
  {
   "cell_type": "markdown",
   "id": "e58c1403",
   "metadata": {
    "papermill": {
     "duration": 0.026487,
     "end_time": "2023-04-07T15:12:41.615142",
     "exception": false,
     "start_time": "2023-04-07T15:12:41.588655",
     "status": "completed"
    },
    "tags": []
   },
   "source": [
    "# Hypothesis 2: Relationship between sales per customer and delivery status\n"
   ]
  },
  {
   "cell_type": "code",
   "execution_count": 21,
   "id": "cbd27839",
   "metadata": {
    "execution": {
     "iopub.execute_input": "2023-04-07T15:12:41.670597Z",
     "iopub.status.busy": "2023-04-07T15:12:41.669770Z",
     "iopub.status.idle": "2023-04-07T15:12:42.031317Z",
     "shell.execute_reply": "2023-04-07T15:12:42.030021Z"
    },
    "papermill": {
     "duration": 0.392458,
     "end_time": "2023-04-07T15:12:42.034113",
     "exception": false,
     "start_time": "2023-04-07T15:12:41.641655",
     "status": "completed"
    },
    "tags": []
   },
   "outputs": [
    {
     "data": {
      "text/plain": [
       "<AxesSubplot:xlabel='Delivery Status', ylabel='Sales per customer'>"
      ]
     },
     "execution_count": 21,
     "metadata": {},
     "output_type": "execute_result"
    },
    {
     "data": {
      "image/png": "[encoded data removed]",
      "text/plain": [
       "<Figure size 640x480 with 1 Axes>"
      ]
     },
     "metadata": {},
     "output_type": "display_data"
    }
   ],
   "source": [
    "# Filter relevant columns for analysis\n",
    "df_delivery = df[['Delivery Status', 'Sales per customer']]\n",
    "\n",
    "# Plot the relationship between delivery status and sales per customer\n",
    "sns.boxplot(x='Delivery Status', y='Sales per customer', data=df_delivery)"
   ]
  },
  {
   "cell_type": "markdown",
   "id": "f7080028",
   "metadata": {
    "papermill": {
     "duration": 0.029548,
     "end_time": "2023-04-07T15:12:42.096214",
     "exception": false,
     "start_time": "2023-04-07T15:12:42.066666",
     "status": "completed"
    },
    "tags": []
   },
   "source": [
    "### Null hypothesis: There is no significant difference in sales per customer between orders delivered on time and those that are not.\n",
    "### Alternative hypothesis: Customers who receive their orders on time have higher sales per customer than those who do not.\n"
   ]
  },
  {
   "cell_type": "code",
   "execution_count": 22,
   "id": "3bd7655a",
   "metadata": {
    "execution": {
     "iopub.execute_input": "2023-04-07T15:12:42.152470Z",
     "iopub.status.busy": "2023-04-07T15:12:42.151725Z",
     "iopub.status.idle": "2023-04-07T15:12:42.374909Z",
     "shell.execute_reply": "2023-04-07T15:12:42.373453Z"
    },
    "papermill": {
     "duration": 0.254592,
     "end_time": "2023-04-07T15:12:42.377668",
     "exception": false,
     "start_time": "2023-04-07T15:12:42.123076",
     "status": "completed"
    },
    "tags": []
   },
   "outputs": [
    {
     "name": "stdout",
     "output_type": "stream",
     "text": [
      "Hypothesis 2: Relationship between sales per customer and delivery status\n",
      "t-statistic: 1.8823388357093322\n",
      "p-value: 0.059791874349571256\n",
      "Fail to reject the null hypothesis\n"
     ]
    }
   ],
   "source": [
    "# create two groups based on the delivery status\n",
    "on_time1 = df[df[\"Delivery Status\"] == \"Shipping on time\"]\n",
    "on_time2 = df[df[\"Delivery Status\"] == \"Advance shipping\"]\n",
    "on_time=pd.concat([on_time1, on_time2], axis=0)\n",
    "not_on_time = df[df[\"Delivery Status\"] == \"Late delivery\"]\n",
    "\n",
    "# Conducting a two-sample t-test to compare the mean sales per customer between the two groups\n",
    "t_stat, p_value = stats.ttest_ind(on_time[\"Sales per customer\"], not_on_time[\"Sales per customer\"], equal_var=False)\n",
    "\n",
    "print(\"Hypothesis 2: Relationship between sales per customer and delivery status\")\n",
    "print(\"t-statistic:\", t_stat)\n",
    "print(\"p-value:\", p_value)\n",
    "\n",
    "if p_value < alpha:\n",
    "    print(\"Reject the null hypothesis\")\n",
    "else:\n",
    "    print(\"Fail to reject the null hypothesis\")"
   ]
  },
  {
   "cell_type": "markdown",
   "id": "443c8edd",
   "metadata": {
    "papermill": {
     "duration": 0.026883,
     "end_time": "2023-04-07T15:12:42.431741",
     "exception": false,
     "start_time": "2023-04-07T15:12:42.404858",
     "status": "completed"
    },
    "tags": []
   },
   "source": [
    "##### Based on the output, the t-statistic is 1.88 and the p-value is 0.0598, which is higher than the significance level of 0.05. \n",
    "##### Therefore, we fail to reject the null hypothesis that there is no significant difference in sales per customer between orders delivered on time and those that are not. \n",
    "##### This means that there is insufficient evidence to conclude that customers who receive their orders on time have higher sales per customer than those who do not. However, since the p-value is relatively close to the significance level, further investigation may be warranted to determine if there is a potential relationship between delivery status and sales per customer."
   ]
  },
  {
   "cell_type": "markdown",
   "id": "56eed3dc",
   "metadata": {
    "papermill": {
     "duration": 0.026673,
     "end_time": "2023-04-07T15:12:42.486272",
     "exception": false,
     "start_time": "2023-04-07T15:12:42.459599",
     "status": "completed"
    },
    "tags": []
   },
   "source": [
    "# Hypothesis 3: Impact of late delivery risk on order profit\n"
   ]
  },
  {
   "cell_type": "code",
   "execution_count": 23,
   "id": "c598cfc9",
   "metadata": {
    "execution": {
     "iopub.execute_input": "2023-04-07T15:12:42.542600Z",
     "iopub.status.busy": "2023-04-07T15:12:42.541825Z",
     "iopub.status.idle": "2023-04-07T15:12:42.843434Z",
     "shell.execute_reply": "2023-04-07T15:12:42.842344Z"
    },
    "papermill": {
     "duration": 0.332975,
     "end_time": "2023-04-07T15:12:42.846175",
     "exception": false,
     "start_time": "2023-04-07T15:12:42.513200",
     "status": "completed"
    },
    "tags": []
   },
   "outputs": [
    {
     "data": {
      "text/plain": [
       "<AxesSubplot:xlabel='Late_delivery_risk', ylabel='Order Profit Per Order'>"
      ]
     },
     "execution_count": 23,
     "metadata": {},
     "output_type": "execute_result"
    },
    {
     "data": {
      "image/png": "[encoded data removed]",
      "text/plain": [
       "<Figure size 640x480 with 1 Axes>"
      ]
     },
     "metadata": {},
     "output_type": "display_data"
    }
   ],
   "source": [
    "# Filter relevant columns for analysis\n",
    "df_delivery = df[['Late_delivery_risk', 'Order Profit Per Order']]\n",
    "\n",
    "# Plot the relationship between late delivery risk and order profit per order\n",
    "sns.boxplot(x='Late_delivery_risk', y='Order Profit Per Order', data=df_delivery)"
   ]
  },
  {
   "cell_type": "markdown",
   "id": "4dceca65",
   "metadata": {
    "papermill": {
     "duration": 0.027289,
     "end_time": "2023-04-07T15:12:42.901816",
     "exception": false,
     "start_time": "2023-04-07T15:12:42.874527",
     "status": "completed"
    },
    "tags": []
   },
   "source": [
    "### Null hypothesis: There is no significant difference in order profitability between orders with high and low late delivery risk.\n",
    "### Alternative hypothesis: Orders with a higher late delivery risk are less profitable than those with a lower late delivery risk.\n"
   ]
  },
  {
   "cell_type": "code",
   "execution_count": 24,
   "id": "660f1e31",
   "metadata": {
    "execution": {
     "iopub.execute_input": "2023-04-07T15:12:42.959212Z",
     "iopub.status.busy": "2023-04-07T15:12:42.958803Z",
     "iopub.status.idle": "2023-04-07T15:12:43.058520Z",
     "shell.execute_reply": "2023-04-07T15:12:43.056838Z"
    },
    "papermill": {
     "duration": 0.131865,
     "end_time": "2023-04-07T15:12:43.061436",
     "exception": false,
     "start_time": "2023-04-07T15:12:42.929571",
     "status": "completed"
    },
    "tags": []
   },
   "outputs": [
    {
     "name": "stdout",
     "output_type": "stream",
     "text": [
      "Hypothesis 3: Impact of late delivery risk on order profit\n",
      "t-statistic: -1.5868926397312249\n",
      "p-value: 0.1125387655316413\n",
      "Fail to reject the null hypothesis\n"
     ]
    }
   ],
   "source": [
    "# create two groups based on the late delivery risk\n",
    "high_risk = df[df[\"Late_delivery_risk\"] == 1]\n",
    "low_risk = df[df[\"Late_delivery_risk\"] == 0]\n",
    "\n",
    "# Conducting a two-sample t-test to compare the mean order profit per order between the two groups\n",
    "t_stat, p_value = stats.ttest_ind(high_risk[\"Order Profit Per Order\"], low_risk[\"Order Profit Per Order\"], equal_var=False)\n",
    "\n",
    "print(\"Hypothesis 3: Impact of late delivery risk on order profit\")\n",
    "print(\"t-statistic:\", t_stat)\n",
    "print(\"p-value:\", p_value)\n",
    "\n",
    "if p_value < alpha:\n",
    "    print(\"Reject the null hypothesis\")\n",
    "else:\n",
    "    print(\"Fail to reject the null hypothesis\")\n"
   ]
  },
  {
   "cell_type": "markdown",
   "id": "c1b3cbc2",
   "metadata": {
    "papermill": {
     "duration": 0.027487,
     "end_time": "2023-04-07T15:12:43.117103",
     "exception": false,
     "start_time": "2023-04-07T15:12:43.089616",
     "status": "completed"
    },
    "tags": []
   },
   "source": [
    "##### Based on the given output, the calculated t-statistic is -1.59 and the p-value is 0.11. Since the p-value is greater than the significance level of 0.05, we fail to reject the null hypothesis. Therefore, there is no significant difference in order profitability between orders with high and low late delivery risk."
   ]
  },
  {
   "cell_type": "markdown",
   "id": "7dab9e1a",
   "metadata": {
    "papermill": {
     "duration": 0.027356,
     "end_time": "2023-04-07T15:12:43.172323",
     "exception": false,
     "start_time": "2023-04-07T15:12:43.144967",
     "status": "completed"
    },
    "tags": []
   },
   "source": [
    "# Hypothesis 4: Relationship between product price and sales:"
   ]
  },
  {
   "cell_type": "code",
   "execution_count": 25,
   "id": "386c9b68",
   "metadata": {
    "execution": {
     "iopub.execute_input": "2023-04-07T15:12:43.230280Z",
     "iopub.status.busy": "2023-04-07T15:12:43.229869Z",
     "iopub.status.idle": "2023-04-07T15:12:43.850796Z",
     "shell.execute_reply": "2023-04-07T15:12:43.849499Z"
    },
    "papermill": {
     "duration": 0.653261,
     "end_time": "2023-04-07T15:12:43.853376",
     "exception": false,
     "start_time": "2023-04-07T15:12:43.200115",
     "status": "completed"
    },
    "tags": []
   },
   "outputs": [
    {
     "name": "stdout",
     "output_type": "stream",
     "text": [
      "Pearson correlation coefficient: 0.7899\n",
      "P-value: 0.0000\n"
     ]
    },
    {
     "data": {
      "image/png": "[encoded data removed]",
      "text/plain": [
       "<Figure size 640x480 with 1 Axes>"
      ]
     },
     "metadata": {},
     "output_type": "display_data"
    }
   ],
   "source": [
    "# Filter the relevant columns\n",
    "df1 = df[['Product Price', 'Sales']]\n",
    "\n",
    "# Calculate the Pearson correlation coefficient\n",
    "corr, p_value = stats.pearsonr(df1['Product Price'], df1['Sales'])\n",
    "print(f\"Pearson correlation coefficient: {corr:.4f}\")\n",
    "print(f\"P-value: {p_value:.4f}\")\n",
    "\n",
    "# Plot the data\n",
    "plt.scatter(df1['Product Price'], df1['Sales'])\n",
    "plt.xlabel('Product Price')\n",
    "plt.ylabel('Sales')\n",
    "plt.show()"
   ]
  },
  {
   "cell_type": "markdown",
   "id": "6e83ff3d",
   "metadata": {
    "papermill": {
     "duration": 0.027959,
     "end_time": "2023-04-07T15:12:43.909795",
     "exception": false,
     "start_time": "2023-04-07T15:12:43.881836",
     "status": "completed"
    },
    "tags": []
   },
   "source": [
    "#### We got a Pearson correlation coefficient of 0.7899 and conclude that there is a significant strong positive relationship between product price and sales. The scatter plot will also show us a clear positive trend between product price and sales."
   ]
  },
  {
   "cell_type": "markdown",
   "id": "de445585",
   "metadata": {
    "papermill": {
     "duration": 0.027974,
     "end_time": "2023-04-07T15:12:43.966199",
     "exception": false,
     "start_time": "2023-04-07T15:12:43.938225",
     "status": "completed"
    },
    "tags": []
   },
   "source": [
    "### Null Hypothesis (H0): There is no significant relationship between product price and sales.\n",
    "### Alternative Hypothesis (H1): There is a significant relationship between product price and sales."
   ]
  },
  {
   "cell_type": "code",
   "execution_count": 26,
   "id": "cf78780b",
   "metadata": {
    "execution": {
     "iopub.execute_input": "2023-04-07T15:12:44.025750Z",
     "iopub.status.busy": "2023-04-07T15:12:44.024583Z",
     "iopub.status.idle": "2023-04-07T15:12:44.039211Z",
     "shell.execute_reply": "2023-04-07T15:12:44.037754Z"
    },
    "papermill": {
     "duration": 0.048176,
     "end_time": "2023-04-07T15:12:44.042854",
     "exception": false,
     "start_time": "2023-04-07T15:12:43.994678",
     "status": "completed"
    },
    "tags": []
   },
   "outputs": [
    {
     "name": "stdout",
     "output_type": "stream",
     "text": [
      "Hypothesis: Relationship between product price and sales\n",
      "Correlation coefficient: 0.7899482013113878\n",
      "p-value: 0.0\n",
      "Reject the null hypothesis\n"
     ]
    }
   ],
   "source": [
    "# Calculate the correlation coefficient and p-value\n",
    "corr_coef, p_value = stats.pearsonr(df1['Product Price'], df1['Sales'])\n",
    "\n",
    "alpha = 0.05\n",
    "\n",
    "print(\"Hypothesis: Relationship between product price and sales\")\n",
    "print(\"Correlation coefficient:\", corr_coef)\n",
    "print(\"p-value:\", p_value)\n",
    "\n",
    "if p_value < alpha:\n",
    "    print(\"Reject the null hypothesis\")\n",
    "else:\n",
    "    print(\"Fail to reject the null hypothesis\")"
   ]
  },
  {
   "cell_type": "markdown",
   "id": "f715a1c6",
   "metadata": {
    "papermill": {
     "duration": 0.047409,
     "end_time": "2023-04-07T15:12:44.138066",
     "exception": false,
     "start_time": "2023-04-07T15:12:44.090657",
     "status": "completed"
    },
    "tags": []
   },
   "source": [
    "#####  The p-value of 0.0 indicates that there is a very low probability of observing such a strong correlation by chance, which leads to the rejection of the null hypothesis. Therefore, we can conclude that there is a significant relationship between product price and sales."
   ]
  },
  {
   "cell_type": "markdown",
   "id": "8d5fed01",
   "metadata": {
    "papermill": {
     "duration": 0.027896,
     "end_time": "2023-04-07T15:12:44.200668",
     "exception": false,
     "start_time": "2023-04-07T15:12:44.172772",
     "status": "completed"
    },
    "tags": []
   },
   "source": [
    "# Hypothesis 5: Impact of shipping mode on order profitability"
   ]
  },
  {
   "cell_type": "code",
   "execution_count": 27,
   "id": "7a52f592",
   "metadata": {
    "execution": {
     "iopub.execute_input": "2023-04-07T15:12:44.259929Z",
     "iopub.status.busy": "2023-04-07T15:12:44.259541Z",
     "iopub.status.idle": "2023-04-07T15:12:44.625115Z",
     "shell.execute_reply": "2023-04-07T15:12:44.623888Z"
    },
    "papermill": {
     "duration": 0.398322,
     "end_time": "2023-04-07T15:12:44.627812",
     "exception": false,
     "start_time": "2023-04-07T15:12:44.229490",
     "status": "completed"
    },
    "tags": []
   },
   "outputs": [
    {
     "data": {
      "text/plain": [
       "<AxesSubplot:xlabel='Shipping Mode', ylabel='Order Profit Per Order'>"
      ]
     },
     "execution_count": 27,
     "metadata": {},
     "output_type": "execute_result"
    },
    {
     "data": {
      "image/png": "[encoded data removed]",
      "text/plain": [
       "<Figure size 640x480 with 1 Axes>"
      ]
     },
     "metadata": {},
     "output_type": "display_data"
    }
   ],
   "source": [
    "# Filter relevant columns for analysis\n",
    "df_delivery = df[['Shipping Mode', 'Order Profit Per Order']]\n",
    "\n",
    "# Plot the relationship between shipping mode and order profit per order\n",
    "sns.boxplot(x='Shipping Mode', y='Order Profit Per Order', data=df_delivery)"
   ]
  },
  {
   "cell_type": "markdown",
   "id": "4f68ce2e",
   "metadata": {
    "papermill": {
     "duration": 0.028275,
     "end_time": "2023-04-07T15:12:44.685978",
     "exception": false,
     "start_time": "2023-04-07T15:12:44.657703",
     "status": "completed"
    },
    "tags": []
   },
   "source": [
    "#### Null hypothesis: There is no significant difference in order profitability between different shipping modes.\n",
    "#### Alternative hypothesis: Certain shipping modes are more profitable than others."
   ]
  },
  {
   "cell_type": "code",
   "execution_count": 28,
   "id": "f9c9deea",
   "metadata": {
    "execution": {
     "iopub.execute_input": "2023-04-07T15:12:44.745906Z",
     "iopub.status.busy": "2023-04-07T15:12:44.745044Z",
     "iopub.status.idle": "2023-04-07T15:12:44.781099Z",
     "shell.execute_reply": "2023-04-07T15:12:44.779709Z"
    },
    "papermill": {
     "duration": 0.069308,
     "end_time": "2023-04-07T15:12:44.783956",
     "exception": false,
     "start_time": "2023-04-07T15:12:44.714648",
     "status": "completed"
    },
    "tags": []
   },
   "outputs": [
    {
     "name": "stdout",
     "output_type": "stream",
     "text": [
      "Hypothesis 5: Impact of shipping mode on order profitability\n",
      "F-statistic: 1.9791817108864236\n",
      "p-value: 0.11469269801389084\n",
      "Fail to reject the null hypothesis\n"
     ]
    }
   ],
   "source": [
    "#Filter the relevant columns\n",
    "#df = df[['Shipping Mode', 'Order Profit Per Order']]\n",
    "\n",
    "#Group the data by shipping mode\n",
    "shipping_groups = df_delivery.groupby('Shipping Mode')\n",
    "\n",
    "#Conducting a one-way ANOVA test to compare the mean order profit per order between the shipping mode groups\n",
    "f_stat, p_value = stats.f_oneway(*[group['Order Profit Per Order'] for name, group in shipping_groups])\n",
    "\n",
    "alpha = 0.05\n",
    "\n",
    "print(\"Hypothesis 5: Impact of shipping mode on order profitability\")\n",
    "print(\"F-statistic:\", f_stat)\n",
    "print(\"p-value:\", p_value)\n",
    "\n",
    "if p_value < alpha:\n",
    "    print(\"Reject the null hypothesis\")\n",
    "else:\n",
    "    print(\"Fail to reject the null hypothesis\")"
   ]
  },
  {
   "cell_type": "markdown",
   "id": "3a9382ef",
   "metadata": {
    "papermill": {
     "duration": 0.028762,
     "end_time": "2023-04-07T15:12:44.841465",
     "exception": false,
     "start_time": "2023-04-07T15:12:44.812703",
     "status": "completed"
    },
    "tags": []
   },
   "source": [
    "##### Since the p-value is greater than the significance level of 0.05, we fail to reject the null hypothesis. Therefore, there is no significant difference in order profitability between different shipping modes."
   ]
  },
  {
   "cell_type": "markdown",
   "id": "ddaa60b7",
   "metadata": {
    "papermill": {
     "duration": 0.028825,
     "end_time": "2023-04-07T15:12:44.899585",
     "exception": false,
     "start_time": "2023-04-07T15:12:44.870760",
     "status": "completed"
    },
    "tags": []
   },
   "source": [
    "# Hypothesis 6: Relationship between product category and order profitability"
   ]
  },
  {
   "cell_type": "code",
   "execution_count": 29,
   "id": "9c9b06fe",
   "metadata": {
    "execution": {
     "iopub.execute_input": "2023-04-07T15:12:44.960312Z",
     "iopub.status.busy": "2023-04-07T15:12:44.959423Z",
     "iopub.status.idle": "2023-04-07T15:12:45.579681Z",
     "shell.execute_reply": "2023-04-07T15:12:45.578628Z"
    },
    "papermill": {
     "duration": 0.653529,
     "end_time": "2023-04-07T15:12:45.582150",
     "exception": false,
     "start_time": "2023-04-07T15:12:44.928621",
     "status": "completed"
    },
    "tags": []
   },
   "outputs": [
    {
     "data": {
      "image/png": "[encoded data removed]",
      "text/plain": [
       "<Figure size 640x480 with 1 Axes>"
      ]
     },
     "metadata": {},
     "output_type": "display_data"
    }
   ],
   "source": [
    "#Filter the relevant columns\n",
    "df2 = df[['Product Category Id', 'Order Profit Per Order']]\n",
    "\n",
    "\n",
    "# calculate the mean order profit per order for each product category\n",
    "mean_profit = df.groupby(\"Product Category Id\")[\"Order Profit Per Order\"].mean()\n",
    "\n",
    "# create a bar chart to visualize the mean order profit per order for each product category\n",
    "mean_profit.plot(kind=\"bar\")\n",
    "plt.title(\"Relationship between Product Category Id and Order Profitability\")\n",
    "plt.xlabel(\"Product Category Id\")\n",
    "plt.ylabel(\"Mean Order Profit per Order\")\n",
    "plt.show()"
   ]
  },
  {
   "cell_type": "markdown",
   "id": "3d91b1b7",
   "metadata": {
    "papermill": {
     "duration": 0.029815,
     "end_time": "2023-04-07T15:12:45.641825",
     "exception": false,
     "start_time": "2023-04-07T15:12:45.612010",
     "status": "completed"
    },
    "tags": []
   },
   "source": [
    "### Null hypothesis: There is no significant difference in order profitability between different product categories.\n",
    "### Alternative hypothesis: Certain product categories are more profitable than others."
   ]
  },
  {
   "cell_type": "code",
   "execution_count": 30,
   "id": "8ca92ca6",
   "metadata": {
    "execution": {
     "iopub.execute_input": "2023-04-07T15:12:45.703033Z",
     "iopub.status.busy": "2023-04-07T15:12:45.702341Z",
     "iopub.status.idle": "2023-04-07T15:12:45.727797Z",
     "shell.execute_reply": "2023-04-07T15:12:45.726336Z"
    },
    "papermill": {
     "duration": 0.058858,
     "end_time": "2023-04-07T15:12:45.730301",
     "exception": false,
     "start_time": "2023-04-07T15:12:45.671443",
     "status": "completed"
    },
    "tags": []
   },
   "outputs": [
    {
     "name": "stdout",
     "output_type": "stream",
     "text": [
      "Hypothesis 6: Relationship between product category and order profitability\n",
      "F-statistic: 50.753045450066324\n",
      "p-value: 0.0\n",
      "Reject the null hypothesis\n"
     ]
    }
   ],
   "source": [
    "#Group the data by product category\n",
    "product_groups = df2.groupby(\"Product Category Id\")\n",
    "\n",
    "#Conducting a one-way ANOVA test to compare the mean order profit per order between the product groups\n",
    "f_stat, p_value = stats.f_oneway(*[group['Order Profit Per Order'] for name, group in product_groups])\n",
    "\n",
    "alpha = 0.05\n",
    "\n",
    "print(\"Hypothesis 6: Relationship between product category and order profitability\")\n",
    "print(\"F-statistic:\", f_stat)\n",
    "print(\"p-value:\", p_value)\n",
    "\n",
    "if p_value < alpha:\n",
    "    print(\"Reject the null hypothesis\")\n",
    "else:\n",
    "    print(\"Fail to reject the null hypothesis\")"
   ]
  },
  {
   "cell_type": "markdown",
   "id": "67c3fa79",
   "metadata": {
    "papermill": {
     "duration": 0.029952,
     "end_time": "2023-04-07T15:12:45.790675",
     "exception": false,
     "start_time": "2023-04-07T15:12:45.760723",
     "status": "completed"
    },
    "tags": []
   },
   "source": [
    "##### Since the p-value is less than the significance level of 0.05, we reject the null hypothesis and conclude that there is a significant difference in order profitability between different product categories. The alternative hypothesis that certain product categories are more profitable than others is supported by the data."
   ]
  },
  {
   "cell_type": "markdown",
   "id": "70e75caf",
   "metadata": {
    "papermill": {
     "duration": 0.029531,
     "end_time": "2023-04-07T15:12:45.851573",
     "exception": false,
     "start_time": "2023-04-07T15:12:45.822042",
     "status": "completed"
    },
    "tags": []
   },
   "source": [
    "# ***Classification Algorithms***\n",
    "\n",
    "## 1. Logistic Regression"
   ]
  },
  {
   "cell_type": "code",
   "execution_count": 31,
   "id": "e8a5d90b",
   "metadata": {
    "execution": {
     "iopub.execute_input": "2023-04-07T15:12:45.913572Z",
     "iopub.status.busy": "2023-04-07T15:12:45.912725Z",
     "iopub.status.idle": "2023-04-07T15:12:46.180086Z",
     "shell.execute_reply": "2023-04-07T15:12:46.179002Z"
    },
    "papermill": {
     "duration": 0.301489,
     "end_time": "2023-04-07T15:12:46.182948",
     "exception": false,
     "start_time": "2023-04-07T15:12:45.881459",
     "status": "completed"
    },
    "tags": []
   },
   "outputs": [],
   "source": [
    "from sklearn.linear_model import LogisticRegression\n",
    "from sklearn.model_selection import train_test_split\n",
    "from sklearn.metrics import classification_report\n"
   ]
  },
  {
   "cell_type": "code",
   "execution_count": 32,
   "id": "77b8895e",
   "metadata": {
    "execution": {
     "iopub.execute_input": "2023-04-07T15:12:46.244998Z",
     "iopub.status.busy": "2023-04-07T15:12:46.244187Z",
     "iopub.status.idle": "2023-04-07T15:12:46.302778Z",
     "shell.execute_reply": "2023-04-07T15:12:46.301588Z"
    },
    "papermill": {
     "duration": 0.092456,
     "end_time": "2023-04-07T15:12:46.305221",
     "exception": false,
     "start_time": "2023-04-07T15:12:46.212765",
     "status": "completed"
    },
    "tags": []
   },
   "outputs": [
    {
     "data": {
      "text/html": [
       "<div>\n",
       "<style scoped>\n",
       "    .dataframe tbody tr th:only-of-type {\n",
       "        vertical-align: middle;\n",
       "    }\n",
       "\n",
       "    .dataframe tbody tr th {\n",
       "        vertical-align: top;\n",
       "    }\n",
       "\n",
       "    .dataframe thead th {\n",
       "        text-align: right;\n",
       "    }\n",
       "</style>\n",
       "<table border=\"1\" class=\"dataframe\">\n",
       "  <thead>\n",
       "    <tr style=\"text-align: right;\">\n",
       "      <th></th>\n",
       "      <th>Order_Region</th>\n",
       "      <th>Shipping_Mode</th>\n",
       "      <th>Delivery_Status</th>\n",
       "    </tr>\n",
       "  </thead>\n",
       "  <tbody>\n",
       "    <tr>\n",
       "      <th>1</th>\n",
       "      <td>South Asia</td>\n",
       "      <td>Standard Class</td>\n",
       "      <td>Late delivery</td>\n",
       "    </tr>\n",
       "    <tr>\n",
       "      <th>2</th>\n",
       "      <td>South Asia</td>\n",
       "      <td>Standard Class</td>\n",
       "      <td>Shipping on time</td>\n",
       "    </tr>\n",
       "    <tr>\n",
       "      <th>6</th>\n",
       "      <td>Eastern Asia</td>\n",
       "      <td>First Class</td>\n",
       "      <td>Late delivery</td>\n",
       "    </tr>\n",
       "    <tr>\n",
       "      <th>7</th>\n",
       "      <td>Eastern Asia</td>\n",
       "      <td>First Class</td>\n",
       "      <td>Late delivery</td>\n",
       "    </tr>\n",
       "    <tr>\n",
       "      <th>8</th>\n",
       "      <td>Eastern Asia</td>\n",
       "      <td>Second Class</td>\n",
       "      <td>Late delivery</td>\n",
       "    </tr>\n",
       "  </tbody>\n",
       "</table>\n",
       "</div>"
      ],
      "text/plain": [
       "   Order_Region   Shipping_Mode   Delivery_Status\n",
       "1    South Asia  Standard Class     Late delivery\n",
       "2    South Asia  Standard Class  Shipping on time\n",
       "6  Eastern Asia     First Class     Late delivery\n",
       "7  Eastern Asia     First Class     Late delivery\n",
       "8  Eastern Asia    Second Class     Late delivery"
      ]
     },
     "execution_count": 32,
     "metadata": {},
     "output_type": "execute_result"
    }
   ],
   "source": [
    "# Select the columns needed for the model\n",
    "prediction_data=data[['Order Region','Shipping Mode','Delivery Status']]\n",
    "prediction_data.columns=['Order_Region','Shipping_Mode','Delivery_Status'] #by including the Type column the model lowers its precision, by including Customer City the model does not converge\n",
    "prediction_data=prediction_data[prediction_data.Delivery_Status!='Shipping canceled']\n",
    "prediction_data=prediction_data[prediction_data.Delivery_Status!='Advance shipping']\n",
    "prediction_data.head()"
   ]
  },
  {
   "cell_type": "code",
   "execution_count": 33,
   "id": "4e67c438",
   "metadata": {
    "execution": {
     "iopub.execute_input": "2023-04-07T15:12:46.367648Z",
     "iopub.status.busy": "2023-04-07T15:12:46.367226Z",
     "iopub.status.idle": "2023-04-07T15:12:46.435634Z",
     "shell.execute_reply": "2023-04-07T15:12:46.434661Z"
    },
    "papermill": {
     "duration": 0.102311,
     "end_time": "2023-04-07T15:12:46.437984",
     "exception": false,
     "start_time": "2023-04-07T15:12:46.335673",
     "status": "completed"
    },
    "tags": []
   },
   "outputs": [
    {
     "data": {
      "text/html": [
       "<div>\n",
       "<style scoped>\n",
       "    .dataframe tbody tr th:only-of-type {\n",
       "        vertical-align: middle;\n",
       "    }\n",
       "\n",
       "    .dataframe tbody tr th {\n",
       "        vertical-align: top;\n",
       "    }\n",
       "\n",
       "    .dataframe thead th {\n",
       "        text-align: right;\n",
       "    }\n",
       "</style>\n",
       "<table border=\"1\" class=\"dataframe\">\n",
       "  <thead>\n",
       "    <tr style=\"text-align: right;\">\n",
       "      <th></th>\n",
       "      <th>Order_Region_Caribbean</th>\n",
       "      <th>Order_Region_Central Africa</th>\n",
       "      <th>Order_Region_Central America</th>\n",
       "      <th>Order_Region_Central Asia</th>\n",
       "      <th>Order_Region_East Africa</th>\n",
       "      <th>Order_Region_East of USA</th>\n",
       "      <th>Order_Region_Eastern Asia</th>\n",
       "      <th>Order_Region_Eastern Europe</th>\n",
       "      <th>Order_Region_North Africa</th>\n",
       "      <th>Order_Region_Northern Europe</th>\n",
       "      <th>...</th>\n",
       "      <th>Order_Region_Southern Europe</th>\n",
       "      <th>Order_Region_US Center</th>\n",
       "      <th>Order_Region_West Africa</th>\n",
       "      <th>Order_Region_West Asia</th>\n",
       "      <th>Order_Region_West of USA</th>\n",
       "      <th>Order_Region_Western Europe</th>\n",
       "      <th>Shipping_Mode_Same Day</th>\n",
       "      <th>Shipping_Mode_Second Class</th>\n",
       "      <th>Shipping_Mode_Standard Class</th>\n",
       "      <th>Delivery_Status_Shipping on time</th>\n",
       "    </tr>\n",
       "  </thead>\n",
       "  <tbody>\n",
       "    <tr>\n",
       "      <th>1</th>\n",
       "      <td>0</td>\n",
       "      <td>0</td>\n",
       "      <td>0</td>\n",
       "      <td>0</td>\n",
       "      <td>0</td>\n",
       "      <td>0</td>\n",
       "      <td>0</td>\n",
       "      <td>0</td>\n",
       "      <td>0</td>\n",
       "      <td>0</td>\n",
       "      <td>...</td>\n",
       "      <td>0</td>\n",
       "      <td>0</td>\n",
       "      <td>0</td>\n",
       "      <td>0</td>\n",
       "      <td>0</td>\n",
       "      <td>0</td>\n",
       "      <td>0</td>\n",
       "      <td>0</td>\n",
       "      <td>1</td>\n",
       "      <td>0</td>\n",
       "    </tr>\n",
       "    <tr>\n",
       "      <th>2</th>\n",
       "      <td>0</td>\n",
       "      <td>0</td>\n",
       "      <td>0</td>\n",
       "      <td>0</td>\n",
       "      <td>0</td>\n",
       "      <td>0</td>\n",
       "      <td>0</td>\n",
       "      <td>0</td>\n",
       "      <td>0</td>\n",
       "      <td>0</td>\n",
       "      <td>...</td>\n",
       "      <td>0</td>\n",
       "      <td>0</td>\n",
       "      <td>0</td>\n",
       "      <td>0</td>\n",
       "      <td>0</td>\n",
       "      <td>0</td>\n",
       "      <td>0</td>\n",
       "      <td>0</td>\n",
       "      <td>1</td>\n",
       "      <td>1</td>\n",
       "    </tr>\n",
       "    <tr>\n",
       "      <th>6</th>\n",
       "      <td>0</td>\n",
       "      <td>0</td>\n",
       "      <td>0</td>\n",
       "      <td>0</td>\n",
       "      <td>0</td>\n",
       "      <td>0</td>\n",
       "      <td>1</td>\n",
       "      <td>0</td>\n",
       "      <td>0</td>\n",
       "      <td>0</td>\n",
       "      <td>...</td>\n",
       "      <td>0</td>\n",
       "      <td>0</td>\n",
       "      <td>0</td>\n",
       "      <td>0</td>\n",
       "      <td>0</td>\n",
       "      <td>0</td>\n",
       "      <td>0</td>\n",
       "      <td>0</td>\n",
       "      <td>0</td>\n",
       "      <td>0</td>\n",
       "    </tr>\n",
       "    <tr>\n",
       "      <th>7</th>\n",
       "      <td>0</td>\n",
       "      <td>0</td>\n",
       "      <td>0</td>\n",
       "      <td>0</td>\n",
       "      <td>0</td>\n",
       "      <td>0</td>\n",
       "      <td>1</td>\n",
       "      <td>0</td>\n",
       "      <td>0</td>\n",
       "      <td>0</td>\n",
       "      <td>...</td>\n",
       "      <td>0</td>\n",
       "      <td>0</td>\n",
       "      <td>0</td>\n",
       "      <td>0</td>\n",
       "      <td>0</td>\n",
       "      <td>0</td>\n",
       "      <td>0</td>\n",
       "      <td>0</td>\n",
       "      <td>0</td>\n",
       "      <td>0</td>\n",
       "    </tr>\n",
       "    <tr>\n",
       "      <th>8</th>\n",
       "      <td>0</td>\n",
       "      <td>0</td>\n",
       "      <td>0</td>\n",
       "      <td>0</td>\n",
       "      <td>0</td>\n",
       "      <td>0</td>\n",
       "      <td>1</td>\n",
       "      <td>0</td>\n",
       "      <td>0</td>\n",
       "      <td>0</td>\n",
       "      <td>...</td>\n",
       "      <td>0</td>\n",
       "      <td>0</td>\n",
       "      <td>0</td>\n",
       "      <td>0</td>\n",
       "      <td>0</td>\n",
       "      <td>0</td>\n",
       "      <td>0</td>\n",
       "      <td>1</td>\n",
       "      <td>0</td>\n",
       "      <td>0</td>\n",
       "    </tr>\n",
       "  </tbody>\n",
       "</table>\n",
       "<p>5 rows × 26 columns</p>\n",
       "</div>"
      ],
      "text/plain": [
       "   Order_Region_Caribbean  Order_Region_Central Africa  \\\n",
       "1                       0                            0   \n",
       "2                       0                            0   \n",
       "6                       0                            0   \n",
       "7                       0                            0   \n",
       "8                       0                            0   \n",
       "\n",
       "   Order_Region_Central America  Order_Region_Central Asia  \\\n",
       "1                             0                          0   \n",
       "2                             0                          0   \n",
       "6                             0                          0   \n",
       "7                             0                          0   \n",
       "8                             0                          0   \n",
       "\n",
       "   Order_Region_East Africa  Order_Region_East of USA  \\\n",
       "1                         0                         0   \n",
       "2                         0                         0   \n",
       "6                         0                         0   \n",
       "7                         0                         0   \n",
       "8                         0                         0   \n",
       "\n",
       "   Order_Region_Eastern Asia  Order_Region_Eastern Europe  \\\n",
       "1                          0                            0   \n",
       "2                          0                            0   \n",
       "6                          1                            0   \n",
       "7                          1                            0   \n",
       "8                          1                            0   \n",
       "\n",
       "   Order_Region_North Africa  Order_Region_Northern Europe  ...  \\\n",
       "1                          0                             0  ...   \n",
       "2                          0                             0  ...   \n",
       "6                          0                             0  ...   \n",
       "7                          0                             0  ...   \n",
       "8                          0                             0  ...   \n",
       "\n",
       "   Order_Region_Southern Europe  Order_Region_US Center   \\\n",
       "1                             0                        0   \n",
       "2                             0                        0   \n",
       "6                             0                        0   \n",
       "7                             0                        0   \n",
       "8                             0                        0   \n",
       "\n",
       "   Order_Region_West Africa  Order_Region_West Asia  \\\n",
       "1                         0                       0   \n",
       "2                         0                       0   \n",
       "6                         0                       0   \n",
       "7                         0                       0   \n",
       "8                         0                       0   \n",
       "\n",
       "   Order_Region_West of USA   Order_Region_Western Europe  \\\n",
       "1                          0                            0   \n",
       "2                          0                            0   \n",
       "6                          0                            0   \n",
       "7                          0                            0   \n",
       "8                          0                            0   \n",
       "\n",
       "   Shipping_Mode_Same Day  Shipping_Mode_Second Class  \\\n",
       "1                       0                           0   \n",
       "2                       0                           0   \n",
       "6                       0                           0   \n",
       "7                       0                           0   \n",
       "8                       0                           1   \n",
       "\n",
       "   Shipping_Mode_Standard Class  Delivery_Status_Shipping on time  \n",
       "1                             1                                 0  \n",
       "2                             1                                 1  \n",
       "6                             0                                 0  \n",
       "7                             0                                 0  \n",
       "8                             0                                 0  \n",
       "\n",
       "[5 rows x 26 columns]"
      ]
     },
     "execution_count": 33,
     "metadata": {},
     "output_type": "execute_result"
    }
   ],
   "source": [
    "#Feature enginering, one hot encoding\n",
    "#Using one hot encoding when the categorical variable is NOMINAL\n",
    "prediction_data=pd.get_dummies(prediction_data, drop_first=True)\n",
    "prediction_data.head()"
   ]
  },
  {
   "cell_type": "code",
   "execution_count": 34,
   "id": "502037c1",
   "metadata": {
    "execution": {
     "iopub.execute_input": "2023-04-07T15:12:46.501357Z",
     "iopub.status.busy": "2023-04-07T15:12:46.500677Z",
     "iopub.status.idle": "2023-04-07T15:12:46.524251Z",
     "shell.execute_reply": "2023-04-07T15:12:46.523193Z"
    },
    "papermill": {
     "duration": 0.058464,
     "end_time": "2023-04-07T15:12:46.527086",
     "exception": false,
     "start_time": "2023-04-07T15:12:46.468622",
     "status": "completed"
    },
    "tags": []
   },
   "outputs": [],
   "source": [
    "#Test train split\n",
    "X_train, X_test, Y_train, Y_test=train_test_split(prediction_data.drop('Delivery_Status_Shipping on time',axis=1),prediction_data['Delivery_Status_Shipping on time'])"
   ]
  },
  {
   "cell_type": "code",
   "execution_count": 35,
   "id": "32b891af",
   "metadata": {
    "execution": {
     "iopub.execute_input": "2023-04-07T15:12:46.589617Z",
     "iopub.status.busy": "2023-04-07T15:12:46.589117Z",
     "iopub.status.idle": "2023-04-07T15:12:47.335337Z",
     "shell.execute_reply": "2023-04-07T15:12:47.334070Z"
    },
    "papermill": {
     "duration": 0.783974,
     "end_time": "2023-04-07T15:12:47.341039",
     "exception": false,
     "start_time": "2023-04-07T15:12:46.557065",
     "status": "completed"
    },
    "tags": []
   },
   "outputs": [
    {
     "data": {
      "text/plain": [
       "LogisticRegression()"
      ]
     },
     "execution_count": 35,
     "metadata": {},
     "output_type": "execute_result"
    }
   ],
   "source": [
    "#train the model\n",
    "LogReg=LogisticRegression()\n",
    "LogReg.fit(X_train, Y_train)"
   ]
  },
  {
   "cell_type": "code",
   "execution_count": 36,
   "id": "f4d2500c",
   "metadata": {
    "execution": {
     "iopub.execute_input": "2023-04-07T15:12:47.451730Z",
     "iopub.status.busy": "2023-04-07T15:12:47.451318Z",
     "iopub.status.idle": "2023-04-07T15:12:47.470119Z",
     "shell.execute_reply": "2023-04-07T15:12:47.468823Z"
    },
    "papermill": {
     "duration": 0.075853,
     "end_time": "2023-04-07T15:12:47.473366",
     "exception": false,
     "start_time": "2023-04-07T15:12:47.397513",
     "status": "completed"
    },
    "tags": []
   },
   "outputs": [
    {
     "data": {
      "text/plain": [
       "0.7604439836555468"
      ]
     },
     "execution_count": 36,
     "metadata": {},
     "output_type": "execute_result"
    }
   ],
   "source": [
    "#score the model\n",
    "LogReg.score(X_test, Y_test)"
   ]
  },
  {
   "cell_type": "code",
   "execution_count": 37,
   "id": "81061e01",
   "metadata": {
    "execution": {
     "iopub.execute_input": "2023-04-07T15:12:47.579781Z",
     "iopub.status.busy": "2023-04-07T15:12:47.579046Z",
     "iopub.status.idle": "2023-04-07T15:12:47.669740Z",
     "shell.execute_reply": "2023-04-07T15:12:47.667684Z"
    },
    "papermill": {
     "duration": 0.147989,
     "end_time": "2023-04-07T15:12:47.673134",
     "exception": false,
     "start_time": "2023-04-07T15:12:47.525145",
     "status": "completed"
    },
    "tags": []
   },
   "outputs": [
    {
     "name": "stdout",
     "output_type": "stream",
     "text": [
      "              precision    recall  f1-score   support\n",
      "\n",
      "           0       0.78      0.96      0.86     24792\n",
      "           1       0.53      0.15      0.24      8002\n",
      "\n",
      "    accuracy                           0.76     32794\n",
      "   macro avg       0.65      0.56      0.55     32794\n",
      "weighted avg       0.72      0.76      0.71     32794\n",
      "\n"
     ]
    }
   ],
   "source": [
    "Y_pred=LogReg.predict(X_test)\n",
    "print (classification_report(Y_test,Y_pred))"
   ]
  },
  {
   "cell_type": "markdown",
   "id": "b101b3de",
   "metadata": {
    "papermill": {
     "duration": 0.03073,
     "end_time": "2023-04-07T15:12:47.749157",
     "exception": false,
     "start_time": "2023-04-07T15:12:47.718427",
     "status": "completed"
    },
    "tags": []
   },
   "source": [
    "### The model created using logistic regression has an accuracy of 76%."
   ]
  },
  {
   "cell_type": "markdown",
   "id": "00f85433",
   "metadata": {
    "papermill": {
     "duration": 0.030286,
     "end_time": "2023-04-07T15:12:47.810181",
     "exception": false,
     "start_time": "2023-04-07T15:12:47.779895",
     "status": "completed"
    },
    "tags": []
   },
   "source": [
    "## 2. Random forest"
   ]
  },
  {
   "cell_type": "code",
   "execution_count": 38,
   "id": "686b2056",
   "metadata": {
    "execution": {
     "iopub.execute_input": "2023-04-07T15:12:47.873046Z",
     "iopub.status.busy": "2023-04-07T15:12:47.872627Z",
     "iopub.status.idle": "2023-04-07T15:12:54.216068Z",
     "shell.execute_reply": "2023-04-07T15:12:54.214670Z"
    },
    "papermill": {
     "duration": 6.378133,
     "end_time": "2023-04-07T15:12:54.218708",
     "exception": false,
     "start_time": "2023-04-07T15:12:47.840575",
     "status": "completed"
    },
    "tags": []
   },
   "outputs": [
    {
     "data": {
      "text/plain": [
       "RandomForestClassifier()"
      ]
     },
     "execution_count": 38,
     "metadata": {},
     "output_type": "execute_result"
    }
   ],
   "source": [
    "#Import dependencies and train the model\n",
    "from sklearn.ensemble import RandomForestClassifier\n",
    "classifier = RandomForestClassifier()\n",
    "classifier.fit(X_train,Y_train)"
   ]
  },
  {
   "cell_type": "code",
   "execution_count": 39,
   "id": "ee46977e",
   "metadata": {
    "execution": {
     "iopub.execute_input": "2023-04-07T15:12:54.283372Z",
     "iopub.status.busy": "2023-04-07T15:12:54.282612Z",
     "iopub.status.idle": "2023-04-07T15:12:54.667460Z",
     "shell.execute_reply": "2023-04-07T15:12:54.666267Z"
    },
    "papermill": {
     "duration": 0.4198,
     "end_time": "2023-04-07T15:12:54.669973",
     "exception": false,
     "start_time": "2023-04-07T15:12:54.250173",
     "status": "completed"
    },
    "tags": []
   },
   "outputs": [
    {
     "data": {
      "text/plain": [
       "0.760992864548393"
      ]
     },
     "execution_count": 39,
     "metadata": {},
     "output_type": "execute_result"
    }
   ],
   "source": [
    "#score the model\n",
    "classifier.score(X_test,Y_test)"
   ]
  },
  {
   "cell_type": "code",
   "execution_count": 40,
   "id": "1a362cdf",
   "metadata": {
    "execution": {
     "iopub.execute_input": "2023-04-07T15:12:54.733295Z",
     "iopub.status.busy": "2023-04-07T15:12:54.732852Z",
     "iopub.status.idle": "2023-04-07T15:12:55.160504Z",
     "shell.execute_reply": "2023-04-07T15:12:55.158918Z"
    },
    "papermill": {
     "duration": 0.462752,
     "end_time": "2023-04-07T15:12:55.163234",
     "exception": false,
     "start_time": "2023-04-07T15:12:54.700482",
     "status": "completed"
    },
    "tags": []
   },
   "outputs": [
    {
     "name": "stdout",
     "output_type": "stream",
     "text": [
      "              precision    recall  f1-score   support\n",
      "\n",
      "           0       0.77      0.97      0.86     24792\n",
      "           1       0.55      0.11      0.18      8002\n",
      "\n",
      "    accuracy                           0.76     32794\n",
      "   macro avg       0.66      0.54      0.52     32794\n",
      "weighted avg       0.72      0.76      0.69     32794\n",
      "\n"
     ]
    }
   ],
   "source": [
    "Y_pred_RF=classifier.predict(X_test)\n",
    "print (classification_report(Y_test,Y_pred_RF))"
   ]
  },
  {
   "cell_type": "markdown",
   "id": "792f5ffd",
   "metadata": {
    "papermill": {
     "duration": 0.031837,
     "end_time": "2023-04-07T15:12:55.228378",
     "exception": false,
     "start_time": "2023-04-07T15:12:55.196541",
     "status": "completed"
    },
    "tags": []
   },
   "source": [
    "### The model created using the Random Forest algorithm has an accuracy of  75.76%."
   ]
  }
 ],
 "metadata": {
  "kernelspec": {
   "display_name": "Python 3",
   "language": "python",
   "name": "python3"
  },
  "language_info": {
   "codemirror_mode": {
    "name": "ipython",
    "version": 3
   },
   "file_extension": ".py",
   "mimetype": "text/x-python",
   "name": "python",
   "nbconvert_exporter": "python",
   "pygments_lexer": "ipython3",
   "version": "3.7.12"
  },
  "papermill": {
   "default_parameters": {},
   "duration": 300.417406,
   "end_time": "2023-04-07T15:12:56.788652",
   "environment_variables": {},
   "exception": null,
   "input_path": "__notebook__.ipynb",
   "output_path": "__notebook__.ipynb",
   "parameters": {},
   "start_time": "2023-04-07T15:07:56.371246",
   "version": "2.4.0"
  },
  "widgets": {
   "application/vnd.jupyter.widget-state+json": {
    "state": {
     "006ba70d06e04db89eb35c33b575339a": {
      "model_module": "@jupyter-widgets/controls",
      "model_module_version": "1.5.0",
      "model_name": "HTMLModel",
      "state": {
       "_dom_classes": [],
       "_model_module": "@jupyter-widgets/controls",
       "_model_module_version": "1.5.0",
       "_model_name": "HTMLModel",
       "_view_count": null,
       "_view_module": "@jupyter-widgets/controls",
       "_view_module_version": "1.5.0",
       "_view_name": "HTMLView",
       "description": "",
       "description_tooltip": null,
       "layout": "IPY_MODEL_f9d4962c1def40aa921a735ba1de2302",
       "placeholder": "​",
       "style": "IPY_MODEL_894f21ae741449b9a8a66099bb0822d8",
       "value": " 1/1 [00:23&lt;00:00, 23.10s/it]"
      }
     },
     "0332456564dc4af8addb8a16f7966e6c": {
      "model_module": "@jupyter-widgets/controls",
      "model_module_version": "1.5.0",
      "model_name": "DescriptionStyleModel",
      "state": {
       "_model_module": "@jupyter-widgets/controls",
       "_model_module_version": "1.5.0",
       "_model_name": "DescriptionStyleModel",
       "_view_count": null,
       "_view_module": "@jupyter-widgets/base",
       "_view_module_version": "1.2.0",
       "_view_name": "StyleView",
       "description_width": ""
      }
     },
     "06da974bb2ca41d08c81c6b3868492c3": {
      "model_module": "@jupyter-widgets/base",
      "model_module_version": "1.2.0",
      "model_name": "LayoutModel",
      "state": {
       "_model_module": "@jupyter-widgets/base",
       "_model_module_version": "1.2.0",
       "_model_name": "LayoutModel",
       "_view_count": null,
       "_view_module": "@jupyter-widgets/base",
       "_view_module_version": "1.2.0",
       "_view_name": "LayoutView",
       "align_content": null,
       "align_items": null,
       "align_self": null,
       "border": null,
       "bottom": null,
       "display": null,
       "flex": null,
       "flex_flow": null,
       "grid_area": null,
       "grid_auto_columns": null,
       "grid_auto_flow": null,
       "grid_auto_rows": null,
       "grid_column": null,
       "grid_gap": null,
       "grid_row": null,
       "grid_template_areas": null,
       "grid_template_columns": null,
       "grid_template_rows": null,
       "height": null,
       "justify_content": null,
       "justify_items": null,
       "left": null,
       "margin": null,
       "max_height": null,
       "max_width": null,
       "min_height": null,
       "min_width": null,
       "object_fit": null,
       "object_position": null,
       "order": null,
       "overflow": null,
       "overflow_x": null,
       "overflow_y": null,
       "padding": null,
       "right": null,
       "top": null,
       "visibility": null,
       "width": null
      }
     },
     "0cc24a8747644f428dfe6e982583d62b": {
      "model_module": "@jupyter-widgets/controls",
      "model_module_version": "1.5.0",
      "model_name": "ProgressStyleModel",
      "state": {
       "_model_module": "@jupyter-widgets/controls",
       "_model_module_version": "1.5.0",
       "_model_name": "ProgressStyleModel",
       "_view_count": null,
       "_view_module": "@jupyter-widgets/base",
       "_view_module_version": "1.2.0",
       "_view_name": "StyleView",
       "bar_color": null,
       "description_width": ""
      }
     },
     "0e4b0be2ec074e4fa2a6b2540c802e7d": {
      "model_module": "@jupyter-widgets/controls",
      "model_module_version": "1.5.0",
      "model_name": "HBoxModel",
      "state": {
       "_dom_classes": [],
       "_model_module": "@jupyter-widgets/controls",
       "_model_module_version": "1.5.0",
       "_model_name": "HBoxModel",
       "_view_count": null,
       "_view_module": "@jupyter-widgets/controls",
       "_view_module_version": "1.5.0",
       "_view_name": "HBoxView",
       "box_style": "",
       "children": [
        "IPY_MODEL_5f5b50fa5b014e8ba8caa47492afb4b9",
        "IPY_MODEL_5d0dc8c57dc146cc9805a039b4690184",
        "IPY_MODEL_484d230f5b0e4e1090f8cca70ab46d7b"
       ],
       "layout": "IPY_MODEL_fe42da6c24d84e3489543936631bff0a"
      }
     },
     "0e76c764d7e148ba9c26dbc57d988f04": {
      "model_module": "@jupyter-widgets/base",
      "model_module_version": "1.2.0",
      "model_name": "LayoutModel",
      "state": {
       "_model_module": "@jupyter-widgets/base",
       "_model_module_version": "1.2.0",
       "_model_name": "LayoutModel",
       "_view_count": null,
       "_view_module": "@jupyter-widgets/base",
       "_view_module_version": "1.2.0",
       "_view_name": "LayoutView",
       "align_content": null,
       "align_items": null,
       "align_self": null,
       "border": null,
       "bottom": null,
       "display": null,
       "flex": null,
       "flex_flow": null,
       "grid_area": null,
       "grid_auto_columns": null,
       "grid_auto_flow": null,
       "grid_auto_rows": null,
       "grid_column": null,
       "grid_gap": null,
       "grid_row": null,
       "grid_template_areas": null,
       "grid_template_columns": null,
       "grid_template_rows": null,
       "height": null,
       "justify_content": null,
       "justify_items": null,
       "left": null,
       "margin": null,
       "max_height": null,
       "max_width": null,
       "min_height": null,
       "min_width": null,
       "object_fit": null,
       "object_position": null,
       "order": null,
       "overflow": null,
       "overflow_x": null,
       "overflow_y": null,
       "padding": null,
       "right": null,
       "top": null,
       "visibility": null,
       "width": null
      }
     },
     "0f6ce2adb7a340b584063b3302d75e3a": {
      "model_module": "@jupyter-widgets/controls",
      "model_module_version": "1.5.0",
      "model_name": "DescriptionStyleModel",
      "state": {
       "_model_module": "@jupyter-widgets/controls",
       "_model_module_version": "1.5.0",
       "_model_name": "DescriptionStyleModel",
       "_view_count": null,
       "_view_module": "@jupyter-widgets/base",
       "_view_module_version": "1.2.0",
       "_view_name": "StyleView",
       "description_width": ""
      }
     },
     "24de2e66292a4666944b4ea828f847cf": {
      "model_module": "@jupyter-widgets/controls",
      "model_module_version": "1.5.0",
      "model_name": "HTMLModel",
      "state": {
       "_dom_classes": [],
       "_model_module": "@jupyter-widgets/controls",
       "_model_module_version": "1.5.0",
       "_model_name": "HTMLModel",
       "_view_count": null,
       "_view_module": "@jupyter-widgets/controls",
       "_view_module_version": "1.5.0",
       "_view_name": "HTMLView",
       "description": "",
       "description_tooltip": null,
       "layout": "IPY_MODEL_5e754d489089474785539afb0298fa9d",
       "placeholder": "​",
       "style": "IPY_MODEL_41da0a6800d24e149cce008a9d86a3a6",
       "value": "Generate report structure: 100%"
      }
     },
     "3373bbad295b4cda89f368c889aa3575": {
      "model_module": "@jupyter-widgets/base",
      "model_module_version": "1.2.0",
      "model_name": "LayoutModel",
      "state": {
       "_model_module": "@jupyter-widgets/base",
       "_model_module_version": "1.2.0",
       "_model_name": "LayoutModel",
       "_view_count": null,
       "_view_module": "@jupyter-widgets/base",
       "_view_module_version": "1.2.0",
       "_view_name": "LayoutView",
       "align_content": null,
       "align_items": null,
       "align_self": null,
       "border": null,
       "bottom": null,
       "display": null,
       "flex": null,
       "flex_flow": null,
       "grid_area": null,
       "grid_auto_columns": null,
       "grid_auto_flow": null,
       "grid_auto_rows": null,
       "grid_column": null,
       "grid_gap": null,
       "grid_row": null,
       "grid_template_areas": null,
       "grid_template_columns": null,
       "grid_template_rows": null,
       "height": null,
       "justify_content": null,
       "justify_items": null,
       "left": null,
       "margin": null,
       "max_height": null,
       "max_width": null,
       "min_height": null,
       "min_width": null,
       "object_fit": null,
       "object_position": null,
       "order": null,
       "overflow": null,
       "overflow_x": null,
       "overflow_y": null,
       "padding": null,
       "right": null,
       "top": null,
       "visibility": null,
       "width": null
      }
     },
     "41da0a6800d24e149cce008a9d86a3a6": {
      "model_module": "@jupyter-widgets/controls",
      "model_module_version": "1.5.0",
      "model_name": "DescriptionStyleModel",
      "state": {
       "_model_module": "@jupyter-widgets/controls",
       "_model_module_version": "1.5.0",
       "_model_name": "DescriptionStyleModel",
       "_view_count": null,
       "_view_module": "@jupyter-widgets/base",
       "_view_module_version": "1.2.0",
       "_view_name": "StyleView",
       "description_width": ""
      }
     },
     "484d230f5b0e4e1090f8cca70ab46d7b": {
      "model_module": "@jupyter-widgets/controls",
      "model_module_version": "1.5.0",
      "model_name": "HTMLModel",
      "state": {
       "_dom_classes": [],
       "_model_module": "@jupyter-widgets/controls",
       "_model_module_version": "1.5.0",
       "_model_name": "HTMLModel",
       "_view_count": null,
       "_view_module": "@jupyter-widgets/controls",
       "_view_module_version": "1.5.0",
       "_view_name": "HTMLView",
       "description": "",
       "description_tooltip": null,
       "layout": "IPY_MODEL_0e76c764d7e148ba9c26dbc57d988f04",
       "placeholder": "​",
       "style": "IPY_MODEL_0f6ce2adb7a340b584063b3302d75e3a",
       "value": " 1/1 [00:00&lt;00:00, 11.51it/s]"
      }
     },
     "4b3a7e4621fa473cbff1f73bbc108fd3": {
      "model_module": "@jupyter-widgets/controls",
      "model_module_version": "1.5.0",
      "model_name": "HBoxModel",
      "state": {
       "_dom_classes": [],
       "_model_module": "@jupyter-widgets/controls",
       "_model_module_version": "1.5.0",
       "_model_name": "HBoxModel",
       "_view_count": null,
       "_view_module": "@jupyter-widgets/controls",
       "_view_module_version": "1.5.0",
       "_view_name": "HBoxView",
       "box_style": "",
       "children": [
        "IPY_MODEL_24de2e66292a4666944b4ea828f847cf",
        "IPY_MODEL_dc386d72fc2e495fbe8308e233f49566",
        "IPY_MODEL_b3a872fcde444a4995da22514a624182"
       ],
       "layout": "IPY_MODEL_06da974bb2ca41d08c81c6b3868492c3"
      }
     },
     "4ef6f8ed245e40a6a9e847e64ce5757b": {
      "model_module": "@jupyter-widgets/controls",
      "model_module_version": "1.5.0",
      "model_name": "ProgressStyleModel",
      "state": {
       "_model_module": "@jupyter-widgets/controls",
       "_model_module_version": "1.5.0",
       "_model_name": "ProgressStyleModel",
       "_view_count": null,
       "_view_module": "@jupyter-widgets/base",
       "_view_module_version": "1.2.0",
       "_view_name": "StyleView",
       "bar_color": null,
       "description_width": ""
      }
     },
     "50afb3aeeb8648b69bd77c8b02c6ee12": {
      "model_module": "@jupyter-widgets/controls",
      "model_module_version": "1.5.0",
      "model_name": "HTMLModel",
      "state": {
       "_dom_classes": [],
       "_model_module": "@jupyter-widgets/controls",
       "_model_module_version": "1.5.0",
       "_model_name": "HTMLModel",
       "_view_count": null,
       "_view_module": "@jupyter-widgets/controls",
       "_view_module_version": "1.5.0",
       "_view_name": "HTMLView",
       "description": "",
       "description_tooltip": null,
       "layout": "IPY_MODEL_d6058113daa8463e90f76841cc7e6165",
       "placeholder": "​",
       "style": "IPY_MODEL_f06a75fce0cf44eba70ebbc3f9d79a23",
       "value": "Summarize dataset: 100%"
      }
     },
     "54f4073738a048ca90165350e1c10dad": {
      "model_module": "@jupyter-widgets/base",
      "model_module_version": "1.2.0",
      "model_name": "LayoutModel",
      "state": {
       "_model_module": "@jupyter-widgets/base",
       "_model_module_version": "1.2.0",
       "_model_name": "LayoutModel",
       "_view_count": null,
       "_view_module": "@jupyter-widgets/base",
       "_view_module_version": "1.2.0",
       "_view_name": "LayoutView",
       "align_content": null,
       "align_items": null,
       "align_self": null,
       "border": null,
       "bottom": null,
       "display": null,
       "flex": null,
       "flex_flow": null,
       "grid_area": null,
       "grid_auto_columns": null,
       "grid_auto_flow": null,
       "grid_auto_rows": null,
       "grid_column": null,
       "grid_gap": null,
       "grid_row": null,
       "grid_template_areas": null,
       "grid_template_columns": null,
       "grid_template_rows": null,
       "height": null,
       "justify_content": null,
       "justify_items": null,
       "left": null,
       "margin": null,
       "max_height": null,
       "max_width": null,
       "min_height": null,
       "min_width": null,
       "object_fit": null,
       "object_position": null,
       "order": null,
       "overflow": null,
       "overflow_x": null,
       "overflow_y": null,
       "padding": null,
       "right": null,
       "top": null,
       "visibility": null,
       "width": null
      }
     },
     "5d0dc8c57dc146cc9805a039b4690184": {
      "model_module": "@jupyter-widgets/controls",
      "model_module_version": "1.5.0",
      "model_name": "FloatProgressModel",
      "state": {
       "_dom_classes": [],
       "_model_module": "@jupyter-widgets/controls",
       "_model_module_version": "1.5.0",
       "_model_name": "FloatProgressModel",
       "_view_count": null,
       "_view_module": "@jupyter-widgets/controls",
       "_view_module_version": "1.5.0",
       "_view_name": "ProgressView",
       "bar_style": "success",
       "description": "",
       "description_tooltip": null,
       "layout": "IPY_MODEL_760b13bd86434d45be142afa3ab334b2",
       "max": 1.0,
       "min": 0.0,
       "orientation": "horizontal",
       "style": "IPY_MODEL_d3dc2ba8f5904aa0818bce0fb23dc8d6",
       "value": 1.0
      }
     },
     "5e754d489089474785539afb0298fa9d": {
      "model_module": "@jupyter-widgets/base",
      "model_module_version": "1.2.0",
      "model_name": "LayoutModel",
      "state": {
       "_model_module": "@jupyter-widgets/base",
       "_model_module_version": "1.2.0",
       "_model_name": "LayoutModel",
       "_view_count": null,
       "_view_module": "@jupyter-widgets/base",
       "_view_module_version": "1.2.0",
       "_view_name": "LayoutView",
       "align_content": null,
       "align_items": null,
       "align_self": null,
       "border": null,
       "bottom": null,
       "display": null,
       "flex": null,
       "flex_flow": null,
       "grid_area": null,
       "grid_auto_columns": null,
       "grid_auto_flow": null,
       "grid_auto_rows": null,
       "grid_column": null,
       "grid_gap": null,
       "grid_row": null,
       "grid_template_areas": null,
       "grid_template_columns": null,
       "grid_template_rows": null,
       "height": null,
       "justify_content": null,
       "justify_items": null,
       "left": null,
       "margin": null,
       "max_height": null,
       "max_width": null,
       "min_height": null,
       "min_width": null,
       "object_fit": null,
       "object_position": null,
       "order": null,
       "overflow": null,
       "overflow_x": null,
       "overflow_y": null,
       "padding": null,
       "right": null,
       "top": null,
       "visibility": null,
       "width": null
      }
     },
     "5f5b50fa5b014e8ba8caa47492afb4b9": {
      "model_module": "@jupyter-widgets/controls",
      "model_module_version": "1.5.0",
      "model_name": "HTMLModel",
      "state": {
       "_dom_classes": [],
       "_model_module": "@jupyter-widgets/controls",
       "_model_module_version": "1.5.0",
       "_model_name": "HTMLModel",
       "_view_count": null,
       "_view_module": "@jupyter-widgets/controls",
       "_view_module_version": "1.5.0",
       "_view_name": "HTMLView",
       "description": "",
       "description_tooltip": null,
       "layout": "IPY_MODEL_de4a32410c674366a266dc404919627e",
       "placeholder": "​",
       "style": "IPY_MODEL_c767c6b1d42742f5ab667d121bf1d6a2",
       "value": "Export report to file: 100%"
      }
     },
     "69939bdb1f8742aa9a77f07baf86f440": {
      "model_module": "@jupyter-widgets/controls",
      "model_module_version": "1.5.0",
      "model_name": "DescriptionStyleModel",
      "state": {
       "_model_module": "@jupyter-widgets/controls",
       "_model_module_version": "1.5.0",
       "_model_name": "DescriptionStyleModel",
       "_view_count": null,
       "_view_module": "@jupyter-widgets/base",
       "_view_module_version": "1.2.0",
       "_view_name": "StyleView",
       "description_width": ""
      }
     },
     "6b6999def74e4568894b960f7896064a": {
      "model_module": "@jupyter-widgets/controls",
      "model_module_version": "1.5.0",
      "model_name": "DescriptionStyleModel",
      "state": {
       "_model_module": "@jupyter-widgets/controls",
       "_model_module_version": "1.5.0",
       "_model_name": "DescriptionStyleModel",
       "_view_count": null,
       "_view_module": "@jupyter-widgets/base",
       "_view_module_version": "1.2.0",
       "_view_name": "StyleView",
       "description_width": ""
      }
     },
     "6e3dde96b70b47158fd9504110521c05": {
      "model_module": "@jupyter-widgets/base",
      "model_module_version": "1.2.0",
      "model_name": "LayoutModel",
      "state": {
       "_model_module": "@jupyter-widgets/base",
       "_model_module_version": "1.2.0",
       "_model_name": "LayoutModel",
       "_view_count": null,
       "_view_module": "@jupyter-widgets/base",
       "_view_module_version": "1.2.0",
       "_view_name": "LayoutView",
       "align_content": null,
       "align_items": null,
       "align_self": null,
       "border": null,
       "bottom": null,
       "display": null,
       "flex": null,
       "flex_flow": null,
       "grid_area": null,
       "grid_auto_columns": null,
       "grid_auto_flow": null,
       "grid_auto_rows": null,
       "grid_column": null,
       "grid_gap": null,
       "grid_row": null,
       "grid_template_areas": null,
       "grid_template_columns": null,
       "grid_template_rows": null,
       "height": null,
       "justify_content": null,
       "justify_items": null,
       "left": null,
       "margin": null,
       "max_height": null,
       "max_width": null,
       "min_height": null,
       "min_width": null,
       "object_fit": null,
       "object_position": null,
       "order": null,
       "overflow": null,
       "overflow_x": null,
       "overflow_y": null,
       "padding": null,
       "right": null,
       "top": null,
       "visibility": null,
       "width": null
      }
     },
     "7268503945374f4087b4200275725ee8": {
      "model_module": "@jupyter-widgets/controls",
      "model_module_version": "1.5.0",
      "model_name": "HBoxModel",
      "state": {
       "_dom_classes": [],
       "_model_module": "@jupyter-widgets/controls",
       "_model_module_version": "1.5.0",
       "_model_name": "HBoxModel",
       "_view_count": null,
       "_view_module": "@jupyter-widgets/controls",
       "_view_module_version": "1.5.0",
       "_view_name": "HBoxView",
       "box_style": "",
       "children": [
        "IPY_MODEL_a6946dc85c1340b58f92931974e05eb6",
        "IPY_MODEL_a76ec4ec3fe341c5a8369c29c20a8154",
        "IPY_MODEL_006ba70d06e04db89eb35c33b575339a"
       ],
       "layout": "IPY_MODEL_54f4073738a048ca90165350e1c10dad"
      }
     },
     "760b13bd86434d45be142afa3ab334b2": {
      "model_module": "@jupyter-widgets/base",
      "model_module_version": "1.2.0",
      "model_name": "LayoutModel",
      "state": {
       "_model_module": "@jupyter-widgets/base",
       "_model_module_version": "1.2.0",
       "_model_name": "LayoutModel",
       "_view_count": null,
       "_view_module": "@jupyter-widgets/base",
       "_view_module_version": "1.2.0",
       "_view_name": "LayoutView",
       "align_content": null,
       "align_items": null,
       "align_self": null,
       "border": null,
       "bottom": null,
       "display": null,
       "flex": null,
       "flex_flow": null,
       "grid_area": null,
       "grid_auto_columns": null,
       "grid_auto_flow": null,
       "grid_auto_rows": null,
       "grid_column": null,
       "grid_gap": null,
       "grid_row": null,
       "grid_template_areas": null,
       "grid_template_columns": null,
       "grid_template_rows": null,
       "height": null,
       "justify_content": null,
       "justify_items": null,
       "left": null,
       "margin": null,
       "max_height": null,
       "max_width": null,
       "min_height": null,
       "min_width": null,
       "object_fit": null,
       "object_position": null,
       "order": null,
       "overflow": null,
       "overflow_x": null,
       "overflow_y": null,
       "padding": null,
       "right": null,
       "top": null,
       "visibility": null,
       "width": null
      }
     },
     "7cb95492c38f4fcba6b1d1403ce688ec": {
      "model_module": "@jupyter-widgets/controls",
      "model_module_version": "1.5.0",
      "model_name": "HTMLModel",
      "state": {
       "_dom_classes": [],
       "_model_module": "@jupyter-widgets/controls",
       "_model_module_version": "1.5.0",
       "_model_name": "HTMLModel",
       "_view_count": null,
       "_view_module": "@jupyter-widgets/controls",
       "_view_module_version": "1.5.0",
       "_view_name": "HTMLView",
       "description": "",
       "description_tooltip": null,
       "layout": "IPY_MODEL_b6db2bcd83224775bd223a99648f01bd",
       "placeholder": "​",
       "style": "IPY_MODEL_69939bdb1f8742aa9a77f07baf86f440",
       "value": " 639/639 [03:26&lt;00:00,  1.38it/s, Completed]"
      }
     },
     "844bb33185f6467c86e3f07ef40d8ea7": {
      "model_module": "@jupyter-widgets/base",
      "model_module_version": "1.2.0",
      "model_name": "LayoutModel",
      "state": {
       "_model_module": "@jupyter-widgets/base",
       "_model_module_version": "1.2.0",
       "_model_name": "LayoutModel",
       "_view_count": null,
       "_view_module": "@jupyter-widgets/base",
       "_view_module_version": "1.2.0",
       "_view_name": "LayoutView",
       "align_content": null,
       "align_items": null,
       "align_self": null,
       "border": null,
       "bottom": null,
       "display": null,
       "flex": null,
       "flex_flow": null,
       "grid_area": null,
       "grid_auto_columns": null,
       "grid_auto_flow": null,
       "grid_auto_rows": null,
       "grid_column": null,
       "grid_gap": null,
       "grid_row": null,
       "grid_template_areas": null,
       "grid_template_columns": null,
       "grid_template_rows": null,
       "height": null,
       "justify_content": null,
       "justify_items": null,
       "left": null,
       "margin": null,
       "max_height": null,
       "max_width": null,
       "min_height": null,
       "min_width": null,
       "object_fit": null,
       "object_position": null,
       "order": null,
       "overflow": null,
       "overflow_x": null,
       "overflow_y": null,
       "padding": null,
       "right": null,
       "top": null,
       "visibility": null,
       "width": null
      }
     },
     "894f21ae741449b9a8a66099bb0822d8": {
      "model_module": "@jupyter-widgets/controls",
      "model_module_version": "1.5.0",
      "model_name": "DescriptionStyleModel",
      "state": {
       "_model_module": "@jupyter-widgets/controls",
       "_model_module_version": "1.5.0",
       "_model_name": "DescriptionStyleModel",
       "_view_count": null,
       "_view_module": "@jupyter-widgets/base",
       "_view_module_version": "1.2.0",
       "_view_name": "StyleView",
       "description_width": ""
      }
     },
     "a6946dc85c1340b58f92931974e05eb6": {
      "model_module": "@jupyter-widgets/controls",
      "model_module_version": "1.5.0",
      "model_name": "HTMLModel",
      "state": {
       "_dom_classes": [],
       "_model_module": "@jupyter-widgets/controls",
       "_model_module_version": "1.5.0",
       "_model_name": "HTMLModel",
       "_view_count": null,
       "_view_module": "@jupyter-widgets/controls",
       "_view_module_version": "1.5.0",
       "_view_name": "HTMLView",
       "description": "",
       "description_tooltip": null,
       "layout": "IPY_MODEL_6e3dde96b70b47158fd9504110521c05",
       "placeholder": "​",
       "style": "IPY_MODEL_0332456564dc4af8addb8a16f7966e6c",
       "value": "Render HTML: 100%"
      }
     },
     "a76ec4ec3fe341c5a8369c29c20a8154": {
      "model_module": "@jupyter-widgets/controls",
      "model_module_version": "1.5.0",
      "model_name": "FloatProgressModel",
      "state": {
       "_dom_classes": [],
       "_model_module": "@jupyter-widgets/controls",
       "_model_module_version": "1.5.0",
       "_model_name": "FloatProgressModel",
       "_view_count": null,
       "_view_module": "@jupyter-widgets/controls",
       "_view_module_version": "1.5.0",
       "_view_name": "ProgressView",
       "bar_style": "success",
       "description": "",
       "description_tooltip": null,
       "layout": "IPY_MODEL_d638a1cf735a4e7e979865c81e8558f1",
       "max": 1.0,
       "min": 0.0,
       "orientation": "horizontal",
       "style": "IPY_MODEL_eb51c9e1283b401693f6f576b0db149c",
       "value": 1.0
      }
     },
     "a9d421d0fbbd460ea1c2707b1527a42c": {
      "model_module": "@jupyter-widgets/base",
      "model_module_version": "1.2.0",
      "model_name": "LayoutModel",
      "state": {
       "_model_module": "@jupyter-widgets/base",
       "_model_module_version": "1.2.0",
       "_model_name": "LayoutModel",
       "_view_count": null,
       "_view_module": "@jupyter-widgets/base",
       "_view_module_version": "1.2.0",
       "_view_name": "LayoutView",
       "align_content": null,
       "align_items": null,
       "align_self": null,
       "border": null,
       "bottom": null,
       "display": null,
       "flex": null,
       "flex_flow": null,
       "grid_area": null,
       "grid_auto_columns": null,
       "grid_auto_flow": null,
       "grid_auto_rows": null,
       "grid_column": null,
       "grid_gap": null,
       "grid_row": null,
       "grid_template_areas": null,
       "grid_template_columns": null,
       "grid_template_rows": null,
       "height": null,
       "justify_content": null,
       "justify_items": null,
       "left": null,
       "margin": null,
       "max_height": null,
       "max_width": null,
       "min_height": null,
       "min_width": null,
       "object_fit": null,
       "object_position": null,
       "order": null,
       "overflow": null,
       "overflow_x": null,
       "overflow_y": null,
       "padding": null,
       "right": null,
       "top": null,
       "visibility": null,
       "width": null
      }
     },
     "b3a872fcde444a4995da22514a624182": {
      "model_module": "@jupyter-widgets/controls",
      "model_module_version": "1.5.0",
      "model_name": "HTMLModel",
      "state": {
       "_dom_classes": [],
       "_model_module": "@jupyter-widgets/controls",
       "_model_module_version": "1.5.0",
       "_model_name": "HTMLModel",
       "_view_count": null,
       "_view_module": "@jupyter-widgets/controls",
       "_view_module_version": "1.5.0",
       "_view_name": "HTMLView",
       "description": "",
       "description_tooltip": null,
       "layout": "IPY_MODEL_844bb33185f6467c86e3f07ef40d8ea7",
       "placeholder": "​",
       "style": "IPY_MODEL_6b6999def74e4568894b960f7896064a",
       "value": " 1/1 [00:23&lt;00:00, 23.43s/it]"
      }
     },
     "b6db2bcd83224775bd223a99648f01bd": {
      "model_module": "@jupyter-widgets/base",
      "model_module_version": "1.2.0",
      "model_name": "LayoutModel",
      "state": {
       "_model_module": "@jupyter-widgets/base",
       "_model_module_version": "1.2.0",
       "_model_name": "LayoutModel",
       "_view_count": null,
       "_view_module": "@jupyter-widgets/base",
       "_view_module_version": "1.2.0",
       "_view_name": "LayoutView",
       "align_content": null,
       "align_items": null,
       "align_self": null,
       "border": null,
       "bottom": null,
       "display": null,
       "flex": null,
       "flex_flow": null,
       "grid_area": null,
       "grid_auto_columns": null,
       "grid_auto_flow": null,
       "grid_auto_rows": null,
       "grid_column": null,
       "grid_gap": null,
       "grid_row": null,
       "grid_template_areas": null,
       "grid_template_columns": null,
       "grid_template_rows": null,
       "height": null,
       "justify_content": null,
       "justify_items": null,
       "left": null,
       "margin": null,
       "max_height": null,
       "max_width": null,
       "min_height": null,
       "min_width": null,
       "object_fit": null,
       "object_position": null,
       "order": null,
       "overflow": null,
       "overflow_x": null,
       "overflow_y": null,
       "padding": null,
       "right": null,
       "top": null,
       "visibility": null,
       "width": null
      }
     },
     "bdf0984aba5c4fce98567047154954a0": {
      "model_module": "@jupyter-widgets/controls",
      "model_module_version": "1.5.0",
      "model_name": "HBoxModel",
      "state": {
       "_dom_classes": [],
       "_model_module": "@jupyter-widgets/controls",
       "_model_module_version": "1.5.0",
       "_model_name": "HBoxModel",
       "_view_count": null,
       "_view_module": "@jupyter-widgets/controls",
       "_view_module_version": "1.5.0",
       "_view_name": "HBoxView",
       "box_style": "",
       "children": [
        "IPY_MODEL_50afb3aeeb8648b69bd77c8b02c6ee12",
        "IPY_MODEL_fd11ed31fe6746cb811073fddd851758",
        "IPY_MODEL_7cb95492c38f4fcba6b1d1403ce688ec"
       ],
       "layout": "IPY_MODEL_a9d421d0fbbd460ea1c2707b1527a42c"
      }
     },
     "c767c6b1d42742f5ab667d121bf1d6a2": {
      "model_module": "@jupyter-widgets/controls",
      "model_module_version": "1.5.0",
      "model_name": "DescriptionStyleModel",
      "state": {
       "_model_module": "@jupyter-widgets/controls",
       "_model_module_version": "1.5.0",
       "_model_name": "DescriptionStyleModel",
       "_view_count": null,
       "_view_module": "@jupyter-widgets/base",
       "_view_module_version": "1.2.0",
       "_view_name": "StyleView",
       "description_width": ""
      }
     },
     "d3dc2ba8f5904aa0818bce0fb23dc8d6": {
      "model_module": "@jupyter-widgets/controls",
      "model_module_version": "1.5.0",
      "model_name": "ProgressStyleModel",
      "state": {
       "_model_module": "@jupyter-widgets/controls",
       "_model_module_version": "1.5.0",
       "_model_name": "ProgressStyleModel",
       "_view_count": null,
       "_view_module": "@jupyter-widgets/base",
       "_view_module_version": "1.2.0",
       "_view_name": "StyleView",
       "bar_color": null,
       "description_width": ""
      }
     },
     "d6058113daa8463e90f76841cc7e6165": {
      "model_module": "@jupyter-widgets/base",
      "model_module_version": "1.2.0",
      "model_name": "LayoutModel",
      "state": {
       "_model_module": "@jupyter-widgets/base",
       "_model_module_version": "1.2.0",
       "_model_name": "LayoutModel",
       "_view_count": null,
       "_view_module": "@jupyter-widgets/base",
       "_view_module_version": "1.2.0",
       "_view_name": "LayoutView",
       "align_content": null,
       "align_items": null,
       "align_self": null,
       "border": null,
       "bottom": null,
       "display": null,
       "flex": null,
       "flex_flow": null,
       "grid_area": null,
       "grid_auto_columns": null,
       "grid_auto_flow": null,
       "grid_auto_rows": null,
       "grid_column": null,
       "grid_gap": null,
       "grid_row": null,
       "grid_template_areas": null,
       "grid_template_columns": null,
       "grid_template_rows": null,
       "height": null,
       "justify_content": null,
       "justify_items": null,
       "left": null,
       "margin": null,
       "max_height": null,
       "max_width": null,
       "min_height": null,
       "min_width": null,
       "object_fit": null,
       "object_position": null,
       "order": null,
       "overflow": null,
       "overflow_x": null,
       "overflow_y": null,
       "padding": null,
       "right": null,
       "top": null,
       "visibility": null,
       "width": null
      }
     },
     "d638a1cf735a4e7e979865c81e8558f1": {
      "model_module": "@jupyter-widgets/base",
      "model_module_version": "1.2.0",
      "model_name": "LayoutModel",
      "state": {
       "_model_module": "@jupyter-widgets/base",
       "_model_module_version": "1.2.0",
       "_model_name": "LayoutModel",
       "_view_count": null,
       "_view_module": "@jupyter-widgets/base",
       "_view_module_version": "1.2.0",
       "_view_name": "LayoutView",
       "align_content": null,
       "align_items": null,
       "align_self": null,
       "border": null,
       "bottom": null,
       "display": null,
       "flex": null,
       "flex_flow": null,
       "grid_area": null,
       "grid_auto_columns": null,
       "grid_auto_flow": null,
       "grid_auto_rows": null,
       "grid_column": null,
       "grid_gap": null,
       "grid_row": null,
       "grid_template_areas": null,
       "grid_template_columns": null,
       "grid_template_rows": null,
       "height": null,
       "justify_content": null,
       "justify_items": null,
       "left": null,
       "margin": null,
       "max_height": null,
       "max_width": null,
       "min_height": null,
       "min_width": null,
       "object_fit": null,
       "object_position": null,
       "order": null,
       "overflow": null,
       "overflow_x": null,
       "overflow_y": null,
       "padding": null,
       "right": null,
       "top": null,
       "visibility": null,
       "width": null
      }
     },
     "dc386d72fc2e495fbe8308e233f49566": {
      "model_module": "@jupyter-widgets/controls",
      "model_module_version": "1.5.0",
      "model_name": "FloatProgressModel",
      "state": {
       "_dom_classes": [],
       "_model_module": "@jupyter-widgets/controls",
       "_model_module_version": "1.5.0",
       "_model_name": "FloatProgressModel",
       "_view_count": null,
       "_view_module": "@jupyter-widgets/controls",
       "_view_module_version": "1.5.0",
       "_view_name": "ProgressView",
       "bar_style": "success",
       "description": "",
       "description_tooltip": null,
       "layout": "IPY_MODEL_3373bbad295b4cda89f368c889aa3575",
       "max": 1.0,
       "min": 0.0,
       "orientation": "horizontal",
       "style": "IPY_MODEL_0cc24a8747644f428dfe6e982583d62b",
       "value": 1.0
      }
     },
     "de4a32410c674366a266dc404919627e": {
      "model_module": "@jupyter-widgets/base",
      "model_module_version": "1.2.0",
      "model_name": "LayoutModel",
      "state": {
       "_model_module": "@jupyter-widgets/base",
       "_model_module_version": "1.2.0",
       "_model_name": "LayoutModel",
       "_view_count": null,
       "_view_module": "@jupyter-widgets/base",
       "_view_module_version": "1.2.0",
       "_view_name": "LayoutView",
       "align_content": null,
       "align_items": null,
       "align_self": null,
       "border": null,
       "bottom": null,
       "display": null,
       "flex": null,
       "flex_flow": null,
       "grid_area": null,
       "grid_auto_columns": null,
       "grid_auto_flow": null,
       "grid_auto_rows": null,
       "grid_column": null,
       "grid_gap": null,
       "grid_row": null,
       "grid_template_areas": null,
       "grid_template_columns": null,
       "grid_template_rows": null,
       "height": null,
       "justify_content": null,
       "justify_items": null,
       "left": null,
       "margin": null,
       "max_height": null,
       "max_width": null,
       "min_height": null,
       "min_width": null,
       "object_fit": null,
       "object_position": null,
       "order": null,
       "overflow": null,
       "overflow_x": null,
       "overflow_y": null,
       "padding": null,
       "right": null,
       "top": null,
       "visibility": null,
       "width": null
      }
     },
     "eb51c9e1283b401693f6f576b0db149c": {
      "model_module": "@jupyter-widgets/controls",
      "model_module_version": "1.5.0",
      "model_name": "ProgressStyleModel",
      "state": {
       "_model_module": "@jupyter-widgets/controls",
       "_model_module_version": "1.5.0",
       "_model_name": "ProgressStyleModel",
       "_view_count": null,
       "_view_module": "@jupyter-widgets/base",
       "_view_module_version": "1.2.0",
       "_view_name": "StyleView",
       "bar_color": null,
       "description_width": ""
      }
     },
     "ed93269f84d34b0db1c095ef715f9e7b": {
      "model_module": "@jupyter-widgets/base",
      "model_module_version": "1.2.0",
      "model_name": "LayoutModel",
      "state": {
       "_model_module": "@jupyter-widgets/base",
       "_model_module_version": "1.2.0",
       "_model_name": "LayoutModel",
       "_view_count": null,
       "_view_module": "@jupyter-widgets/base",
       "_view_module_version": "1.2.0",
       "_view_name": "LayoutView",
       "align_content": null,
       "align_items": null,
       "align_self": null,
       "border": null,
       "bottom": null,
       "display": null,
       "flex": null,
       "flex_flow": null,
       "grid_area": null,
       "grid_auto_columns": null,
       "grid_auto_flow": null,
       "grid_auto_rows": null,
       "grid_column": null,
       "grid_gap": null,
       "grid_row": null,
       "grid_template_areas": null,
       "grid_template_columns": null,
       "grid_template_rows": null,
       "height": null,
       "justify_content": null,
       "justify_items": null,
       "left": null,
       "margin": null,
       "max_height": null,
       "max_width": null,
       "min_height": null,
       "min_width": null,
       "object_fit": null,
       "object_position": null,
       "order": null,
       "overflow": null,
       "overflow_x": null,
       "overflow_y": null,
       "padding": null,
       "right": null,
       "top": null,
       "visibility": null,
       "width": null
      }
     },
     "f06a75fce0cf44eba70ebbc3f9d79a23": {
      "model_module": "@jupyter-widgets/controls",
      "model_module_version": "1.5.0",
      "model_name": "DescriptionStyleModel",
      "state": {
       "_model_module": "@jupyter-widgets/controls",
       "_model_module_version": "1.5.0",
       "_model_name": "DescriptionStyleModel",
       "_view_count": null,
       "_view_module": "@jupyter-widgets/base",
       "_view_module_version": "1.2.0",
       "_view_name": "StyleView",
       "description_width": ""
      }
     },
     "f9d4962c1def40aa921a735ba1de2302": {
      "model_module": "@jupyter-widgets/base",
      "model_module_version": "1.2.0",
      "model_name": "LayoutModel",
      "state": {
       "_model_module": "@jupyter-widgets/base",
       "_model_module_version": "1.2.0",
       "_model_name": "LayoutModel",
       "_view_count": null,
       "_view_module": "@jupyter-widgets/base",
       "_view_module_version": "1.2.0",
       "_view_name": "LayoutView",
       "align_content": null,
       "align_items": null,
       "align_self": null,
       "border": null,
       "bottom": null,
       "display": null,
       "flex": null,
       "flex_flow": null,
       "grid_area": null,
       "grid_auto_columns": null,
       "grid_auto_flow": null,
       "grid_auto_rows": null,
       "grid_column": null,
       "grid_gap": null,
       "grid_row": null,
       "grid_template_areas": null,
       "grid_template_columns": null,
       "grid_template_rows": null,
       "height": null,
       "justify_content": null,
       "justify_items": null,
       "left": null,
       "margin": null,
       "max_height": null,
       "max_width": null,
       "min_height": null,
       "min_width": null,
       "object_fit": null,
       "object_position": null,
       "order": null,
       "overflow": null,
       "overflow_x": null,
       "overflow_y": null,
       "padding": null,
       "right": null,
       "top": null,
       "visibility": null,
       "width": null
      }
     },
     "fd11ed31fe6746cb811073fddd851758": {
      "model_module": "@jupyter-widgets/controls",
      "model_module_version": "1.5.0",
      "model_name": "FloatProgressModel",
      "state": {
       "_dom_classes": [],
       "_model_module": "@jupyter-widgets/controls",
       "_model_module_version": "1.5.0",
       "_model_name": "FloatProgressModel",
       "_view_count": null,
       "_view_module": "@jupyter-widgets/controls",
       "_view_module_version": "1.5.0",
       "_view_name": "ProgressView",
       "bar_style": "success",
       "description": "",
       "description_tooltip": null,
       "layout": "IPY_MODEL_ed93269f84d34b0db1c095ef715f9e7b",
       "max": 5.0,
       "min": 0.0,
       "orientation": "horizontal",
       "style": "IPY_MODEL_4ef6f8ed245e40a6a9e847e64ce5757b",
       "value": 5.0
      }
     },
     "fe42da6c24d84e3489543936631bff0a": {
      "model_module": "@jupyter-widgets/base",
      "model_module_version": "1.2.0",
      "model_name": "LayoutModel",
      "state": {
       "_model_module": "@jupyter-widgets/base",
       "_model_module_version": "1.2.0",
       "_model_name": "LayoutModel",
       "_view_count": null,
       "_view_module": "@jupyter-widgets/base",
       "_view_module_version": "1.2.0",
       "_view_name": "LayoutView",
       "align_content": null,
       "align_items": null,
       "align_self": null,
       "border": null,
       "bottom": null,
       "display": null,
       "flex": null,
       "flex_flow": null,
       "grid_area": null,
       "grid_auto_columns": null,
       "grid_auto_flow": null,
       "grid_auto_rows": null,
       "grid_column": null,
       "grid_gap": null,
       "grid_row": null,
       "grid_template_areas": null,
       "grid_template_columns": null,
       "grid_template_rows": null,
       "height": null,
       "justify_content": null,
       "justify_items": null,
       "left": null,
       "margin": null,
       "max_height": null,
       "max_width": null,
       "min_height": null,
       "min_width": null,
       "object_fit": null,
       "object_position": null,
       "order": null,
       "overflow": null,
       "overflow_x": null,
       "overflow_y": null,
       "padding": null,
       "right": null,
       "top": null,
       "visibility": null,
       "width": null
      }
     }
    },
    "version_major": 2,
    "version_minor": 0
   }
  }
 },
 "nbformat": 4,
 "nbformat_minor": 5
}
