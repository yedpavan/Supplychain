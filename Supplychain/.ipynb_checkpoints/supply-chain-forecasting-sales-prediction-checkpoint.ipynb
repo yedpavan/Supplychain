{
 "cells": [
  {
   "cell_type": "code",
   "execution_count": 1,
   "metadata": {},
   "outputs": [],
   "source": [
    "import pandas as pd\n",
    "import numpy as np\n",
    "import warnings\n",
    "warnings.filterwarnings('ignore')"
   ]
  },
  {
   "cell_type": "code",
   "execution_count": 4,
   "metadata": {},
   "outputs": [
    {
     "ename": "TypeError",
     "evalue": "read_csv() got an unexpected keyword argument 'encoding_errors'",
     "output_type": "error",
     "traceback": [
      "\u001b[0;31m---------------------------------------------------------------------------\u001b[0m",
      "\u001b[0;31mTypeError\u001b[0m                                 Traceback (most recent call last)",
      "\u001b[0;32m<ipython-input-4-075ae9ec0c1c>\u001b[0m in \u001b[0;36m<module>\u001b[0;34m\u001b[0m\n\u001b[0;32m----> 1\u001b[0;31m \u001b[0mdf\u001b[0m\u001b[0;34m=\u001b[0m\u001b[0mpd\u001b[0m\u001b[0;34m.\u001b[0m\u001b[0mread_csv\u001b[0m\u001b[0;34m(\u001b[0m\u001b[0;34m\"DataCoSupplyChainDataset.csv\"\u001b[0m\u001b[0;34m,\u001b[0m \u001b[0mencoding_errors\u001b[0m\u001b[0;34m=\u001b[0m\u001b[0;34m\"ignore\"\u001b[0m\u001b[0;34m)\u001b[0m\u001b[0;34m\u001b[0m\u001b[0;34m\u001b[0m\u001b[0m\n\u001b[0m\u001b[1;32m      2\u001b[0m \u001b[0mdf\u001b[0m\u001b[0;34m\u001b[0m\u001b[0;34m\u001b[0m\u001b[0m\n",
      "\u001b[0;31mTypeError\u001b[0m: read_csv() got an unexpected keyword argument 'encoding_errors'"
     ]
    }
   ],
   "source": [
    "df=pd.read_csv(\"DataCoSupplyChainDataset.csv\", encoding_errors=\"ignore\")\n",
    "df"
   ]
  },
  {
   "cell_type": "markdown",
   "metadata": {},
   "source": [
    "# Data Preprocessing"
   ]
  },
  {
   "cell_type": "code",
   "execution_count": null,
   "metadata": {},
   "outputs": [],
   "source": [
    "df.info()"
   ]
  },
  {
   "cell_type": "code",
   "execution_count": null,
   "metadata": {},
   "outputs": [],
   "source": [
    "df.describe()"
   ]
  },
  {
   "cell_type": "code",
   "execution_count": null,
   "metadata": {},
   "outputs": [],
   "source": [
    "df.isna().sum()"
   ]
  },
  {
   "cell_type": "code",
   "execution_count": null,
   "metadata": {},
   "outputs": [],
   "source": [
    "df.drop([\"Customer Email\",\"Customer Password\",\"Product Image\",\"Customer Fname\",\"Customer Fname\"],axis=1,inplace=True)"
   ]
  },
  {
   "cell_type": "code",
   "execution_count": null,
   "metadata": {},
   "outputs": [],
   "source": [
    "df.head()"
   ]
  },
  {
   "cell_type": "code",
   "execution_count": null,
   "metadata": {},
   "outputs": [],
   "source": [
    "df.rename(columns={\"Type\":\"Type Of Payments\"},inplace=True)"
   ]
  },
  {
   "cell_type": "code",
   "execution_count": null,
   "metadata": {},
   "outputs": [],
   "source": [
    "df.info()"
   ]
  },
  {
   "cell_type": "markdown",
   "metadata": {},
   "source": [
    "# Data Anlysis and Visualization"
   ]
  },
  {
   "cell_type": "code",
   "execution_count": null,
   "metadata": {},
   "outputs": [],
   "source": [
    "import matplotlib.pyplot as plt\n",
    "import seaborn as sns\n",
    "import plotly.express as px"
   ]
  },
  {
   "cell_type": "markdown",
   "metadata": {},
   "source": [
    "Order status "
   ]
  },
  {
   "cell_type": "code",
   "execution_count": null,
   "metadata": {},
   "outputs": [],
   "source": [
    "df1=df[\"Order Status\"].value_counts()\n",
    "df1"
   ]
  },
  {
   "cell_type": "code",
   "execution_count": null,
   "metadata": {},
   "outputs": [],
   "source": [
    "label=[\"COMPLETE\",\"PENDING_PAYMENT\",\"PROCESSING\",\"PENDING\",\"CLOSED\",\"ON_HOLD\",\"SUSPECTED_FRAUD\",\"CANCELED\",\"PAYMENT_REVIEW\"]\n",
    "plt.pie(df1,labels=label, autopct='%1.2f%%')\n",
    "plt.title(\"Order Status\")"
   ]
  },
  {
   "cell_type": "markdown",
   "metadata": {},
   "source": [
    "How many successfully processed orders have days for shipping real (Real) > Days for shipment (Scheduled)"
   ]
  },
  {
   "cell_type": "code",
   "execution_count": null,
   "metadata": {},
   "outputs": [],
   "source": [
    "suc_pro=df[(df[\"Days for shipping (real)\"])>(df[\"Days for shipment (scheduled)\"])]"
   ]
  },
  {
   "cell_type": "code",
   "execution_count": null,
   "metadata": {},
   "outputs": [],
   "source": [
    "suc_pro=suc_pro[(suc_pro[\"Order Status\"]== \"COMPLETE\")]\n",
    "suc_pro"
   ]
  },
  {
   "cell_type": "code",
   "execution_count": null,
   "metadata": {},
   "outputs": [],
   "source": [
    "#by country\n",
    "\n",
    "delivery_status=suc_pro.groupby([\"Order Country\"])[\"Order Status\"].count().reset_index(name=\"Number of orders\")\n",
    "px.bar(delivery_status,x=delivery_status[\"Order Country\"],y=delivery_status[\"Number of orders\"],\n",
    "       color=delivery_status[\"Number of orders\"],\n",
    "       labels={\"Order Country\":\"Order Country\",\"Number of orders\":\"Number of orders\"})\n"
   ]
  },
  {
   "cell_type": "markdown",
   "metadata": {},
   "source": [
    "List of country and number of pending orders in \"Australia\""
   ]
  },
  {
   "cell_type": "code",
   "execution_count": null,
   "metadata": {},
   "outputs": [],
   "source": [
    "pending_cities=df[(df[\"Order Country\"]==\"Australia\") & (df[\"Order Status\"]==\"PENDING\")]\n",
    "pending_cities"
   ]
  },
  {
   "cell_type": "markdown",
   "metadata": {},
   "source": [
    "Which country and city has maximum pending order"
   ]
  },
  {
   "cell_type": "code",
   "execution_count": null,
   "metadata": {},
   "outputs": [],
   "source": [
    "order_pending=df[df[\"Order Status\"]==\"PENDING\"]\n",
    "order_pending"
   ]
  },
  {
   "cell_type": "code",
   "execution_count": null,
   "metadata": {},
   "outputs": [],
   "source": [
    "#order country\n",
    "order_pending[\"Order Country\"].value_counts()"
   ]
  },
  {
   "cell_type": "code",
   "execution_count": null,
   "metadata": {},
   "outputs": [],
   "source": [
    "order_pending[\"Order Country\"].value_counts().nlargest(10).plot.bar(figsize=(10,5), title=\"Countries with Pending Status\")"
   ]
  },
  {
   "cell_type": "code",
   "execution_count": null,
   "metadata": {},
   "outputs": [],
   "source": [
    "#order city\n",
    "order_pending[\"Order City\"].value_counts()"
   ]
  },
  {
   "cell_type": "code",
   "execution_count": null,
   "metadata": {},
   "outputs": [],
   "source": [
    "order_pending[\"Order City\"].value_counts().nlargest(10).plot.bar(figsize=(10,5), title=\"Cities with Pending Status\")"
   ]
  },
  {
   "cell_type": "markdown",
   "metadata": {},
   "source": [
    "Total number of different countries"
   ]
  },
  {
   "cell_type": "code",
   "execution_count": null,
   "metadata": {},
   "outputs": [],
   "source": [
    "df['Order Country'].nunique()"
   ]
  },
  {
   "cell_type": "code",
   "execution_count": null,
   "metadata": {},
   "outputs": [],
   "source": [
    "df['Order Country'].value_counts()"
   ]
  },
  {
   "cell_type": "markdown",
   "metadata": {},
   "source": [
    "Which country has most suspected Fraud "
   ]
  },
  {
   "cell_type": "code",
   "execution_count": null,
   "metadata": {},
   "outputs": [],
   "source": [
    "fraud_detected=df[df[\"Order Status\"]==\"SUSPECTED_FRAUD\"]\n",
    "fraud_detected"
   ]
  },
  {
   "cell_type": "code",
   "execution_count": null,
   "metadata": {
    "scrolled": true
   },
   "outputs": [],
   "source": [
    "#order Country\n",
    "plt.figure(figsize=(50,5))\n",
    "\n",
    "ax=sns.countplot(data=fraud_detected,x=\"Order Country\")\n",
    "ax.set_xticklabels(ax.get_xticklabels(),rotation=80)\n",
    "for i in ax.containers:\n",
    "    ax.bar_label(i,)\n",
    "\n",
    "plt.show()"
   ]
  },
  {
   "cell_type": "code",
   "execution_count": null,
   "metadata": {},
   "outputs": [],
   "source": [
    "#customer country\n",
    "fraud_detected[\"Customer Country\"].value_counts()"
   ]
  },
  {
   "cell_type": "code",
   "execution_count": null,
   "metadata": {},
   "outputs": [],
   "source": [
    "\n",
    "ax=sns.countplot(data=fraud_detected,x=\"Customer Country\")\n",
    "ax.set_xticklabels(ax.get_xticklabels(),rotation=80)\n",
    "for i in ax.containers:\n",
    "    ax.bar_label(i,)\n",
    "plt.show()"
   ]
  },
  {
   "cell_type": "markdown",
   "metadata": {},
   "source": [
    "Which product has maximum discount"
   ]
  },
  {
   "cell_type": "code",
   "execution_count": null,
   "metadata": {},
   "outputs": [],
   "source": [
    "df2=pd.DataFrame(df, columns=[\"Product Name\",\"Order Item Discount\"])\n",
    "df2.groupby([\"Product Name\",\"Order Item Discount\"]).sum().sort_values(by=\"Order Item Discount\",ascending=False).head(1)"
   ]
  },
  {
   "cell_type": "markdown",
   "metadata": {},
   "source": [
    "Delivery Status"
   ]
  },
  {
   "cell_type": "code",
   "execution_count": null,
   "metadata": {},
   "outputs": [],
   "source": [
    "#By Order\n",
    "delivery_status=df.groupby([\"Delivery Status\"])[\"Order Id\"].count().reset_index(name=\"Number of orders\")\n",
    "px.bar(delivery_status,x=delivery_status[\"Delivery Status\"],y=delivery_status[\"Number of orders\"],\n",
    "       labels={\"Delivery Status\":\"Delivery Status\",\"Number of orders\":\"Number of orders\"},\n",
    "      title=\"Categorised Orders with delivery status\")\n"
   ]
  },
  {
   "cell_type": "code",
   "execution_count": null,
   "metadata": {},
   "outputs": [],
   "source": [
    "#By Order Ragion\n",
    "delivery_status_region=df.groupby([\"Delivery Status\",\"Order Region\"])[\"Order Id\"].count().reset_index(name=\"Number of orders\")\n",
    "px.bar(delivery_status_region,x=\"Delivery Status\",y=\"Number of orders\",\n",
    "       color=delivery_status_region[\"Order Region\"],\n",
    "       labels={\"Delivery Status\":\"Delivery Status\",\"Number of orders\":\"Number of orders\"})"
   ]
  },
  {
   "cell_type": "markdown",
   "metadata": {},
   "source": [
    "Which item has maximum profit ratio"
   ]
  },
  {
   "cell_type": "code",
   "execution_count": null,
   "metadata": {},
   "outputs": [],
   "source": [
    "profit_data=df.groupby([\"Product Name\"])[\"Order Item Profit Ratio\"].count().reset_index(name=\"Profit\").sort_values(by=\"Profit\",ascending=False).head(10)\n",
    "px.bar(profit_data,x=profit_data[\"Product Name\"],y=profit_data[\"Profit\"],\n",
    "        labels={\"Product Name\":\"Product Name\",\"Profit\":\"Profit\"})"
   ]
  },
  {
   "cell_type": "markdown",
   "metadata": {},
   "source": [
    "Top 10 Customer by profit"
   ]
  },
  {
   "cell_type": "code",
   "execution_count": null,
   "metadata": {},
   "outputs": [],
   "source": [
    "df[\"Customer_ID_STR\"]=df['Customer Id'].astype(str)\n",
    "\n",
    "customer_profit=df.groupby([\"Customer_ID_STR\"])[\"Order Profit Per Order\"].sum().reset_index(name=\"Profit\").sort_values(by=\"Profit\",ascending=False).head(10)\n",
    "px.bar(customer_profit,x=customer_profit[\"Profit\"],y=customer_profit[\"Customer_ID_STR\"],\n",
    "       color=customer_profit[\"Profit\"],\n",
    "       labels={\"Customer_ID_STR\":\"Customer_ID_STR\",\"Profit\":\"Profit\"},\n",
    "      title=\"Which customer is has maximum profit\")"
   ]
  },
  {
   "cell_type": "markdown",
   "metadata": {},
   "source": [
    "Types of payment modes"
   ]
  },
  {
   "cell_type": "code",
   "execution_count": null,
   "metadata": {},
   "outputs": [],
   "source": [
    "df1=df[\"Type Of Payments\"].value_counts()\n",
    "df1"
   ]
  },
  {
   "cell_type": "code",
   "execution_count": null,
   "metadata": {},
   "outputs": [],
   "source": [
    "#By Customer City\n",
    "\n",
    "payment_mode=df.groupby([\"Type Of Payments\",\"Customer City\"])[\"Order Id\"].sum().reset_index(name=\"Number of orders\").sort_values(by=\"Number of orders\",ascending=False)\n",
    "px.bar(payment_mode,x=\"Type Of Payments\",y=\"Number of orders\",\n",
    "       color=payment_mode[\"Customer City\"],\n",
    "       labels={\"Type Of Payments\":\"Type Of Payments\",\"Number of orders\":\"Number of orders\"})"
   ]
  },
  {
   "cell_type": "markdown",
   "metadata": {},
   "source": [
    "Type of shipping mode"
   ]
  },
  {
   "cell_type": "code",
   "execution_count": null,
   "metadata": {},
   "outputs": [],
   "source": [
    "df1=df[\"Shipping Mode\"].value_counts()\n",
    "df1"
   ]
  },
  {
   "cell_type": "code",
   "execution_count": null,
   "metadata": {},
   "outputs": [],
   "source": [
    "label=[\"Standard Class\",\"Second Class\",\"First Class\",\"Same Day\"]\n",
    "plt.pie(df1,labels=label, autopct=\"%.2f%%\")\n",
    "plt.title(\"Shipping Status\")"
   ]
  },
  {
   "cell_type": "code",
   "execution_count": null,
   "metadata": {},
   "outputs": [],
   "source": [
    "# By Ragion\n",
    "\n",
    "shipping_mode_region=df.groupby([\"Shipping Mode\",\"Order Region\"])[\"Order Id\"].sum().reset_index(name=\"Number of orders\")\n",
    "px.bar(shipping_mode_region,x=\"Shipping Mode\",y=\"Number of orders\",\n",
    "       color=shipping_mode_region[\"Order Region\"],\n",
    "       labels={\"Shipping Mode\":\"Shipping Mode\",\"Number of orders\":\"Number of orders\"})"
   ]
  },
  {
   "cell_type": "markdown",
   "metadata": {},
   "source": [
    "Which product has maximum price"
   ]
  },
  {
   "cell_type": "code",
   "execution_count": null,
   "metadata": {},
   "outputs": [],
   "source": [
    "df2=pd.DataFrame(df, columns=[\"Product Name\",\"Product Price\"])\n",
    "df2.groupby([\"Product Name\",\"Product Price\"]).sum().sort_values(by=\"Product Price\",ascending=False)\n"
   ]
  },
  {
   "cell_type": "markdown",
   "metadata": {},
   "source": [
    "Customer segment"
   ]
  },
  {
   "cell_type": "code",
   "execution_count": null,
   "metadata": {},
   "outputs": [],
   "source": [
    "df1=df[\"Customer Segment\"].value_counts()\n",
    "df1"
   ]
  },
  {
   "cell_type": "code",
   "execution_count": null,
   "metadata": {},
   "outputs": [],
   "source": [
    "label=[\"Consumer\",\"Corporate\",\"Home Office\"]\n",
    "plt.pie(df1,labels=label, autopct=\"%.2f%%\")\n",
    "plt.title(\"Customer Segment\")"
   ]
  },
  {
   "cell_type": "markdown",
   "metadata": {},
   "source": [
    "Maximum Category Orders"
   ]
  },
  {
   "cell_type": "code",
   "execution_count": null,
   "metadata": {},
   "outputs": [],
   "source": [
    "category_name=df.groupby([\"Category Name\"])[\"Order Id\"].count().reset_index(name=\"Orders\").sort_values(by=\"Orders\",ascending=True)\n",
    "px.bar(category_name,x=category_name[\"Orders\"],y=category_name[\"Category Name\"],\n",
    "       color=category_name[\"Orders\"],\n",
    "       labels={\"Category Name\":\"Category Name\",\"Orders\":\"Orders\"},\n",
    "      title=\"Maximum Category Orders\")"
   ]
  },
  {
   "cell_type": "markdown",
   "metadata": {},
   "source": [
    "Order benefits per order in specific country"
   ]
  },
  {
   "cell_type": "code",
   "execution_count": null,
   "metadata": {},
   "outputs": [],
   "source": [
    "geo_df = df.groupby(['Order Country'])['Benefit per order'].count().reset_index(name='total order').sort_values(by='total order',ascending=True)\n",
    "fig = px.choropleth(geo_df ,  locationmode='country names', locations='Order Country',\n",
    "                    color='total order',hover_name='Order Country')\n",
    "fig.show()                                                                                                                "
   ]
  },
  {
   "cell_type": "markdown",
   "metadata": {},
   "source": [
    "Sales per year,month and day date"
   ]
  },
  {
   "cell_type": "code",
   "execution_count": null,
   "metadata": {},
   "outputs": [],
   "source": [
    "df['year'] = df['order date (DateOrders)'].apply(lambda x: x.split('/')[-1].split(' ')[0])"
   ]
  },
  {
   "cell_type": "code",
   "execution_count": null,
   "metadata": {},
   "outputs": [],
   "source": [
    "df['month'] = df['order date (DateOrders)'].apply(lambda x: x.split('/')[0].split(' ')[0])"
   ]
  },
  {
   "cell_type": "code",
   "execution_count": null,
   "metadata": {},
   "outputs": [],
   "source": [
    "df['day date'] = df['order date (DateOrders)'].apply(lambda x: x.split('/')[1].split(' ')[0])"
   ]
  },
  {
   "cell_type": "code",
   "execution_count": null,
   "metadata": {},
   "outputs": [],
   "source": [
    "\n",
    "plt.figure(figsize = (12,5))\n",
    "plt.title('Year v/s Sales of Products')\n",
    "ax=sns.barplot(x = 'year', \n",
    "            y = 'Sales', \n",
    "              order=[\"2015\",\"2016\",\"2017\",\"2018\"],\n",
    "            data = df);\n",
    "for i in ax.containers:\n",
    "    ax.bar_label(i,)\n",
    "\n",
    "plt.figure(figsize = (12,5))\n",
    "df[\"month\"]=df[\"month\"].replace(['1','2','3','4','5','6','7','8','9','10','11','12'],[\"January\",\"February\", \"March\", \"April\", \"May\", \"June\", \"July\", \"August\", \"September\", \"October\", \"November\",\"December\"])\n",
    "plt.title('Month v/s Sales of Products')\n",
    "ax=sns.barplot(x = 'month', \n",
    "            y = 'Sales',\n",
    "            order=[\"January\",\"February\", \"March\", \"April\", \"May\", \"June\", \"July\", \"August\", \"September\", \"October\", \"November\",\"December\"],\n",
    "            data=df);\n",
    "for i in ax.containers:\n",
    "    ax.bar_label(i,)\n",
    "    \n",
    "plt.figure(figsize = (12,5))\n",
    "plt.title('date v/s Sales of Products')\n",
    "ax=sns.barplot(x = 'day date', \n",
    "            y = 'Sales', \n",
    "            order=['1','2','3','4','5','6','7','8','9','10','11','12','13','14','15','16','17','18','19','20','21','22','23','24','25','26','27','28','29','30','31'],\n",
    "            data = df);\n",
    "for i in ax.containers:\n",
    "    ax.bar_label(i,rotation=80)\n",
    "plt.show()"
   ]
  },
  {
   "cell_type": "markdown",
   "metadata": {},
   "source": [
    "# Data Modeling"
   ]
  },
  {
   "cell_type": "markdown",
   "metadata": {},
   "source": [
    "Encoding label"
   ]
  },
  {
   "cell_type": "code",
   "execution_count": null,
   "metadata": {},
   "outputs": [],
   "source": [
    "from sklearn.preprocessing import LabelEncoder"
   ]
  },
  {
   "cell_type": "code",
   "execution_count": null,
   "metadata": {},
   "outputs": [],
   "source": [
    "le=LabelEncoder()\n",
    "def Labelencoder_feature(x):\n",
    "    le=LabelEncoder()\n",
    "    x=le.fit_transform(x)\n",
    "    return x"
   ]
  },
  {
   "cell_type": "markdown",
   "metadata": {},
   "source": [
    "Forcasting sales of different product"
   ]
  },
  {
   "cell_type": "code",
   "execution_count": null,
   "metadata": {},
   "outputs": [],
   "source": [
    "data_sales=df[['Type Of Payments','Benefit per order', 'Sales per customer', 'Delivery Status','Late_delivery_risk', \n",
    "             'Category Name', 'Customer City','Customer Country','Customer Id','Customer Segment',\n",
    "             'Customer State', 'Customer Zipcode','Department Name', 'Latitude', 'Longitude', 'Market',\n",
    "             'Order City', 'Order Country', 'Order Customer Id','order date (DateOrders)', 'Order Id', \n",
    "             'Order Item Cardprod Id','Order Item Discount', 'Order Item Discount Rate', 'Order Item Id',\n",
    "             'Order Item Product Price', 'Order Item Profit Ratio','Order Item Quantity', 'Sales', \n",
    "             'Order Item Total','Order Profit Per Order', 'Order Region', 'Order State', 'Order Status',\n",
    "             'Order Zipcode', 'Product Card Id', 'Product Category Id','Product Description', \n",
    "             'Product Name', 'Product Price','Product Status', 'shipping date (DateOrders)', 'Shipping Mode']]"
   ]
  },
  {
   "cell_type": "code",
   "execution_count": null,
   "metadata": {},
   "outputs": [],
   "source": [
    "features=data_sales.drop(columns=['Sales', 'Order Item Quantity', 'Order Item Product Price'])\n",
    "target=data_sales['Sales'].astype(str)\n"
   ]
  },
  {
   "cell_type": "code",
   "execution_count": null,
   "metadata": {},
   "outputs": [],
   "source": [
    "features=features.apply(Labelencoder_feature)\n",
    "features.head()"
   ]
  },
  {
   "cell_type": "code",
   "execution_count": null,
   "metadata": {},
   "outputs": [],
   "source": [
    "final_features=features[['Benefit per order', 'Sales per customer', 'Category Name',\n",
    "       'Customer Id', 'Customer Segment', 'Department Name', 'Market',\n",
    "       'Order City', 'Order Customer Id', 'order date (DateOrders)',\n",
    "       'Order Id', 'Order Item Cardprod Id', 'Order Item Discount',\n",
    "       'Order Item Id', 'Order Item Total', 'Order Profit Per Order',\n",
    "       'Order Region', 'Order State', 'Order Zipcode', 'Product Card Id',\n",
    "       'Product Category Id', 'Product Name', 'Product Price',\n",
    "       'shipping date (DateOrders)']]"
   ]
  },
  {
   "cell_type": "code",
   "execution_count": null,
   "metadata": {},
   "outputs": [],
   "source": [
    "final_features\n"
   ]
  },
  {
   "cell_type": "code",
   "execution_count": null,
   "metadata": {},
   "outputs": [],
   "source": [
    "final_data=pd.concat([final_features,target],axis=1)\n",
    "final_data.columns"
   ]
  },
  {
   "cell_type": "code",
   "execution_count": null,
   "metadata": {},
   "outputs": [],
   "source": [
    "fig=plt.figure(figsize=(20,10))\n",
    "sns.heatmap(final_data.corr(),annot=True,fmt=\".3f\",cmap=\"BuPu\")"
   ]
  },
  {
   "cell_type": "code",
   "execution_count": null,
   "metadata": {},
   "outputs": [],
   "source": [
    "from sklearn.linear_model import LinearRegression\n",
    "from sklearn.model_selection import train_test_split\n",
    "from sklearn.metrics import classification_report\n",
    "from sklearn import *\n",
    "from sklearn.metrics import r2_score\n",
    "from sklearn.metrics import mean_squared_error\n",
    "from sklearn.metrics import confusion_matrix\n",
    "from sklearn.metrics import ConfusionMatrixDisplay\n",
    "from sklearn.linear_model import Lasso\n",
    "from sklearn.preprocessing import StandardScaler\n",
    "from sklearn.pipeline import Pipeline\n",
    "from sklearn.metrics import mean_absolute_error\n",
    "from sklearn.linear_model import Ridge\n",
    "from sklearn.preprocessing import *\n",
    "from sklearn.tree import DecisionTreeClassifier\n",
    "from sklearn.metrics import classification_report, confusion_matrix\n",
    "from sklearn.ensemble import RandomForestClassifier\n",
    "from sklearn.ensemble import GradientBoostingClassifier\n",
    "from sklearn import svm\n",
    "from sklearn.naive_bayes import GaussianNB  \n",
    "from sklearn.neighbors import KNeighborsClassifier\n",
    "import pickle"
   ]
  },
  {
   "cell_type": "markdown",
   "metadata": {},
   "source": [
    "LinearRegression model"
   ]
  },
  {
   "cell_type": "code",
   "execution_count": null,
   "metadata": {},
   "outputs": [],
   "source": [
    "X_train,X_test,y_train,y_test=train_test_split(final_features,target,test_size=0.3)"
   ]
  },
  {
   "cell_type": "code",
   "execution_count": null,
   "metadata": {},
   "outputs": [],
   "source": [
    "linReg=LinearRegression()\n",
    "linmodel=linReg.fit(X_train,y_train)"
   ]
  },
  {
   "cell_type": "code",
   "execution_count": null,
   "metadata": {},
   "outputs": [],
   "source": [
    "y_pred =linReg.predict(X_test)\n",
    "y_pred"
   ]
  },
  {
   "cell_type": "code",
   "execution_count": null,
   "metadata": {},
   "outputs": [],
   "source": [
    "ln_score=r2_score(y_test,y_pred)\n",
    "print(\"r2 socre is:\" ,ln_score)\n",
    "print(\"mean_sqrd_error is\",mean_squared_error(y_test,y_pred))\n",
    "print(\"root_mean_squared error of is\",np.sqrt(mean_squared_error(y_test,y_pred)))"
   ]
  },
  {
   "cell_type": "code",
   "execution_count": null,
   "metadata": {},
   "outputs": [],
   "source": [
    "lin_train_predict = pd.DataFrame({'actual' : y_train,\n",
    "                                 'predicted' : linmodel.predict(X_train)})\n",
    "lin_train_predict.head(10)"
   ]
  },
  {
   "cell_type": "markdown",
   "metadata": {},
   "source": [
    "Lasso"
   ]
  },
  {
   "cell_type": "code",
   "execution_count": null,
   "metadata": {},
   "outputs": [],
   "source": [
    "X_train,X_test,y_train,y_test=train_test_split(final_features,target,test_size=0.3)"
   ]
  },
  {
   "cell_type": "code",
   "execution_count": null,
   "metadata": {},
   "outputs": [],
   "source": [
    "lasReg=Lasso()\n",
    "lasmodel=lasReg.fit(X_train,y_train)"
   ]
  },
  {
   "cell_type": "code",
   "execution_count": null,
   "metadata": {},
   "outputs": [],
   "source": [
    "y_prediction =lasReg.predict(X_test)\n",
    "y_prediction"
   ]
  },
  {
   "cell_type": "code",
   "execution_count": null,
   "metadata": {},
   "outputs": [],
   "source": [
    "ls_score=r2_score(y_test,y_prediction)\n",
    "print(\"r2 socre is:\" ,ls_score)\n",
    "print(\"mean_sqrd_error is\",mean_squared_error(y_test,y_prediction))\n",
    "print(\"root_mean_squared error of is\",np.sqrt(mean_squared_error(y_test,y_prediction)))"
   ]
  },
  {
   "cell_type": "markdown",
   "metadata": {},
   "source": [
    "Ridge regression"
   ]
  },
  {
   "cell_type": "code",
   "execution_count": null,
   "metadata": {},
   "outputs": [],
   "source": [
    "X_train,X_test,y_train,y_test=train_test_split(final_features,target,test_size=0.3)"
   ]
  },
  {
   "cell_type": "code",
   "execution_count": null,
   "metadata": {},
   "outputs": [],
   "source": [
    "ridReg=Ridge()\n",
    "ridmodel=ridReg.fit(X_train,y_train)"
   ]
  },
  {
   "cell_type": "code",
   "execution_count": null,
   "metadata": {},
   "outputs": [],
   "source": [
    "y_prediction =ridReg.predict(X_test)\n",
    "y_prediction"
   ]
  },
  {
   "cell_type": "code",
   "execution_count": null,
   "metadata": {},
   "outputs": [],
   "source": [
    "rd_score=r2_score(y_test,y_prediction)\n",
    "print(\"r2 socre is:\" ,rd_score)\n",
    "print(\"mean_sqrd_error is\",mean_squared_error(y_test,y_prediction))\n",
    "print(\"root_mean_squared error of is\",np.sqrt(mean_squared_error(y_test,y_prediction)))"
   ]
  },
  {
   "cell_type": "markdown",
   "metadata": {},
   "source": [
    "KNN"
   ]
  },
  {
   "cell_type": "code",
   "execution_count": null,
   "metadata": {},
   "outputs": [],
   "source": [
    "X_train,X_test,y_train,y_test=train_test_split(final_features,target,test_size=0.3)"
   ]
  },
  {
   "cell_type": "code",
   "execution_count": null,
   "metadata": {},
   "outputs": [],
   "source": [
    "knncls=KNeighborsClassifier()\n",
    "knncls.fit(X_train,y_train)"
   ]
  },
  {
   "cell_type": "code",
   "execution_count": null,
   "metadata": {},
   "outputs": [],
   "source": [
    "y_prediction =knncls.predict(X_test)\n",
    "y_prediction"
   ]
  },
  {
   "cell_type": "code",
   "execution_count": null,
   "metadata": {},
   "outputs": [],
   "source": [
    "knn_score=r2_score(y_test,y_prediction)\n",
    "print(\"r2 socre is:\" ,knn_score)\n",
    "print(\"mean_sqrd_error is\",mean_squared_error(y_test,y_prediction))\n",
    "print(\"root_mean_squared error of is\",np.sqrt(mean_squared_error(y_test,y_prediction)))"
   ]
  },
  {
   "cell_type": "code",
   "execution_count": null,
   "metadata": {},
   "outputs": [],
   "source": [
    "print(classification_report(y_test,y_prediction))"
   ]
  },
  {
   "cell_type": "markdown",
   "metadata": {},
   "source": [
    "Naive bayes"
   ]
  },
  {
   "cell_type": "code",
   "execution_count": null,
   "metadata": {},
   "outputs": [],
   "source": [
    "X_train,X_test,y_train,y_test=train_test_split(final_features,target,test_size=0.3)"
   ]
  },
  {
   "cell_type": "code",
   "execution_count": null,
   "metadata": {},
   "outputs": [],
   "source": [
    "sc=StandardScaler()"
   ]
  },
  {
   "cell_type": "code",
   "execution_count": null,
   "metadata": {},
   "outputs": [],
   "source": [
    "x_scaler=sc.fit_transform(final_features)"
   ]
  },
  {
   "cell_type": "code",
   "execution_count": null,
   "metadata": {},
   "outputs": [],
   "source": [
    "pipe=Pipeline(steps=[(\"sc\",sc),(\"Guaasinnb\", GaussianNB())])"
   ]
  },
  {
   "cell_type": "code",
   "execution_count": null,
   "metadata": {
    "scrolled": true
   },
   "outputs": [],
   "source": [
    "pipe.fit(X_train, y_train)"
   ]
  },
  {
   "cell_type": "code",
   "execution_count": null,
   "metadata": {},
   "outputs": [],
   "source": [
    "gu_Score=pipe.score(X_test, y_test)\n",
    "gu_Score"
   ]
  },
  {
   "cell_type": "markdown",
   "metadata": {},
   "source": [
    "SVM"
   ]
  },
  {
   "cell_type": "code",
   "execution_count": null,
   "metadata": {},
   "outputs": [],
   "source": [
    "X_train,X_test,y_train,y_test=train_test_split(final_features,target,test_size=0.3)"
   ]
  },
  {
   "cell_type": "code",
   "execution_count": null,
   "metadata": {},
   "outputs": [],
   "source": [
    "svmcls=svm.SVC()\n",
    "svmodel=svmcls.fit(X_train,y_train)"
   ]
  },
  {
   "cell_type": "code",
   "execution_count": null,
   "metadata": {},
   "outputs": [],
   "source": [
    "y_prediction =svmcls.predict(X_test)\n",
    "y_prediction"
   ]
  },
  {
   "cell_type": "code",
   "execution_count": null,
   "metadata": {},
   "outputs": [],
   "source": [
    "svc_score=r2_score(y_test,y_prediction)\n",
    "print(\"r2 socre is:\" ,svc_score)\n",
    "print(\"mean_sqrd_error is\",mean_squared_error(y_test,y_prediction))\n",
    "print(\"root_mean_squared error of is\",np.sqrt(mean_squared_error(y_test,y_prediction)))"
   ]
  },
  {
   "cell_type": "markdown",
   "metadata": {},
   "source": [
    "Gradient Boost"
   ]
  },
  {
   "cell_type": "code",
   "execution_count": null,
   "metadata": {},
   "outputs": [],
   "source": [
    "X_train,X_test,y_train,y_test=train_test_split(final_features,target,test_size=0.3)"
   ]
  },
  {
   "cell_type": "code",
   "execution_count": null,
   "metadata": {
    "scrolled": true
   },
   "outputs": [],
   "source": [
    "xgbcls=GradientBoostingClassifier()\n",
    "xgbmodel=xgbcls.fit(X_train,y_train)"
   ]
  },
  {
   "cell_type": "code",
   "execution_count": null,
   "metadata": {},
   "outputs": [],
   "source": [
    "y_prediction =xgbcls.predict(X_test)\n",
    "y_prediction"
   ]
  },
  {
   "cell_type": "code",
   "execution_count": null,
   "metadata": {},
   "outputs": [],
   "source": [
    "gb_score=r2_score(y_test,y_prediction)\n",
    "print(\"r2 socre is:\" ,gb_score)\n",
    "print(\"mean_sqrd_error is\",mean_squared_error(y_test,y_prediction))\n",
    "print(\"root_mean_squared error of is\",np.sqrt(mean_squared_error(y_test,y_prediction)))"
   ]
  },
  {
   "cell_type": "markdown",
   "metadata": {},
   "source": [
    "decison tree"
   ]
  },
  {
   "cell_type": "code",
   "execution_count": null,
   "metadata": {},
   "outputs": [],
   "source": [
    "X_train,X_test,y_train,y_test=train_test_split(final_features,target,test_size=0.3)"
   ]
  },
  {
   "cell_type": "code",
   "execution_count": null,
   "metadata": {},
   "outputs": [],
   "source": [
    "dectreecls=DecisionTreeClassifier()\n",
    "dectreecls.fit(X_train,y_train)"
   ]
  },
  {
   "cell_type": "code",
   "execution_count": null,
   "metadata": {},
   "outputs": [],
   "source": [
    "y_prediction =dectreecls.predict(X_test)\n",
    "y_prediction"
   ]
  },
  {
   "cell_type": "code",
   "execution_count": null,
   "metadata": {},
   "outputs": [],
   "source": [
    "dt_score=r2_score(y_test,y_prediction)\n",
    "print(\"r2 socre is:\" ,dt_score)\n",
    "print(\"mean_sqrd_error is\",mean_squared_error(y_test,y_prediction))\n",
    "print(\"root_mean_squared error of is\",np.sqrt(mean_squared_error(y_test,y_prediction)))"
   ]
  },
  {
   "cell_type": "markdown",
   "metadata": {},
   "source": [
    "Random Forest"
   ]
  },
  {
   "cell_type": "code",
   "execution_count": null,
   "metadata": {},
   "outputs": [],
   "source": [
    "X_train,X_test,y_train,y_test=train_test_split(final_features,target,test_size=0.3)"
   ]
  },
  {
   "cell_type": "code",
   "execution_count": null,
   "metadata": {},
   "outputs": [],
   "source": [
    "rfcls=RandomForestClassifier(random_state=42)\n",
    "rfmodel=rfcls.fit(X_train,y_train)"
   ]
  },
  {
   "cell_type": "code",
   "execution_count": null,
   "metadata": {},
   "outputs": [],
   "source": [
    "y_prediction =rfcls.predict(X_test)\n",
    "y_prediction"
   ]
  },
  {
   "cell_type": "code",
   "execution_count": null,
   "metadata": {},
   "outputs": [],
   "source": [
    "rf_score=r2_score(y_test,y_prediction)\n",
    "print(\"r2 socre is:\" ,rf_score)\n",
    "print(\"mean_sqrd_error is\",mean_squared_error(y_test,y_prediction))\n",
    "print(\"root_mean_squared error of is\",np.sqrt(mean_squared_error(y_test,y_prediction)))"
   ]
  },
  {
   "cell_type": "code",
   "execution_count": null,
   "metadata": {},
   "outputs": [],
   "source": [
    "cm=confusion_matrix(y_test, y_prediction)\n",
    "cm"
   ]
  },
  {
   "cell_type": "code",
   "execution_count": null,
   "metadata": {
    "scrolled": true
   },
   "outputs": [],
   "source": [
    "print(classification_report(y_test,y_prediction))"
   ]
  },
  {
   "cell_type": "code",
   "execution_count": null,
   "metadata": {},
   "outputs": [],
   "source": [
    "import plotly.graph_objs as go\n",
    "fig = go.Figure()\n",
    "fig.add_trace(go.Scatter(x=y_test, y=y_prediction, mode='markers' ,  name='predicted vs actual'))\n",
    "fig.add_trace(go.Scatter(x=y_test , y=y_test, mode='lines' , name='actual'))\n",
    "\n",
    "\n",
    "fig.update_layout(title='actual Sales vs predicted Sales', xaxis_title= 'Actual Score', yaxis_title = 'Predicted Score' , template= 'plotly_dark')"
   ]
  },
  {
   "cell_type": "markdown",
   "metadata": {},
   "source": [
    "All algorithms accurcy in tabale"
   ]
  },
  {
   "cell_type": "code",
   "execution_count": null,
   "metadata": {},
   "outputs": [],
   "source": [
    "from tabulate import tabulate\n",
    "data = [[\"Linear Regression\", \"0.79998\"], \n",
    "        [\"Lasso Regressor\", \"0.78626\"], \n",
    "        [\"Ridge Regressor\", \"0.78782\"], \n",
    "        [\"KNN Classifier\",\"0.56420\"],\n",
    "        [\"Gaussian Naive bayes\",\"0.91400\"],\n",
    "        [\"SVC Classifier\",\"0.46160\"],\n",
    "        [\"Gradient Boost\",\"0.64219\"],\n",
    "        [\"Random Forest\",\"0.99989\"],\n",
    "        [\"Decision Tree\",\"0.99969\"]]\n",
    "  \n",
    "col_names = [\"Algorithms\", \"Accuracy\"]\n",
    "  \n",
    "print(tabulate(data, headers=col_names))"
   ]
  },
  {
   "cell_type": "markdown",
   "metadata": {},
   "source": [
    "Create chart for accuracy of algorithms"
   ]
  },
  {
   "cell_type": "code",
   "execution_count": null,
   "metadata": {},
   "outputs": [],
   "source": [
    "plt.figure(figsize = (20,5))\n",
    "plt.bar([\"Linear Regression\",\"Lasso Regressor\",\"Ridge Regressor\",\"KNN Classifier\",\"Gaussian Naive bayes\",\n",
    "         \"SVC Classifier\",\"Gradient Boost\",\"Decision Tree\",\"Random Forest\"],\n",
    "    [0.79998,0.78626,0.78782,0.56420,0.91400,0.46160,0.64219,0.99969,0.99989],label=\"Accuracy\")\n",
    "plt.legend()\n",
    "plt.xlabel(\"Algorithms which are applied\")\n",
    "plt.ylabel(\"Accuracy\")\n",
    "plt.title(\"Accuracy of different algorithms\")\n",
    "\n",
    "plt.show()"
   ]
  },
  {
   "cell_type": "markdown",
   "metadata": {},
   "source": [
    "Here, Random forest's acuuracy is high from all model. So, store this model in pickle file"
   ]
  },
  {
   "cell_type": "code",
   "execution_count": null,
   "metadata": {},
   "outputs": [],
   "source": [
    "pickle.dump(rfcls, open('model.pkl', 'wb'))"
   ]
  },
  {
   "cell_type": "code",
   "execution_count": null,
   "metadata": {},
   "outputs": [],
   "source": []
  }
 ],
 "metadata": {
  "kernelspec": {
   "display_name": "Python 3",
   "language": "python",
   "name": "python3"
  },
  "language_info": {
   "codemirror_mode": {
    "name": "ipython",
    "version": 3
   },
   "file_extension": ".py",
   "mimetype": "text/x-python",
   "name": "python",
   "nbconvert_exporter": "python",
   "pygments_lexer": "ipython3",
   "version": "3.9.2"
  }
 },
 "nbformat": 4,
 "nbformat_minor": 4
}
